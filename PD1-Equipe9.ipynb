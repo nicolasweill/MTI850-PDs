{
 "cells": [
  {
   "cell_type": "markdown",
   "metadata": {},
   "source": [
    "# PD1: Building a word count application\n",
    "## MTI850 - Big Data Analytics\n",
    "#### V2.0 - Fall 2022<BR>V2.1 - Fall 2024"
   ]
  },
  {
   "cell_type": "markdown",
   "metadata": {},
   "source": [
    "<br>\n",
    "<br>    \n",
    "    \n",
    "| Equipe | 9                                   |\n",
    "|----------|---------------------------------------------------------|\n",
    "\n",
    "<br>\n",
    "<br>"
   ]
  },
  {
   "cell_type": "markdown",
   "metadata": {},
   "source": [
    " The volume of unstructured text in existence is growing dramatically, and Spark is an excellent tool for analyzing this type of data.  In this lab, we will write code that calculates the most common words in the [Complete Works of William Shakespeare](http://www.gutenberg.org/ebooks/100) retrieved from [Project Gutenberg](http://www.gutenberg.org). This could also be scaled to larger applications, such as finding the most common words in Wikipedia.\n",
    "\n",
    "In this PD we will cover:\n",
    " * *Part 1:* Creating a base DataFrame and performing operations\n",
    " * *Part 2:* Counting with Spark SQL and DataFrames\n",
    " * *Part 3:* Finding unique words and a mean value\n",
    " * *Part 4:* Apply word count to a file\n",
    " \n",
    "Note that for reference, you can look up the details of the relevant methods in [Spark's Python API](https://spark.apache.org/docs/latest/api/python/reference/index.html).\n"
   ]
  },
  {
   "cell_type": "markdown",
   "metadata": {},
   "source": [
    "## Spark Context Initialization and Imports"
   ]
  },
  {
   "cell_type": "code",
   "execution_count": 1,
   "metadata": {},
   "outputs": [
    {
     "name": "stderr",
     "output_type": "stream",
     "text": [
      "WARNING: Using incubator modules: jdk.incubator.vector\n",
      "Using Spark's default log4j profile: org/apache/spark/log4j2-defaults.properties\n",
      "Setting default log level to \"WARN\".\n",
      "To adjust logging level use sc.setLogLevel(newLevel). For SparkR, use setLogLevel(newLevel).\n",
      "25/09/24 12:11:42 WARN NativeCodeLoader: Unable to load native-hadoop library for your platform... using builtin-java classes where applicable\n"
     ]
    }
   ],
   "source": [
    "import findspark\n",
    "findspark.init()\n",
    "\n",
    "# Test module for MTI850\n",
    "import testmti850\n",
    "\n",
    "# Util module for MTI850\n",
    "import utilmti850\n",
    "\n",
    "import pyspark\n",
    "\n",
    "from pyspark.sql import SparkSession\n",
    "\n",
    "spark = SparkSession.builder \\\n",
    ".master(\"local\") \\\n",
    ".appName(\"Web Server Log Analysis\") \\\n",
    ".config(\"spark.some.config.option\", \"some-value\") \\\n",
    ".getOrCreate()"
   ]
  },
  {
   "cell_type": "markdown",
   "metadata": {},
   "source": [
    "## Part 1: Creating a base DataFrame and performing operations\n",
    "\n",
    "In this part of the lab, we will explore creating a base DataFrame with `spark.createDataFrame` and using DataFrame operations to count words.\n"
   ]
  },
  {
   "cell_type": "markdown",
   "metadata": {},
   "source": [
    "### (1a) Create a DataFrame\n",
    " \n",
    " We'll start by generating a base DataFrame by using a Python list of tuples and the `spark.createDataFrame` method. Then we'll print out the type and schema of the DataFrame. The Python API has several examples for using the [`createDataFrame` method](https://spark.apache.org/docs/latest/api/python/reference/pyspark.sql/api/pyspark.sql.DataFrame.html).\n"
   ]
  },
  {
   "cell_type": "code",
   "execution_count": 2,
   "metadata": {
    "scrolled": true
   },
   "outputs": [
    {
     "name": "stderr",
     "output_type": "stream",
     "text": [
      "[Stage 0:>                                                          (0 + 1) / 1]"
     ]
    },
    {
     "name": "stdout",
     "output_type": "stream",
     "text": [
      "+--------+\n",
      "|    word|\n",
      "+--------+\n",
      "|     cat|\n",
      "|elephant|\n",
      "|     rat|\n",
      "|     rat|\n",
      "|     cat|\n",
      "+--------+\n",
      "\n",
      "<class 'pyspark.sql.classic.dataframe.DataFrame'>\n",
      "root\n",
      " |-- word: string (nullable = true)\n",
      "\n"
     ]
    },
    {
     "name": "stderr",
     "output_type": "stream",
     "text": [
      "                                                                                "
     ]
    }
   ],
   "source": [
    "wordsDF = spark.createDataFrame([('cat',), ('elephant',), ('rat',), ('rat',), ('cat', )], ['word'])\n",
    "\n",
    "wordsDF.show()\n",
    "\n",
    "print (type(wordsDF))\n",
    "\n",
    "wordsDF.printSchema()"
   ]
  },
  {
   "cell_type": "markdown",
   "metadata": {},
   "source": [
    "### DataFrame Visualization\n",
    "\n",
    "For a better visualization of a DataFrame you can use 'DataFrame.limit().toPandas().head()'"
   ]
  },
  {
   "cell_type": "code",
   "execution_count": 3,
   "metadata": {},
   "outputs": [
    {
     "data": {
      "text/html": [
       "<div>\n",
       "<style scoped>\n",
       "    .dataframe tbody tr th:only-of-type {\n",
       "        vertical-align: middle;\n",
       "    }\n",
       "\n",
       "    .dataframe tbody tr th {\n",
       "        vertical-align: top;\n",
       "    }\n",
       "\n",
       "    .dataframe thead th {\n",
       "        text-align: right;\n",
       "    }\n",
       "</style>\n",
       "<table border=\"1\" class=\"dataframe\">\n",
       "  <thead>\n",
       "    <tr style=\"text-align: right;\">\n",
       "      <th></th>\n",
       "      <th>word</th>\n",
       "    </tr>\n",
       "  </thead>\n",
       "  <tbody>\n",
       "    <tr>\n",
       "      <th>0</th>\n",
       "      <td>cat</td>\n",
       "    </tr>\n",
       "    <tr>\n",
       "      <th>1</th>\n",
       "      <td>elephant</td>\n",
       "    </tr>\n",
       "    <tr>\n",
       "      <th>2</th>\n",
       "      <td>rat</td>\n",
       "    </tr>\n",
       "    <tr>\n",
       "      <th>3</th>\n",
       "      <td>rat</td>\n",
       "    </tr>\n",
       "    <tr>\n",
       "      <th>4</th>\n",
       "      <td>cat</td>\n",
       "    </tr>\n",
       "  </tbody>\n",
       "</table>\n",
       "</div>"
      ],
      "text/plain": [
       "       word\n",
       "0       cat\n",
       "1  elephant\n",
       "2       rat\n",
       "3       rat\n",
       "4       cat"
      ]
     },
     "execution_count": 3,
     "metadata": {},
     "output_type": "execute_result"
    }
   ],
   "source": [
    "wordsDF.limit(5).toPandas().head()"
   ]
  },
  {
   "cell_type": "markdown",
   "metadata": {},
   "source": [
    "\n",
    "### (1b) Using DataFrame functions to add an 's'\n",
    "\n",
    "Let's create a new DataFrame from `wordsDF` by performing an operation that adds an 's' to each word. To do this, we'll call the [`select` DataFrame function](https://spark.apache.org/docs/latest/api/python/reference/pyspark.sql/api/pyspark.sql.DataFrame.select) and pass in a column that has the recipe for adding an 's' to our existing column.  To generate this `Column` object you should use the [`concat` function](https://spark.apache.org/docs/latest/api/python/reference/pyspark.sql/api/pyspark.sql.functions.concat) found in the [`pyspark.sql.functions` module](https://spark.apache.org/docs/latest/api/python/reference/pyspark.sql/functions.html). Note that `concat` takes in two or more string columns and returns a single string column. In order to pass in a constant or literal value like 's', you'll need to wrap that value with the [`lit` column function](https://spark.apache.org/docs/latest/api/python/reference/pyspark.sql/api/pyspark.sql.functions.lit).\n",
    "\n",
    "Please replace `<FILL IN>` with your solution.\n",
    "\n",
    "After you have created `pluralDF` you can run the next cell which contains two tests. If you implementation is correct it will print `1 test passed` for each test.\n",
    "\n",
    "This is the general form that exercises will take. Exercises will include an explanation of what is expected, followed by code cells where one cell will have one or more `<FILL IN>` sections.\n",
    "\n",
    "The cell that needs to be modified will have:\n",
    "\n",
    "<center>\n",
    "    \n",
    "`# TODO: Replace <FILL IN> with appropriate code`\n",
    "\n",
    "</center>\n",
    "\n",
    "on its first line.\n",
    "\n",
    "Once the `<FILL IN>` sections are updated and the code is run, the test cell can then be run to verify the correctness of your solution.  The last code cell before the next markdown section will contain the tests.\n",
    "\n",
    "> Note:Make sure that the resulting DataFrame has one column which is named 'word'."
   ]
  },
  {
   "cell_type": "code",
   "execution_count": 4,
   "metadata": {
    "scrolled": true
   },
   "outputs": [
    {
     "name": "stdout",
     "output_type": "stream",
     "text": [
      "+---------+\n",
      "|     word|\n",
      "+---------+\n",
      "|     cats|\n",
      "|elephants|\n",
      "|     rats|\n",
      "|     rats|\n",
      "|     cats|\n",
      "+---------+\n",
      "\n"
     ]
    },
    {
     "data": {
      "text/html": [
       "<div>\n",
       "<style scoped>\n",
       "    .dataframe tbody tr th:only-of-type {\n",
       "        vertical-align: middle;\n",
       "    }\n",
       "\n",
       "    .dataframe tbody tr th {\n",
       "        vertical-align: top;\n",
       "    }\n",
       "\n",
       "    .dataframe thead th {\n",
       "        text-align: right;\n",
       "    }\n",
       "</style>\n",
       "<table border=\"1\" class=\"dataframe\">\n",
       "  <thead>\n",
       "    <tr style=\"text-align: right;\">\n",
       "      <th></th>\n",
       "      <th>word</th>\n",
       "    </tr>\n",
       "  </thead>\n",
       "  <tbody>\n",
       "    <tr>\n",
       "      <th>0</th>\n",
       "      <td>cats</td>\n",
       "    </tr>\n",
       "    <tr>\n",
       "      <th>1</th>\n",
       "      <td>elephants</td>\n",
       "    </tr>\n",
       "    <tr>\n",
       "      <th>2</th>\n",
       "      <td>rats</td>\n",
       "    </tr>\n",
       "    <tr>\n",
       "      <th>3</th>\n",
       "      <td>rats</td>\n",
       "    </tr>\n",
       "    <tr>\n",
       "      <th>4</th>\n",
       "      <td>cats</td>\n",
       "    </tr>\n",
       "  </tbody>\n",
       "</table>\n",
       "</div>"
      ],
      "text/plain": [
       "        word\n",
       "0       cats\n",
       "1  elephants\n",
       "2       rats\n",
       "3       rats\n",
       "4       cats"
      ]
     },
     "execution_count": 4,
     "metadata": {},
     "output_type": "execute_result"
    }
   ],
   "source": [
    "# TODO: Replace <FILL IN> with appropriate code\n",
    "from pyspark.sql.functions import lit, concat\n",
    "pluralDF = wordsDF.select(concat(wordsDF.word, lit(\"s\")).alias(\"word\"))\n",
    "\n",
    "pluralDF.show()\n",
    "pluralDF.limit(5).toPandas().head()"
   ]
  },
  {
   "cell_type": "markdown",
   "metadata": {},
   "source": [
    "### Test (1b)"
   ]
  },
  {
   "cell_type": "code",
   "execution_count": 5,
   "metadata": {
    "scrolled": true
   },
   "outputs": [
    {
     "name": "stdout",
     "output_type": "stream",
     "text": [
      "1 test passed.\n",
      "1 test passed.\n"
     ]
    }
   ],
   "source": [
    "# TEST Using DataFrame functions to add an 's' (1b)\n",
    "testmti850.Test.assertEquals(pluralDF.first()[0], 'cats', 'incorrect result: you need to add an s')\n",
    "testmti850.Test.assertEquals(pluralDF.columns, ['word'], \"there should be one column named 'word'\")"
   ]
  },
  {
   "cell_type": "markdown",
   "metadata": {},
   "source": [
    "### (1c) Length of each word\n",
    " \n",
    " Now use the SQL `length` function to find the number of characters in each word.  The [`length` function](https://spark.apache.org/docs/latest/api/python/reference/pyspark.sql/api/pyspark.sql.functions.length) is found in the `pyspark.sql.functions` module.\n"
   ]
  },
  {
   "cell_type": "code",
   "execution_count": 6,
   "metadata": {
    "scrolled": true
   },
   "outputs": [
    {
     "name": "stdout",
     "output_type": "stream",
     "text": [
      "+------------+\n",
      "|length(word)|\n",
      "+------------+\n",
      "|           4|\n",
      "|           9|\n",
      "|           4|\n",
      "|           4|\n",
      "|           4|\n",
      "+------------+\n",
      "\n"
     ]
    },
    {
     "data": {
      "text/html": [
       "<div>\n",
       "<style scoped>\n",
       "    .dataframe tbody tr th:only-of-type {\n",
       "        vertical-align: middle;\n",
       "    }\n",
       "\n",
       "    .dataframe tbody tr th {\n",
       "        vertical-align: top;\n",
       "    }\n",
       "\n",
       "    .dataframe thead th {\n",
       "        text-align: right;\n",
       "    }\n",
       "</style>\n",
       "<table border=\"1\" class=\"dataframe\">\n",
       "  <thead>\n",
       "    <tr style=\"text-align: right;\">\n",
       "      <th></th>\n",
       "      <th>length(word)</th>\n",
       "    </tr>\n",
       "  </thead>\n",
       "  <tbody>\n",
       "    <tr>\n",
       "      <th>0</th>\n",
       "      <td>4</td>\n",
       "    </tr>\n",
       "    <tr>\n",
       "      <th>1</th>\n",
       "      <td>9</td>\n",
       "    </tr>\n",
       "    <tr>\n",
       "      <th>2</th>\n",
       "      <td>4</td>\n",
       "    </tr>\n",
       "    <tr>\n",
       "      <th>3</th>\n",
       "      <td>4</td>\n",
       "    </tr>\n",
       "    <tr>\n",
       "      <th>4</th>\n",
       "      <td>4</td>\n",
       "    </tr>\n",
       "  </tbody>\n",
       "</table>\n",
       "</div>"
      ],
      "text/plain": [
       "   length(word)\n",
       "0             4\n",
       "1             9\n",
       "2             4\n",
       "3             4\n",
       "4             4"
      ]
     },
     "execution_count": 6,
     "metadata": {},
     "output_type": "execute_result"
    }
   ],
   "source": [
    "# TODO: Replace <FILL IN> with appropriate code\n",
    "from pyspark.sql.functions import length\n",
    "\n",
    "pluralLengthsDF = pluralDF.select(length(pluralDF.word))\n",
    "\n",
    "pluralLengthsDF.show()\n",
    "pluralLengthsDF.limit(5).toPandas().head()"
   ]
  },
  {
   "cell_type": "markdown",
   "metadata": {},
   "source": [
    "### Test (1c)"
   ]
  },
  {
   "cell_type": "code",
   "execution_count": 7,
   "metadata": {
    "scrolled": true
   },
   "outputs": [
    {
     "name": "stdout",
     "output_type": "stream",
     "text": [
      "1 test passed.\n"
     ]
    }
   ],
   "source": [
    "# TEST Length of each word (1c)\n",
    "from collections.abc import Iterable\n",
    "asSelf = lambda v: map(lambda r: r[0] if isinstance(r, Iterable) and len(r) == 1 else r, v)\n",
    "\n",
    "testmti850.Test.assertEquals(set(asSelf(pluralLengthsDF.collect())), {4, 9, 4, 4, 4},\n",
    "                  'incorrect values for pluralLengths')\n"
   ]
  },
  {
   "cell_type": "markdown",
   "metadata": {},
   "source": [
    "## Part 2: Counting with Spark SQL and DataFrames\n",
    "\n",
    "Now, let's count the number of times a particular word appears in the 'word' column. There are multiple ways to perform the counting, but some are much less efficient than others.\n",
    " \n",
    "A naive approach would be to call `collect` on all of the elements and count them in the driver program. While this approach could work for small datasets, we want an approach that will work for any size dataset including terabyte- or petabyte-sized datasets. In addition, performing all of the work in the driver program is slower than performing it in parallel in the workers. For these reasons, we will use data parallel operations.\n"
   ]
  },
  {
   "cell_type": "code",
   "execution_count": 14,
   "metadata": {
    "scrolled": true
   },
   "outputs": [
    {
     "name": "stdout",
     "output_type": "stream",
     "text": [
      "+--------+-----+\n",
      "|    word|count|\n",
      "+--------+-----+\n",
      "|     rat|    2|\n",
      "|     cat|    2|\n",
      "|elephant|    1|\n",
      "+--------+-----+\n",
      "\n"
     ]
    }
   ],
   "source": [
    "# TODO: Replace <FILL IN> with appropriate code\n",
    "wordCountsDF = wordsDF.groupBy(wordsDF.word).count()\n",
    "wordCountsDF.show()"
   ]
  },
  {
   "cell_type": "markdown",
   "metadata": {},
   "source": [
    "### Test (2a)"
   ]
  },
  {
   "cell_type": "code",
   "execution_count": 15,
   "metadata": {
    "scrolled": true
   },
   "outputs": [
    {
     "name": "stdout",
     "output_type": "stream",
     "text": [
      "1 test passed.\n"
     ]
    }
   ],
   "source": [
    "# TEST groupBy and count (2a)\n",
    "testmti850.Test.assertEquals(set(wordCountsDF.collect()), {('rat', 2), ('elephant', 1), ('cat', 2)},\n",
    "                 'incorrect counts for wordCountsDF')"
   ]
  },
  {
   "cell_type": "markdown",
   "metadata": {},
   "source": [
    "## Part 3: Finding unique words and a mean value"
   ]
  },
  {
   "cell_type": "markdown",
   "metadata": {},
   "source": [
    "### (3a) Unique words\n",
    "\n",
    "Calculate the number of unique words in `wordsDF`.  You can use other DataFrames that you have already created to make this easier.\n"
   ]
  },
  {
   "cell_type": "code",
   "execution_count": 10,
   "metadata": {
    "scrolled": true
   },
   "outputs": [
    {
     "name": "stdout",
     "output_type": "stream",
     "text": [
      "wordsDF: ['word']\n",
      "pluralDF: ['word']\n",
      "pluralLengthsDF: ['length(word)']\n",
      "wordCountsDF: ['word', 'count']\n"
     ]
    }
   ],
   "source": [
    "#This function returns all the DataFrames in the notebook and their corresponding column names.\n",
    "utilmti850.printDataFrames(True)"
   ]
  },
  {
   "cell_type": "code",
   "execution_count": 11,
   "metadata": {
    "scrolled": true
   },
   "outputs": [
    {
     "name": "stdout",
     "output_type": "stream",
     "text": [
      "3\n"
     ]
    }
   ],
   "source": [
    "# TODO: Replace <FILL IN> with appropriate code\n",
    "uniqueWordsCount = wordCountsDF.count()\n",
    "print(uniqueWordsCount)"
   ]
  },
  {
   "cell_type": "markdown",
   "metadata": {},
   "source": [
    "### Test (3a)"
   ]
  },
  {
   "cell_type": "code",
   "execution_count": 12,
   "metadata": {
    "scrolled": true
   },
   "outputs": [
    {
     "name": "stdout",
     "output_type": "stream",
     "text": [
      "1 test passed.\n"
     ]
    }
   ],
   "source": [
    "# TEST Unique words (3a)\n",
    "testmti850.Test.assertEquals(uniqueWordsCount, 3, 'incorrect count of unique words')"
   ]
  },
  {
   "cell_type": "markdown",
   "metadata": {},
   "source": [
    "### (3b) Means of groups using DataFrames\n",
    "\n",
    "Find the mean number of occurrences of words in `wordCountsDF`.\n",
    "\n",
    "You should use the [`mean` GroupedData method](https://spark.apache.org/docs/latest/api/python/reference/pyspark.sql/api/pyspark.sql.GroupedData.mean) to accomplish this.  Note that when you use `groupBy` you don't need to pass in any columns.  A call without columns just prepares the DataFrame so that aggregation functions like `mean` can be applied.\n"
   ]
  },
  {
   "cell_type": "code",
   "execution_count": 17,
   "metadata": {
    "scrolled": true
   },
   "outputs": [
    {
     "name": "stdout",
     "output_type": "stream",
     "text": [
      "+------------------+\n",
      "|        avg(count)|\n",
      "+------------------+\n",
      "|1.6666666666666667|\n",
      "+------------------+\n",
      "\n",
      "1.6666666666666667\n"
     ]
    }
   ],
   "source": [
    "# TODO: Replace <FILL IN> with appropriate code\n",
    "\n",
    "averageCountDF = wordCountsDF.groupBy().mean(\"count\")\n",
    "averageCountDF.show()\n",
    "averageCount = averageCountDF.collect()[0][0]\n",
    "\n",
    "print (averageCount)"
   ]
  },
  {
   "cell_type": "markdown",
   "metadata": {},
   "source": [
    "### Test (3b)"
   ]
  },
  {
   "cell_type": "code",
   "execution_count": null,
   "metadata": {
    "scrolled": true
   },
   "outputs": [],
   "source": [
    "# TEST Means of groups using DataFrames (3b)\n",
    "testmti850.Test.assertEquals(round(averageCount, 2), 1.67, 'incorrect value of averageCount')"
   ]
  },
  {
   "cell_type": "markdown",
   "metadata": {},
   "source": [
    "## Part 4: Apply word count to a file\n",
    "\n",
    "In this section we will finish developing our word count application.  We'll have to build the `wordCount` function, deal with real world problems like capitalization and punctuation, load in our data source, and compute the word count on the new data.\n"
   ]
  },
  {
   "cell_type": "markdown",
   "metadata": {},
   "source": [
    "### (4a) The `wordCount` function\n",
    " \n",
    "First, define a function for word counting.  You should reuse the techniques that have been covered in earlier parts of this lab.  This function should take in a DataFrame that is a list of words like `wordsDF` and return a DataFrame that has all of the words and their associated counts.\n"
   ]
  },
  {
   "cell_type": "code",
   "execution_count": 19,
   "metadata": {
    "scrolled": true
   },
   "outputs": [
    {
     "name": "stdout",
     "output_type": "stream",
     "text": [
      "+--------+-----+\n",
      "|    word|count|\n",
      "+--------+-----+\n",
      "|     rat|    2|\n",
      "|     cat|    2|\n",
      "|elephant|    1|\n",
      "+--------+-----+\n",
      "\n"
     ]
    }
   ],
   "source": [
    "# TODO: Replace <FILL IN> with appropriate code\n",
    "\n",
    "def wordCount(wordListDF):\n",
    "    \"\"\"Creates a DataFrame with word counts.\n",
    "\n",
    "    Args:\n",
    "        wordListDF (DataFrame of str): A DataFrame consisting of one string column called 'word'.\n",
    "\n",
    "    Returns:\n",
    "        DataFrame of (str, int): A DataFrame containing 'word' and 'count' columns.\n",
    "    \"\"\"\n",
    "    \n",
    "    return wordListDF.groupBy(wordsDF.word).count()\n",
    "\n",
    "wordCount(wordsDF).show()"
   ]
  },
  {
   "cell_type": "markdown",
   "metadata": {},
   "source": [
    "### Test (4a)"
   ]
  },
  {
   "cell_type": "code",
   "execution_count": 20,
   "metadata": {
    "scrolled": true
   },
   "outputs": [
    {
     "name": "stdout",
     "output_type": "stream",
     "text": [
      "1 test passed.\n"
     ]
    }
   ],
   "source": [
    "# TEST wordCount function (4a)\n",
    "res = [(row[0], row[1]) for row in wordCount(wordsDF).collect()]\n",
    "testmti850.Test.assertEquals(sorted(res),\n",
    "                  [('cat', 2), ('elephant', 1), ('rat', 2)],\n",
    "                  'incorrect definition for wordCountDF function')"
   ]
  },
  {
   "cell_type": "markdown",
   "metadata": {},
   "source": [
    "### (4b) Capitalization and punctuation\n",
    " \n",
    "Real world files are more complicated than the data we have been using in this lab. Some of the issues we have to address are:\n",
    "   + Words should be counted independent of their capitialization (e.g., Spark and spark should be counted as the same word).\n",
    "   + All punctuation should be removed.\n",
    "   + Any leading or trailing spaces on a line should be removed.\n",
    " \n",
    "Define the function `removePunctuation` that converts all text to lower case, removes any punctuation, and removes leading and trailing spaces.  Use the Python [regexp_replace](https://spark.apache.org/docs/latest/api/python/reference/pyspark.sql/api/pyspark.sql.functions.regexp_replace) module to remove any text that is not a letter, number, or space. If you are unfamiliar with regular expressions, you may want to review [this tutorial](https://developers.google.com/edu/python/regular-expressions) from Google.  Also, [this website](https://regex101.com/#python) is  a great resource for debugging your regular expression.\n",
    " \n",
    "You should also use the `trim` and `lower` functions found in [pyspark.sql.functions](https://spark.apache.org/docs/latest/api/python/reference/pyspark.sql/api/pyspark.sql.functions).\n",
    " \n",
    "> Note that you shouldn't use any RDD operations or need to create custom user defined functions (udfs) to accomplish this task\n"
   ]
  },
  {
   "cell_type": "code",
   "execution_count": 24,
   "metadata": {
    "scrolled": true
   },
   "outputs": [
    {
     "name": "stdout",
     "output_type": "stream",
     "text": [
      "+------------------------------------------+\n",
      "|sentence                                  |\n",
      "+------------------------------------------+\n",
      "|Hi, you!                                  |\n",
      "| No under_score!                          |\n",
      "| *      Remove punctuation then spaces  * |\n",
      "+------------------------------------------+\n",
      "\n"
     ]
    },
    {
     "name": "stderr",
     "output_type": "stream",
     "text": [
      "[Stage 57:>                                                         (0 + 1) / 1]"
     ]
    },
    {
     "name": "stdout",
     "output_type": "stream",
     "text": [
      "+---------------------------------------------------------+\n",
      "|trim(lower(regexp_replace(sentence, [^a-zA-Z0-9 ], , 1)))|\n",
      "+---------------------------------------------------------+\n",
      "|hi you                                                   |\n",
      "|no underscore                                            |\n",
      "|remove punctuation then spaces                           |\n",
      "+---------------------------------------------------------+\n",
      "\n"
     ]
    },
    {
     "name": "stderr",
     "output_type": "stream",
     "text": [
      "                                                                                "
     ]
    }
   ],
   "source": [
    "# TODO: Replace <FILL IN> with appropriate code\n",
    "from pyspark.sql.functions import regexp_replace, trim, col, lower\n",
    "\n",
    "def removePunctuation(column):\n",
    "    \"\"\"Removes punctuation, changes to lower case, and strips leading and trailing spaces.\n",
    "\n",
    "    Note:\n",
    "        Only spaces, letters, and numbers should be retained.  Other characters should should be\n",
    "        eliminated (e.g. it's becomes its).  Leading and trailing spaces should be removed after\n",
    "        punctuation is removed.\n",
    "\n",
    "    Args:\n",
    "        column (Column): A Column containing a sentence.\n",
    "\n",
    "    Returns:\n",
    "        Column: A Column named 'sentence' with clean-up operations applied.\n",
    "    \"\"\"\n",
    "    \n",
    "    return trim(lower(regexp_replace(column, \"[^a-zA-Z0-9 ]\", \"\")))\n",
    "\n",
    "    \n",
    "    \n",
    "sentenceDF = spark.createDataFrame([('Hi, you!',),\n",
    "                                         (' No under_score!',),\n",
    "                                         (' *      Remove punctuation then spaces  * ',)], ['sentence'])\n",
    "sentenceDF.show(truncate=False)\n",
    "\n",
    "(sentenceDF\n",
    " .select(removePunctuation(col('sentence')))\n",
    " .show(truncate=False))"
   ]
  },
  {
   "cell_type": "markdown",
   "metadata": {},
   "source": [
    "### Test (4b)"
   ]
  },
  {
   "cell_type": "code",
   "execution_count": 25,
   "metadata": {},
   "outputs": [
    {
     "name": "stdout",
     "output_type": "stream",
     "text": [
      "1 test passed.\n"
     ]
    }
   ],
   "source": [
    "# TEST Capitalization and punctuation (4b)\n",
    "testPunctDF = spark.createDataFrame([(\" The Elephant's 4 cats. \",)])\n",
    "testmti850.Test.assertEquals(testPunctDF.select(removePunctuation(col('_1'))).first()[0],\n",
    "                  'the elephants 4 cats',\n",
    "                  'incorrect definition for removePunctuation function')"
   ]
  },
  {
   "cell_type": "markdown",
   "metadata": {},
   "source": [
    "## (4c) Load a text file\n",
    " \n",
    "For the next part of this lab, we will use the [Complete Works of William Shakespeare](http://www.gutenberg.org/ebooks/100) from [Project Gutenberg](http://www.gutenberg.org/wiki/Main_Page). To convert a text file into a DataFrame, we use the `sqlContext.read.text()` method. We also apply the recently defined `removePunctuation()` function using a `select()` transformation to strip out the punctuation and change all text to lower case.  Since the file is large we use `show(15)`, so that we only print 15 lines.\n"
   ]
  },
  {
   "cell_type": "code",
   "execution_count": 38,
   "metadata": {
    "scrolled": true
   },
   "outputs": [
    {
     "name": "stdout",
     "output_type": "stream",
     "text": [
      "+-----------------------------------------------------------------------------------+\n",
      "|text                                                                               |\n",
      "+-----------------------------------------------------------------------------------+\n",
      "|project gutenbergs the complete works of william shakespeare by william shakespeare|\n",
      "|                                                                                   |\n",
      "|this ebook is for the use of anyone anywhere in the united states and              |\n",
      "|most other parts of the world at no cost and with almost no restrictions           |\n",
      "|whatsoever  you may copy it give it away or reuse it under the terms               |\n",
      "|of the project gutenberg license included with this ebook or online at             |\n",
      "|wwwgutenbergorg  if you are not located in the united states youll                 |\n",
      "|have to check the laws of the country where you are located before using           |\n",
      "|this ebook                                                                         |\n",
      "|                                                                                   |\n",
      "|                                                                                   |\n",
      "|title the complete works of william shakespeare                                    |\n",
      "|                                                                                   |\n",
      "|author william shakespeare                                                         |\n",
      "|                                                                                   |\n",
      "+-----------------------------------------------------------------------------------+\n",
      "only showing top 15 rows\n"
     ]
    }
   ],
   "source": [
    "fileName = \"hdfs://localhost:9000/user/vboxuser/shakespeare.txt\"\n",
    "\n",
    "shakespeareDF = spark.read.text(fileName).select(removePunctuation(col('value')).alias(\"text\"))\n",
    "\n",
    "shakespeareDF.show(15, truncate=False)\n"
   ]
  },
  {
   "cell_type": "code",
   "execution_count": 39,
   "metadata": {},
   "outputs": [
    {
     "data": {
      "text/html": [
       "<div>\n",
       "<style scoped>\n",
       "    .dataframe tbody tr th:only-of-type {\n",
       "        vertical-align: middle;\n",
       "    }\n",
       "\n",
       "    .dataframe tbody tr th {\n",
       "        vertical-align: top;\n",
       "    }\n",
       "\n",
       "    .dataframe thead th {\n",
       "        text-align: right;\n",
       "    }\n",
       "</style>\n",
       "<table border=\"1\" class=\"dataframe\">\n",
       "  <thead>\n",
       "    <tr style=\"text-align: right;\">\n",
       "      <th></th>\n",
       "      <th>text</th>\n",
       "    </tr>\n",
       "  </thead>\n",
       "  <tbody>\n",
       "    <tr>\n",
       "      <th>0</th>\n",
       "      <td>project gutenbergs the complete works of willi...</td>\n",
       "    </tr>\n",
       "    <tr>\n",
       "      <th>1</th>\n",
       "      <td></td>\n",
       "    </tr>\n",
       "    <tr>\n",
       "      <th>2</th>\n",
       "      <td>this ebook is for the use of anyone anywhere i...</td>\n",
       "    </tr>\n",
       "    <tr>\n",
       "      <th>3</th>\n",
       "      <td>most other parts of the world at no cost and w...</td>\n",
       "    </tr>\n",
       "    <tr>\n",
       "      <th>4</th>\n",
       "      <td>whatsoever  you may copy it give it away or re...</td>\n",
       "    </tr>\n",
       "  </tbody>\n",
       "</table>\n",
       "</div>"
      ],
      "text/plain": [
       "                                                text\n",
       "0  project gutenbergs the complete works of willi...\n",
       "1                                                   \n",
       "2  this ebook is for the use of anyone anywhere i...\n",
       "3  most other parts of the world at no cost and w...\n",
       "4  whatsoever  you may copy it give it away or re..."
      ]
     },
     "execution_count": 39,
     "metadata": {},
     "output_type": "execute_result"
    }
   ],
   "source": [
    "shakespeareDF.limit(10).toPandas().head()"
   ]
  },
  {
   "cell_type": "markdown",
   "metadata": {},
   "source": [
    "### (4d) Words from lines\n",
    " \n",
    "Before we can use the `wordcount()` function, we have to address two issues with the format of the DataFrame:\n",
    "   + The first issue is that  that we need to split each line by its spaces.\n",
    "   + The second issue is we need to filter out empty lines or words.\n",
    " \n",
    "Apply a transformation that will split each 'sentence' in the DataFrame by its spaces, and then transform from a DataFrame that contains lists of words into a DataFrame with each word in its own row.  To accomplish these two tasks you can use the `split` and `explode` functions found in [pyspark.sql.functions](https://spark.apache.org/docs/latest/api/python/reference/pyspark.sql/api/pyspark.sql.functions).\n",
    " \n",
    "Once you have a DataFrame with one word per row you can apply the [DataFrame operation `where`](https://spark.apache.org/docs/latest/api/python/reference/pyspark.sql/api/pyspark.sql.DataFrame.where) to remove the rows that contain ''.\n",
    "\n",
    "> Note that `shakeWordsDF` should be a DataFrame with one column named `word`."
   ]
  },
  {
   "cell_type": "code",
   "execution_count": 42,
   "metadata": {
    "scrolled": true
   },
   "outputs": [
    {
     "name": "stdout",
     "output_type": "stream",
     "text": [
      "+-----------+\n",
      "|       word|\n",
      "+-----------+\n",
      "|    project|\n",
      "| gutenbergs|\n",
      "|        the|\n",
      "|   complete|\n",
      "|      works|\n",
      "|         of|\n",
      "|    william|\n",
      "|shakespeare|\n",
      "|         by|\n",
      "|    william|\n",
      "|shakespeare|\n",
      "|       this|\n",
      "|      ebook|\n",
      "|         is|\n",
      "|        for|\n",
      "|        the|\n",
      "|        use|\n",
      "|         of|\n",
      "|     anyone|\n",
      "|   anywhere|\n",
      "+-----------+\n",
      "only showing top 20 rows\n",
      "961306\n"
     ]
    },
    {
     "name": "stderr",
     "output_type": "stream",
     "text": [
      "                                                                                "
     ]
    }
   ],
   "source": [
    "# TODO: Replace <FILL IN> with appropriate code\n",
    "from pyspark.sql.functions import split, explode\n",
    "\n",
    "\n",
    "shakeWordsDF = shakespeareDF.select(explode(split(shakespeareDF[\"text\"], \" \")).alias(\"word\")).where(col(\"word\") != \"\")\n",
    "# split separe tous les mots dans une liste en utilisant l'espace comme separateur\n",
    "# explode prend la liste en entree, retourne une ligne par element\n",
    "# where nous permet de garder uniquement les lignes ou le mot est non vide\n",
    "\n",
    "\n",
    "shakeWordsDF.show()\n",
    "\n",
    "shakeWordsDFCount = shakeWordsDF.count()\n",
    "\n",
    "print (shakeWordsDFCount)"
   ]
  },
  {
   "cell_type": "markdown",
   "metadata": {},
   "source": [
    "### Test (4d)"
   ]
  },
  {
   "cell_type": "code",
   "execution_count": 43,
   "metadata": {},
   "outputs": [
    {
     "name": "stdout",
     "output_type": "stream",
     "text": [
      "1 test passed.\n",
      "1 test passed.\n"
     ]
    },
    {
     "name": "stderr",
     "output_type": "stream",
     "text": [
      "                                                                                "
     ]
    }
   ],
   "source": [
    "# TEST Remove empty elements (4d)\n",
    "testmti850.Test.assertEquals(shakeWordsDF.count(), 961306, 'incorrect value for shakeWordCount')\n",
    "testmti850.Test.assertEquals(shakeWordsDF.columns, ['word'], \"shakeWordsDF should only contain the Column 'word'\")"
   ]
  },
  {
   "cell_type": "markdown",
   "metadata": {},
   "source": [
    "### (4e) Count the words\n",
    "\n",
    "We now have a DataFrame that is only words. Next, let's apply the `wordCount()` function to produce a list of word counts. We can view the first 20 words by using the `show()` action; however, we'd like to see the words in descending order of count, so we'll need to apply the [`orderBy` DataFrame method](https://spark.apache.org/docs/latest/api/python/reference/pyspark.sql/api/pyspark.sql.DataFrame.orderBy) to first sort the DataFrame that is returned from `wordCount()`.\n",
    "\n",
    "You'll notice that many of the words are common English words. These are called stopwords. In a later lab, we will see how to eliminate them from the results.\n"
   ]
  },
  {
   "cell_type": "code",
   "execution_count": 46,
   "metadata": {
    "scrolled": true
   },
   "outputs": [
    {
     "name": "stderr",
     "output_type": "stream",
     "text": [
      "[Stage 78:>                                                         (0 + 1) / 1]"
     ]
    },
    {
     "name": "stdout",
     "output_type": "stream",
     "text": [
      "+----+-----+\n",
      "|word|count|\n",
      "+----+-----+\n",
      "| the|30205|\n",
      "| and|28386|\n",
      "|   i|21949|\n",
      "|  to|20923|\n",
      "|  of|18822|\n",
      "|   a|16182|\n",
      "| you|14437|\n",
      "|  my|13180|\n",
      "|  in|12232|\n",
      "|that|11776|\n",
      "|  is| 9713|\n",
      "| not| 9066|\n",
      "|with| 8528|\n",
      "|  me| 8263|\n",
      "| for| 8195|\n",
      "|  it| 8180|\n",
      "| his| 7581|\n",
      "|  be| 7370|\n",
      "|this| 7178|\n",
      "|your| 7076|\n",
      "+----+-----+\n",
      "only showing top 20 rows\n"
     ]
    },
    {
     "name": "stderr",
     "output_type": "stream",
     "text": [
      "                                                                                "
     ]
    }
   ],
   "source": [
    "# TODO: Replace <FILL IN> with appropriate code\n",
    "from pyspark.sql.functions import desc\n",
    "\n",
    "topWordsAndCountsDF = shakeWordsDF.groupBy(\"word\").count().orderBy(desc(\"count\"))\n",
    "\n",
    "topWordsAndCountsDF.show(20)"
   ]
  },
  {
   "cell_type": "markdown",
   "metadata": {},
   "source": [
    "### Test (4e)"
   ]
  },
  {
   "cell_type": "code",
   "execution_count": 47,
   "metadata": {},
   "outputs": [
    {
     "name": "stderr",
     "output_type": "stream",
     "text": [
      "[Stage 81:>                                                         (0 + 1) / 1]"
     ]
    },
    {
     "name": "stdout",
     "output_type": "stream",
     "text": [
      "1 test passed.\n"
     ]
    },
    {
     "name": "stderr",
     "output_type": "stream",
     "text": [
      "                                                                                "
     ]
    }
   ],
   "source": [
    "# TEST Count the words (4e)\n",
    "testmti850.Test.assertEquals(topWordsAndCountsDF.take(15),\n",
    "                  [(u'the', 30205), (u'and', 28386), (u'i', 21949), (u'to', 20923), (u'of', 18822),\n",
    "                   (u'a', 16182), (u'you', 14437), (u'my', 13180), (u'in', 12232), (u'that', 11776),\n",
    "                   (u'is', 9713), (u'not', 9066), (u'with', 8528), (u'me', 8263), (u'for', 8195)],\n",
    "                  'incorrect value for top15WordsAndCountsDF')"
   ]
  },
  {
   "cell_type": "markdown",
   "metadata": {},
   "source": [
    "<a rel=\"license\" href=\"http://creativecommons.org/licenses/by-nc-nd/4.0/\"><img alt=\"Creative Commons License\" style=\"border-width:0\" src=\"https://i.creativecommons.org/l/by-nc-nd/4.0/88x31.png\" /></a><br />Adapted from Databricks notebooks. This work is licensed under a <a rel=\"license\" href=\"http://creativecommons.org/licenses/by-nc-nd/4.0/\">Creative Commons Attribution-NonCommercial-NoDerivatives 4.0 International License</a>."
   ]
  }
 ],
 "metadata": {
  "kernelspec": {
   "display_name": "Python 3 (ipykernel)",
   "language": "python",
   "name": "python3"
  },
  "language_info": {
   "codemirror_mode": {
    "name": "ipython",
    "version": 3
   },
   "file_extension": ".py",
   "mimetype": "text/x-python",
   "name": "python",
   "nbconvert_exporter": "python",
   "pygments_lexer": "ipython3",
   "version": "3.13.5"
  }
 },
 "nbformat": 4,
 "nbformat_minor": 4
}
