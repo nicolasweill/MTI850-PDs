{
 "cells": [
  {
   "cell_type": "markdown",
   "metadata": {},
   "source": [
    "# PD2: Web Server Log Analysis\n",
    "## MTI850 - Big Data Analytics\n",
    "##### Version 1.0 - Fall 2021\n",
    "##### Version 2.0 - Fall 2024\n",
    "##### Version 3.0 - Fall 2025 - Apache Spark 4.0"
   ]
  },
  {
   "cell_type": "markdown",
   "metadata": {},
   "source": [
    "<br>\n",
    "<br>    \n",
    "    \n",
    "| Equipe | 9                                   |\n",
    "|----------|---------------------------------------------------------|\n",
    "\n",
    "<br>\n",
    "<br>"
   ]
  },
  {
   "cell_type": "markdown",
   "metadata": {},
   "source": [
    "This assignment will show how easy it is to perform web server log analysis with Apache Spark.\n",
    "\n",
    "Server log analysis is an ideal use case for Spark. It's a very large, common data source and contains a rich set of information.  Spark allows you to store your logs in files on disk cheaply, while still providing a quick and simple way to perform data analysis on them.\n",
    "\n",
    "This assignment will show you how to use Apache Spark on real-world text-based production logs and fully harness the power of that data.\n",
    "\n",
    "Log data comes from many sources, such as web, file, and compute servers, application logs, user-generated content,  and can be used for monitoring servers, improving business and customer intelligence, building recommendation systems, fraud detection, and much more."
   ]
  },
  {
   "cell_type": "markdown",
   "metadata": {},
   "source": [
    "### How to complete this assignment\n",
    "This assignment is broken up into sections examples for demonstrating Spark functionality for log processing.\n",
    "\n",
    "It consists of 5 parts:\n",
    "* *Part 1*: Introduction and Imports\n",
    "* *Part 2*: Exploratory Data Analysis\n",
    "* *Part 3*: Analysis Walk-Through on the Web Server Log File\n",
    "* *Part 4*: Analyzing Web Server Log File\n",
    "* *Part 5*: Exploring 404 Response Codes"
   ]
  },
  {
   "cell_type": "markdown",
   "metadata": {},
   "source": [
    "## Part 1: Introduction and Imports"
   ]
  },
  {
   "cell_type": "code",
   "execution_count": 1,
   "metadata": {
    "scrolled": true
   },
   "outputs": [
    {
     "name": "stderr",
     "output_type": "stream",
     "text": [
      "WARNING: Using incubator modules: jdk.incubator.vector\n",
      "Using Spark's default log4j profile: org/apache/spark/log4j2-defaults.properties\n",
      "Setting default log level to \"WARN\".\n",
      "To adjust logging level use sc.setLogLevel(newLevel). For SparkR, use setLogLevel(newLevel).\n",
      "25/10/01 12:01:30 WARN NativeCodeLoader: Unable to load native-hadoop library for your platform... using builtin-java classes where applicable\n"
     ]
    }
   ],
   "source": [
    "import findspark\n",
    "findspark.init()\n",
    "\n",
    "# Test module for MTI850\n",
    "import testmti850\n",
    "# Util module for MTI850\n",
    "import utilmti850\n",
    "\n",
    "import pyspark\n",
    "from pyspark.sql import SparkSession\n",
    "\n",
    "spark = SparkSession.builder \\\n",
    ".master(\"local\") \\\n",
    ".appName(\"Web Server Log Analysis\") \\\n",
    ".config(\"spark.some.config.option\", \"some-value\") \\\n",
    ".getOrCreate()"
   ]
  },
  {
   "cell_type": "markdown",
   "metadata": {},
   "source": [
    "### A note about DataFrame column references\n",
    "\n",
    "In Python, it's possible to access a DataFrame's columns either by attribute (`df.age`) or by indexing (`df['age']`). Referring to a column by attribute (`df.age`) is very Pandas-like, and it's highly convenient, especially when you're doing interactive data exploration. But it can fail, for reasons that aren't obvious. To observe this fact, uncomment the second line and run the next cell (after that, comment again the second line)."
   ]
  },
  {
   "cell_type": "code",
   "execution_count": 2,
   "metadata": {},
   "outputs": [
    {
     "ename": "PySparkTypeError",
     "evalue": "[NOT_COLUMN_OR_STR] Argument `col` should be a Column or str, got method.",
     "output_type": "error",
     "traceback": [
      "\u001b[0;31m---------------------------------------------------------------------------\u001b[0m",
      "\u001b[0;31mPySparkTypeError\u001b[0m                          Traceback (most recent call last)",
      "Cell \u001b[0;32mIn[2], line 3\u001b[0m\n\u001b[1;32m      1\u001b[0m throwaway_df \u001b[38;5;241m=\u001b[39m spark\u001b[38;5;241m.\u001b[39mcreateDataFrame([(\u001b[38;5;124m'\u001b[39m\u001b[38;5;124mAnthony\u001b[39m\u001b[38;5;124m'\u001b[39m, \u001b[38;5;241m10\u001b[39m), (\u001b[38;5;124m'\u001b[39m\u001b[38;5;124mJulia\u001b[39m\u001b[38;5;124m'\u001b[39m, \u001b[38;5;241m20\u001b[39m), (\u001b[38;5;124m'\u001b[39m\u001b[38;5;124mFred\u001b[39m\u001b[38;5;124m'\u001b[39m, \u001b[38;5;241m5\u001b[39m)], (\u001b[38;5;124m'\u001b[39m\u001b[38;5;124mname\u001b[39m\u001b[38;5;124m'\u001b[39m, \u001b[38;5;124m'\u001b[39m\u001b[38;5;124mcount\u001b[39m\u001b[38;5;124m'\u001b[39m))\n\u001b[0;32m----> 3\u001b[0m throwaway_df\u001b[38;5;241m.\u001b[39mselect(throwaway_df\u001b[38;5;241m.\u001b[39mcount)\u001b[38;5;241m.\u001b[39mshow()\n",
      "File \u001b[0;32m/opt/spark/python/pyspark/sql/classic/dataframe.py:991\u001b[0m, in \u001b[0;36mDataFrame.select\u001b[0;34m(self, *cols)\u001b[0m\n\u001b[1;32m    990\u001b[0m \u001b[38;5;28;01mdef\u001b[39;00m\u001b[38;5;250m \u001b[39m\u001b[38;5;21mselect\u001b[39m(\u001b[38;5;28mself\u001b[39m, \u001b[38;5;241m*\u001b[39mcols: \u001b[38;5;124m\"\u001b[39m\u001b[38;5;124mColumnOrName\u001b[39m\u001b[38;5;124m\"\u001b[39m) \u001b[38;5;241m-\u001b[39m\u001b[38;5;241m>\u001b[39m ParentDataFrame:  \u001b[38;5;66;03m# type: ignore[misc]\u001b[39;00m\n\u001b[0;32m--> 991\u001b[0m     jdf \u001b[38;5;241m=\u001b[39m \u001b[38;5;28mself\u001b[39m\u001b[38;5;241m.\u001b[39m_jdf\u001b[38;5;241m.\u001b[39mselect(\u001b[38;5;28mself\u001b[39m\u001b[38;5;241m.\u001b[39m_jcols(\u001b[38;5;241m*\u001b[39mcols))\n\u001b[1;32m    992\u001b[0m     \u001b[38;5;28;01mreturn\u001b[39;00m DataFrame(jdf, \u001b[38;5;28mself\u001b[39m\u001b[38;5;241m.\u001b[39msparkSession)\n",
      "File \u001b[0;32m/opt/spark/python/pyspark/sql/classic/dataframe.py:890\u001b[0m, in \u001b[0;36mDataFrame._jcols\u001b[0;34m(self, *cols)\u001b[0m\n\u001b[1;32m    888\u001b[0m \u001b[38;5;28;01mif\u001b[39;00m \u001b[38;5;28mlen\u001b[39m(cols) \u001b[38;5;241m==\u001b[39m \u001b[38;5;241m1\u001b[39m \u001b[38;5;129;01mand\u001b[39;00m \u001b[38;5;28misinstance\u001b[39m(cols[\u001b[38;5;241m0\u001b[39m], \u001b[38;5;28mlist\u001b[39m):\n\u001b[1;32m    889\u001b[0m     cols \u001b[38;5;241m=\u001b[39m cols[\u001b[38;5;241m0\u001b[39m]\n\u001b[0;32m--> 890\u001b[0m \u001b[38;5;28;01mreturn\u001b[39;00m \u001b[38;5;28mself\u001b[39m\u001b[38;5;241m.\u001b[39m_jseq(cols, _to_java_column)\n",
      "File \u001b[0;32m/opt/spark/python/pyspark/sql/classic/dataframe.py:877\u001b[0m, in \u001b[0;36mDataFrame._jseq\u001b[0;34m(self, cols, converter)\u001b[0m\n\u001b[1;32m    871\u001b[0m \u001b[38;5;28;01mdef\u001b[39;00m\u001b[38;5;250m \u001b[39m\u001b[38;5;21m_jseq\u001b[39m(\n\u001b[1;32m    872\u001b[0m     \u001b[38;5;28mself\u001b[39m,\n\u001b[1;32m    873\u001b[0m     cols: Sequence,\n\u001b[1;32m    874\u001b[0m     converter: Optional[Callable[\u001b[38;5;241m.\u001b[39m\u001b[38;5;241m.\u001b[39m\u001b[38;5;241m.\u001b[39m, Union[\u001b[38;5;124m\"\u001b[39m\u001b[38;5;124mPrimitiveType\u001b[39m\u001b[38;5;124m\"\u001b[39m, \u001b[38;5;124m\"\u001b[39m\u001b[38;5;124mJavaObject\u001b[39m\u001b[38;5;124m\"\u001b[39m]]] \u001b[38;5;241m=\u001b[39m \u001b[38;5;28;01mNone\u001b[39;00m,\n\u001b[1;32m    875\u001b[0m ) \u001b[38;5;241m-\u001b[39m\u001b[38;5;241m>\u001b[39m \u001b[38;5;124m\"\u001b[39m\u001b[38;5;124mJavaObject\u001b[39m\u001b[38;5;124m\"\u001b[39m:\n\u001b[1;32m    876\u001b[0m \u001b[38;5;250m    \u001b[39m\u001b[38;5;124;03m\"\"\"Return a JVM Seq of Columns from a list of Column or names\"\"\"\u001b[39;00m\n\u001b[0;32m--> 877\u001b[0m     \u001b[38;5;28;01mreturn\u001b[39;00m _to_seq(\u001b[38;5;28mself\u001b[39m\u001b[38;5;241m.\u001b[39msparkSession\u001b[38;5;241m.\u001b[39m_sc, cols, converter)\n",
      "File \u001b[0;32m/opt/spark/python/pyspark/sql/classic/column.py:104\u001b[0m, in \u001b[0;36m_to_seq\u001b[0;34m(sc, cols, converter)\u001b[0m\n\u001b[1;32m     97\u001b[0m \u001b[38;5;250m\u001b[39m\u001b[38;5;124;03m\"\"\"\u001b[39;00m\n\u001b[1;32m     98\u001b[0m \u001b[38;5;124;03mConvert a list of Columns (or names) into a JVM Seq of Column.\u001b[39;00m\n\u001b[1;32m     99\u001b[0m \n\u001b[1;32m    100\u001b[0m \u001b[38;5;124;03mAn optional `converter` could be used to convert items in `cols`\u001b[39;00m\n\u001b[1;32m    101\u001b[0m \u001b[38;5;124;03minto JVM Column objects.\u001b[39;00m\n\u001b[1;32m    102\u001b[0m \u001b[38;5;124;03m\"\"\"\u001b[39;00m\n\u001b[1;32m    103\u001b[0m \u001b[38;5;28;01mif\u001b[39;00m converter:\n\u001b[0;32m--> 104\u001b[0m     cols \u001b[38;5;241m=\u001b[39m [converter(c) \u001b[38;5;28;01mfor\u001b[39;00m c \u001b[38;5;129;01min\u001b[39;00m cols]\n\u001b[1;32m    105\u001b[0m \u001b[38;5;28;01massert\u001b[39;00m sc\u001b[38;5;241m.\u001b[39m_jvm \u001b[38;5;129;01mis\u001b[39;00m \u001b[38;5;129;01mnot\u001b[39;00m \u001b[38;5;28;01mNone\u001b[39;00m\n\u001b[1;32m    106\u001b[0m \u001b[38;5;28;01mreturn\u001b[39;00m sc\u001b[38;5;241m.\u001b[39m_jvm\u001b[38;5;241m.\u001b[39mPythonUtils\u001b[38;5;241m.\u001b[39mtoSeq(cols)\n",
      "File \u001b[0;32m/opt/spark/python/pyspark/sql/classic/column.py:71\u001b[0m, in \u001b[0;36m_to_java_column\u001b[0;34m(col)\u001b[0m\n\u001b[1;32m     69\u001b[0m     jcol \u001b[38;5;241m=\u001b[39m _create_column_from_name(col)\n\u001b[1;32m     70\u001b[0m \u001b[38;5;28;01melse\u001b[39;00m:\n\u001b[0;32m---> 71\u001b[0m     \u001b[38;5;28;01mraise\u001b[39;00m PySparkTypeError(\n\u001b[1;32m     72\u001b[0m         errorClass\u001b[38;5;241m=\u001b[39m\u001b[38;5;124m\"\u001b[39m\u001b[38;5;124mNOT_COLUMN_OR_STR\u001b[39m\u001b[38;5;124m\"\u001b[39m,\n\u001b[1;32m     73\u001b[0m         messageParameters\u001b[38;5;241m=\u001b[39m{\u001b[38;5;124m\"\u001b[39m\u001b[38;5;124marg_name\u001b[39m\u001b[38;5;124m\"\u001b[39m: \u001b[38;5;124m\"\u001b[39m\u001b[38;5;124mcol\u001b[39m\u001b[38;5;124m\"\u001b[39m, \u001b[38;5;124m\"\u001b[39m\u001b[38;5;124marg_type\u001b[39m\u001b[38;5;124m\"\u001b[39m: \u001b[38;5;28mtype\u001b[39m(col)\u001b[38;5;241m.\u001b[39m\u001b[38;5;18m__name__\u001b[39m},\n\u001b[1;32m     74\u001b[0m     )\n\u001b[1;32m     75\u001b[0m \u001b[38;5;28;01mreturn\u001b[39;00m jcol\n",
      "\u001b[0;31mPySparkTypeError\u001b[0m: [NOT_COLUMN_OR_STR] Argument `col` should be a Column or str, got method."
     ]
    }
   ],
   "source": [
    "throwaway_df = spark.createDataFrame([('Anthony', 10), ('Julia', 20), ('Fred', 5)], ('name', 'count'))\n",
    "\n",
    "throwaway_df.select(throwaway_df.count).show() # This line does not work. Please comment it out later."
   ]
  },
  {
   "cell_type": "markdown",
   "metadata": {},
   "source": [
    "To understand why that failed, you have to understand how the attribute-column syntax is implemented.\n",
    "\n",
    "When you type `throwaway_df.count`, Python looks for an _existing_ attribute or method called `count` on the `throwaway_df` object. If it finds one, it uses it. Otherwise, it calls a special Python function (`__getattr__`), which defaults to throwing an exception. Spark has overridden `__getattr__` to look for a column on the DataFrame.\n",
    "\n",
    "**This means you can only use the attribute (dot) syntax to refer to a column if the DataFrame does not _already_ have an attribute with the column's name.**\n",
    "\n",
    "In the above example, there's already a `count()` method on the `DataFrame` class, so `throwaway_df.count` does not refer to our \"count\" column; instead, it refers to the `count()` _method_.\n",
    "\n",
    "To avoid this problem, you can refer to the column using subscript notation: `throwaway_df['count']`. This syntax will _always_ work."
   ]
  },
  {
   "cell_type": "code",
   "execution_count": 7,
   "metadata": {},
   "outputs": [
    {
     "name": "stdout",
     "output_type": "stream",
     "text": [
      "+-----+\n",
      "|count|\n",
      "+-----+\n",
      "|   10|\n",
      "|   20|\n",
      "|    5|\n",
      "+-----+\n",
      "\n"
     ]
    }
   ],
   "source": [
    "throwaway_df.select(throwaway_df['count']).show()"
   ]
  },
  {
   "cell_type": "markdown",
   "metadata": {},
   "source": [
    "### (1a) Library Imports\n",
    "\n",
    "\n",
    "We can import standard Python3 libraries ([modules](https://docs.python.org/3/tutorial/modules.html)) the usual way. An `import` statement will import the specified module.  In this assignment, we will provide any imports that are necessary.\n",
    "\n",
    "Let's import some of the libraries we'll need:\n",
    "\n",
    "* `re`: The regular expression library\n",
    "* `datetime`: Date and time functions"
   ]
  },
  {
   "cell_type": "code",
   "execution_count": 8,
   "metadata": {},
   "outputs": [],
   "source": [
    "import re\n",
    "import datetime"
   ]
  },
  {
   "cell_type": "code",
   "execution_count": 9,
   "metadata": {},
   "outputs": [
    {
     "data": {
      "text/plain": [
       "'def'"
      ]
     },
     "execution_count": 9,
     "metadata": {},
     "output_type": "execute_result"
    }
   ],
   "source": [
    "# Quick test of the regular expression library\n",
    "m = re.search('(?<=abc)def', 'abcdef')\n",
    "m.group(0)"
   ]
  },
  {
   "cell_type": "code",
   "execution_count": 10,
   "metadata": {},
   "outputs": [
    {
     "name": "stdout",
     "output_type": "stream",
     "text": [
      "This was last run on: 2025-10-01 08:06:48.069034\n"
     ]
    }
   ],
   "source": [
    "# Quick test of the datetime library\n",
    "print ('This was last run on: {0}'.format(datetime.datetime.now()))"
   ]
  },
  {
   "cell_type": "markdown",
   "metadata": {},
   "source": [
    "### (1b) Getting help\n",
    "\n",
    "Remember: There are some useful Python built-ins for getting help."
   ]
  },
  {
   "cell_type": "markdown",
   "metadata": {},
   "source": [
    "You can use Python's [dir()](https://docs.python.org/3/library/functions.html?highlight=dir#dir) function to get a list of all the attributes (including methods) accessible through the `spark` object."
   ]
  },
  {
   "cell_type": "code",
   "execution_count": 11,
   "metadata": {},
   "outputs": [
    {
     "data": {
      "text/plain": [
       "['Builder',\n",
       " '__annotations__',\n",
       " '__class__',\n",
       " '__delattr__',\n",
       " '__dict__',\n",
       " '__dir__',\n",
       " '__doc__',\n",
       " '__enter__',\n",
       " '__eq__',\n",
       " '__exit__',\n",
       " '__firstlineno__',\n",
       " '__format__',\n",
       " '__ge__',\n",
       " '__getattribute__',\n",
       " '__getstate__',\n",
       " '__gt__',\n",
       " '__hash__',\n",
       " '__init__',\n",
       " '__init_subclass__',\n",
       " '__le__',\n",
       " '__lt__',\n",
       " '__module__',\n",
       " '__ne__',\n",
       " '__new__',\n",
       " '__reduce__',\n",
       " '__reduce_ex__',\n",
       " '__repr__',\n",
       " '__setattr__',\n",
       " '__sizeof__',\n",
       " '__static_attributes__',\n",
       " '__str__',\n",
       " '__subclasshook__',\n",
       " '__weakref__',\n",
       " '_activeSession',\n",
       " '_convert_from_pandas',\n",
       " '_createFromLocal',\n",
       " '_createFromRDD',\n",
       " '_create_dataframe',\n",
       " '_create_from_arrow_table',\n",
       " '_create_from_pandas_with_arrow',\n",
       " '_create_shell_session',\n",
       " '_getActiveSessionOrCreate',\n",
       " '_get_j_spark_session_class',\n",
       " '_get_j_spark_session_module',\n",
       " '_get_numpy_record_dtype',\n",
       " '_inferSchema',\n",
       " '_inferSchemaFromList',\n",
       " '_instantiatedSession',\n",
       " '_jconf',\n",
       " '_jsc',\n",
       " '_jsparkSession',\n",
       " '_jvm',\n",
       " '_parse_ddl',\n",
       " '_profiler_collector',\n",
       " '_repr_html_',\n",
       " '_sc',\n",
       " '_should_update_active_session',\n",
       " '_to_ddl',\n",
       " 'active',\n",
       " 'addArtifact',\n",
       " 'addArtifacts',\n",
       " 'addTag',\n",
       " 'builder',\n",
       " 'catalog',\n",
       " 'clearProgressHandlers',\n",
       " 'clearTags',\n",
       " 'client',\n",
       " 'conf',\n",
       " 'copyFromLocalToFs',\n",
       " 'createDataFrame',\n",
       " 'dataSource',\n",
       " 'getActiveSession',\n",
       " 'getTags',\n",
       " 'interruptAll',\n",
       " 'interruptOperation',\n",
       " 'interruptTag',\n",
       " 'newSession',\n",
       " 'profile',\n",
       " 'range',\n",
       " 'read',\n",
       " 'readStream',\n",
       " 'registerProgressHandler',\n",
       " 'removeProgressHandler',\n",
       " 'removeTag',\n",
       " 'sparkContext',\n",
       " 'sql',\n",
       " 'stop',\n",
       " 'streams',\n",
       " 'table',\n",
       " 'tvf',\n",
       " 'udf',\n",
       " 'udtf',\n",
       " 'version']"
      ]
     },
     "execution_count": 11,
     "metadata": {},
     "output_type": "execute_result"
    }
   ],
   "source": [
    "dir(spark)"
   ]
  },
  {
   "cell_type": "markdown",
   "metadata": {},
   "source": [
    "Alternatively, you can use Python's [help()](https://docs.python.org/3/library/functions.html?highlight=help#help) function to get an easier to read list of all the attributes, including examples, that the `spark` object has."
   ]
  },
  {
   "cell_type": "code",
   "execution_count": 12,
   "metadata": {},
   "outputs": [
    {
     "name": "stdout",
     "output_type": "stream",
     "text": [
      "Help on SparkSession in module pyspark.sql.session object:\n",
      "\n",
      "class SparkSession(pyspark.sql.pandas.conversion.SparkConversionMixin)\n",
      " |  SparkSession(\n",
      " |      sparkContext: 'SparkContext',\n",
      " |      jsparkSession: Optional[ForwardRef('JavaObject')] = None,\n",
      " |      options: Dict[str, Any] = {}\n",
      " |  )\n",
      " |\n",
      " |  The entry point to programming Spark with the Dataset and DataFrame API.\n",
      " |\n",
      " |  A SparkSession can be used to create :class:`DataFrame`, register :class:`DataFrame` as\n",
      " |  tables, execute SQL over tables, cache tables, and read parquet files.\n",
      " |  To create a :class:`SparkSession`, use the following builder pattern:\n",
      " |\n",
      " |  .. versionchanged:: 3.4.0\n",
      " |      Supports Spark Connect.\n",
      " |\n",
      " |  .. autoattribute:: builder\n",
      " |     :annotation:\n",
      " |\n",
      " |  Examples\n",
      " |  --------\n",
      " |  Create a Spark session.\n",
      " |\n",
      " |  >>> spark = (\n",
      " |  ...     SparkSession.builder\n",
      " |  ...         .master(\"local\")\n",
      " |  ...         .appName(\"Word Count\")\n",
      " |  ...         .config(\"spark.some.config.option\", \"some-value\")\n",
      " |  ...         .getOrCreate()\n",
      " |  ... )\n",
      " |\n",
      " |  Create a Spark session with Spark Connect.\n",
      " |\n",
      " |  >>> spark = (\n",
      " |  ...     SparkSession.builder\n",
      " |  ...         .remote(\"sc://localhost\")\n",
      " |  ...         .appName(\"Word Count\")\n",
      " |  ...         .config(\"spark.some.config.option\", \"some-value\")\n",
      " |  ...         .getOrCreate()\n",
      " |  ... )  # doctest: +SKIP\n",
      " |\n",
      " |  Method resolution order:\n",
      " |      SparkSession\n",
      " |      pyspark.sql.pandas.conversion.SparkConversionMixin\n",
      " |      builtins.object\n",
      " |\n",
      " |  Methods defined here:\n",
      " |\n",
      " |  __enter__(self) -> 'SparkSession'\n",
      " |      Enable 'with SparkSession.builder.(...).getOrCreate() as session: app' syntax.\n",
      " |\n",
      " |      .. versionadded:: 2.0.0\n",
      " |\n",
      " |      Examples\n",
      " |      --------\n",
      " |      >>> with SparkSession.builder.master(\"local\").getOrCreate() as session:\n",
      " |      ...     session.range(5).show()  # doctest: +SKIP\n",
      " |      +---+\n",
      " |      | id|\n",
      " |      +---+\n",
      " |      |  0|\n",
      " |      |  1|\n",
      " |      |  2|\n",
      " |      |  3|\n",
      " |      |  4|\n",
      " |      +---+\n",
      " |\n",
      " |  __exit__(\n",
      " |      self,\n",
      " |      exc_type: Optional[Type[BaseException]],\n",
      " |      exc_val: Optional[BaseException],\n",
      " |      exc_tb: Optional[traceback]\n",
      " |  ) -> None\n",
      " |      Enable 'with SparkSession.builder.(...).getOrCreate() as session: app' syntax.\n",
      " |\n",
      " |      Specifically stop the SparkSession on exit of the with block.\n",
      " |\n",
      " |      .. versionadded:: 2.0.0\n",
      " |\n",
      " |      Examples\n",
      " |      --------\n",
      " |      >>> with SparkSession.builder.master(\"local\").getOrCreate() as session:\n",
      " |      ...     session.range(5).show()  # doctest: +SKIP\n",
      " |      +---+\n",
      " |      | id|\n",
      " |      +---+\n",
      " |      |  0|\n",
      " |      |  1|\n",
      " |      |  2|\n",
      " |      |  3|\n",
      " |      |  4|\n",
      " |      +---+\n",
      " |\n",
      " |  __init__(\n",
      " |      self,\n",
      " |      sparkContext: 'SparkContext',\n",
      " |      jsparkSession: Optional[ForwardRef('JavaObject')] = None,\n",
      " |      options: Dict[str, Any] = {}\n",
      " |  )\n",
      " |      Initialize self.  See help(type(self)) for accurate signature.\n",
      " |\n",
      " |  addArtifact = addArtifacts(\n",
      " |      self,\n",
      " |      *path: str,\n",
      " |      pyfile: bool = False,\n",
      " |      archive: bool = False,\n",
      " |      file: bool = False\n",
      " |  ) -> None\n",
      " |\n",
      " |  addArtifacts(\n",
      " |      self,\n",
      " |      *path: str,\n",
      " |      pyfile: bool = False,\n",
      " |      archive: bool = False,\n",
      " |      file: bool = False\n",
      " |  ) -> None\n",
      " |      Add artifact(s) to the client session. Currently only local files are supported.\n",
      " |\n",
      " |      .. versionadded:: 3.5.0\n",
      " |\n",
      " |      .. versionchanged:: 4.0.0\n",
      " |          Supports Spark Classic.\n",
      " |\n",
      " |      Parameters\n",
      " |      ----------\n",
      " |      *path : tuple of str\n",
      " |          Artifact's URIs to add.\n",
      " |      pyfile : bool\n",
      " |          Whether to add them as Python dependencies such as .py, .egg, .zip or .jar files.\n",
      " |          The pyfiles are directly inserted into the path when executing Python functions\n",
      " |          in executors.\n",
      " |      archive : bool\n",
      " |          Whether to add them as archives such as .zip, .jar, .tar.gz, .tgz, or .tar files.\n",
      " |          The archives are unpacked on the executor side automatically.\n",
      " |      file : bool\n",
      " |          Add a file to be downloaded with this Spark job on every node.\n",
      " |          The ``path`` passed can only be a local file for now.\n",
      " |\n",
      " |  addTag(self, tag: str) -> None\n",
      " |      Add a tag to be assigned to all the operations started by this thread in this session.\n",
      " |\n",
      " |      Often, a unit of execution in an application consists of multiple Spark executions.\n",
      " |      Application programmers can use this method to group all those jobs together and give a\n",
      " |      group tag. The application can use :meth:`SparkSession.interruptTag` to cancel all running\n",
      " |      executions with this tag.\n",
      " |\n",
      " |      There may be multiple tags present at the same time, so different parts of application may\n",
      " |      use different tags to perform cancellation at different levels of granularity.\n",
      " |\n",
      " |      .. versionadded:: 3.5.0\n",
      " |\n",
      " |      .. versionchanged:: 4.0.0\n",
      " |          Supports Spark Classic.\n",
      " |\n",
      " |      Parameters\n",
      " |      ----------\n",
      " |      tag : str\n",
      " |          The tag to be added. Cannot contain ',' (comma) character or be an empty string.\n",
      " |\n",
      " |  catalog = <functools.cached_property object>\n",
      " |      Interface through which the user may create, drop, alter or query underlying\n",
      " |      databases, tables, functions, etc.\n",
      " |\n",
      " |      .. versionadded:: 2.0.0\n",
      " |\n",
      " |      .. versionchanged:: 3.4.0\n",
      " |          Supports Spark Connect.\n",
      " |\n",
      " |      Returns\n",
      " |      -------\n",
      " |      :class:`Catalog`\n",
      " |\n",
      " |      Examples\n",
      " |      --------\n",
      " |      >>> spark.catalog\n",
      " |      <...Catalog object ...>\n",
      " |\n",
      " |      Create a temp view, show the list, and drop it.\n",
      " |\n",
      " |      >>> spark.range(1).createTempView(\"test_view\")\n",
      " |      >>> spark.catalog.listTables()  # doctest: +SKIP\n",
      " |      [Table(name='test_view', catalog=None, namespace=[], description=None, ...\n",
      " |      >>> _ = spark.catalog.dropTempView(\"test_view\")\n",
      " |\n",
      " |  clearProgressHandlers(self) -> None\n",
      " |      Clear all registered progress handlers.\n",
      " |\n",
      " |      .. versionadded:: 4.0\n",
      " |\n",
      " |  clearTags(self) -> None\n",
      " |      Clear the current thread's operation tags.\n",
      " |\n",
      " |      .. versionadded:: 3.5.0\n",
      " |\n",
      " |      .. versionchanged:: 4.0.0\n",
      " |          Supports Spark Classic.\n",
      " |\n",
      " |  conf = <functools.cached_property object>\n",
      " |      Runtime configuration interface for Spark.\n",
      " |\n",
      " |      This is the interface through which the user can get and set all Spark and Hadoop\n",
      " |      configurations that are relevant to Spark SQL. When getting the value of a config,\n",
      " |      this defaults to the value set in the underlying :class:`SparkContext`, if any.\n",
      " |\n",
      " |      .. versionadded:: 2.0.0\n",
      " |\n",
      " |      .. versionchanged:: 3.4.0\n",
      " |          Supports Spark Connect.\n",
      " |\n",
      " |      Returns\n",
      " |      -------\n",
      " |      :class:`pyspark.sql.conf.RuntimeConfig`\n",
      " |\n",
      " |      Examples\n",
      " |      --------\n",
      " |      >>> spark.conf\n",
      " |      <pyspark...RuntimeConf...>\n",
      " |\n",
      " |      Set a runtime configuration for the session\n",
      " |\n",
      " |      >>> spark.conf.set(\"key\", \"value\")\n",
      " |      >>> spark.conf.get(\"key\")\n",
      " |      'value'\n",
      " |\n",
      " |  copyFromLocalToFs(self, local_path: str, dest_path: str) -> None\n",
      " |      Copy file from local to cloud storage file system.\n",
      " |      If the file already exits in destination path, old file is overwritten.\n",
      " |\n",
      " |      .. versionadded:: 3.5.0\n",
      " |\n",
      " |      Parameters\n",
      " |      ----------\n",
      " |      local_path: str\n",
      " |          Path to a local file. Directories are not supported.\n",
      " |          The path can be either an absolute path or a relative path.\n",
      " |      dest_path: str\n",
      " |          The cloud storage path to the destination the file will\n",
      " |          be copied to.\n",
      " |          The path must be an an absolute path.\n",
      " |\n",
      " |      Notes\n",
      " |      -----\n",
      " |      This API is a developer API.\n",
      " |      Also, this is an API dedicated to Spark Connect client only. With regular\n",
      " |      Spark Session, it throws an exception.\n",
      " |\n",
      " |  createDataFrame(\n",
      " |      self,\n",
      " |      data: Union[ForwardRef('RDD[Any]'), Iterable[Any], ForwardRef('PandasDataFrameLike'), ForwardRef('ArrayLike'), ForwardRef('pa.Table')],\n",
      " |      schema: Union[pyspark.sql.types.AtomicType, pyspark.sql.types.StructType, str, NoneType] = None,\n",
      " |      samplingRatio: Optional[float] = None,\n",
      " |      verifySchema: bool = True\n",
      " |  ) -> pyspark.sql.dataframe.DataFrame\n",
      " |      Creates a :class:`DataFrame` from an :class:`RDD`, a list, a :class:`pandas.DataFrame`,\n",
      " |      a :class:`numpy.ndarray`, or a :class:`pyarrow.Table`.\n",
      " |\n",
      " |      .. versionadded:: 2.0.0\n",
      " |\n",
      " |      .. versionchanged:: 3.4.0\n",
      " |          Supports Spark Connect.\n",
      " |\n",
      " |      .. versionchanged:: 4.0.0\n",
      " |          Supports :class:`pyarrow.Table`.\n",
      " |\n",
      " |      Parameters\n",
      " |      ----------\n",
      " |      data : :class:`RDD` or iterable\n",
      " |          an RDD of any kind of SQL data representation (:class:`Row`,\n",
      " |          :class:`tuple`, ``int``, ``boolean``, ``dict``, etc.), or :class:`list`,\n",
      " |          :class:`pandas.DataFrame`, :class:`numpy.ndarray`, or :class:`pyarrow.Table`.\n",
      " |      schema : :class:`pyspark.sql.types.DataType`, str or list, optional\n",
      " |          a :class:`pyspark.sql.types.DataType` or a datatype string or a list of\n",
      " |          column names, default is None. The data type string format equals to\n",
      " |          :class:`pyspark.sql.types.DataType.simpleString`, except that top level struct type can\n",
      " |          omit the ``struct<>``.\n",
      " |\n",
      " |          When ``schema`` is a list of column names, the type of each column\n",
      " |          will be inferred from ``data``.\n",
      " |\n",
      " |          When ``schema`` is ``None``, it will try to infer the schema (column names and types)\n",
      " |          from ``data``, which should be an RDD of either :class:`Row`,\n",
      " |          :class:`namedtuple`, or :class:`dict`.\n",
      " |\n",
      " |          When ``schema`` is :class:`pyspark.sql.types.DataType` or a datatype string, it must\n",
      " |          match the real data, or an exception will be thrown at runtime. If the given schema is\n",
      " |          not :class:`pyspark.sql.types.StructType`, it will be wrapped into a\n",
      " |          :class:`pyspark.sql.types.StructType` as its only field, and the field name will be\n",
      " |          \"value\". Each record will also be wrapped into a tuple, which can be converted to row\n",
      " |          later.\n",
      " |      samplingRatio : float, optional\n",
      " |          the sample ratio of rows used for inferring. The first few rows will be used\n",
      " |          if ``samplingRatio`` is ``None``. This option is effective only when the input is\n",
      " |          :class:`RDD`.\n",
      " |      verifySchema : bool, optional\n",
      " |          verify data types of every row against schema. Enabled by default.\n",
      " |          When the input is :class:`pyarrow.Table` or when the input class is\n",
      " |          :class:`pandas.DataFrame` and `spark.sql.execution.arrow.pyspark.enabled` is enabled,\n",
      " |          this option is not effective. It follows Arrow type coercion. This option is not\n",
      " |          supported with Spark Connect.\n",
      " |\n",
      " |          .. versionadded:: 2.1.0\n",
      " |\n",
      " |      Returns\n",
      " |      -------\n",
      " |      :class:`DataFrame`\n",
      " |\n",
      " |      Notes\n",
      " |      -----\n",
      " |      Usage with `spark.sql.execution.arrow.pyspark.enabled=True` is experimental.\n",
      " |\n",
      " |      Examples\n",
      " |      --------\n",
      " |      Create a DataFrame from a list of tuples.\n",
      " |\n",
      " |      >>> spark.createDataFrame([('Alice', 1)]).show()\n",
      " |      +-----+---+\n",
      " |      |   _1| _2|\n",
      " |      +-----+---+\n",
      " |      |Alice|  1|\n",
      " |      +-----+---+\n",
      " |\n",
      " |      Create a DataFrame from a list of dictionaries.\n",
      " |\n",
      " |      >>> d = [{'name': 'Alice', 'age': 1}]\n",
      " |      >>> spark.createDataFrame(d).show()\n",
      " |      +---+-----+\n",
      " |      |age| name|\n",
      " |      +---+-----+\n",
      " |      |  1|Alice|\n",
      " |      +---+-----+\n",
      " |\n",
      " |      Create a DataFrame with column names specified.\n",
      " |\n",
      " |      >>> spark.createDataFrame([('Alice', 1)], ['name', 'age']).show()\n",
      " |      +-----+---+\n",
      " |      | name|age|\n",
      " |      +-----+---+\n",
      " |      |Alice|  1|\n",
      " |      +-----+---+\n",
      " |\n",
      " |      Create a DataFrame with the explicit schema specified.\n",
      " |\n",
      " |      >>> from pyspark.sql.types import *\n",
      " |      >>> schema = StructType([\n",
      " |      ...    StructField(\"name\", StringType(), True),\n",
      " |      ...    StructField(\"age\", IntegerType(), True)])\n",
      " |      >>> spark.createDataFrame([('Alice', 1)], schema).show()\n",
      " |      +-----+---+\n",
      " |      | name|age|\n",
      " |      +-----+---+\n",
      " |      |Alice|  1|\n",
      " |      +-----+---+\n",
      " |\n",
      " |      Create a DataFrame with the schema in DDL formatted string.\n",
      " |\n",
      " |      >>> spark.createDataFrame([('Alice', 1)], \"name: string, age: int\").show()\n",
      " |      +-----+---+\n",
      " |      | name|age|\n",
      " |      +-----+---+\n",
      " |      |Alice|  1|\n",
      " |      +-----+---+\n",
      " |\n",
      " |      Create an empty DataFrame.\n",
      " |      When initializing an empty DataFrame in PySpark, it's mandatory to specify its schema,\n",
      " |      as the DataFrame lacks data from which the schema can be inferred.\n",
      " |\n",
      " |      >>> spark.createDataFrame([], \"name: string, age: int\").show()\n",
      " |      +----+---+\n",
      " |      |name|age|\n",
      " |      +----+---+\n",
      " |      +----+---+\n",
      " |\n",
      " |      Create a DataFrame from Row objects.\n",
      " |\n",
      " |      >>> from pyspark.sql import Row\n",
      " |      >>> Person = Row('name', 'age')\n",
      " |      >>> df = spark.createDataFrame([Person(\"Alice\", 1)])\n",
      " |      >>> df.show()\n",
      " |      +-----+---+\n",
      " |      | name|age|\n",
      " |      +-----+---+\n",
      " |      |Alice|  1|\n",
      " |      +-----+---+\n",
      " |\n",
      " |      Create a DataFrame from a pandas DataFrame.\n",
      " |\n",
      " |      >>> spark.createDataFrame(df.toPandas()).show()  # doctest: +SKIP\n",
      " |      +-----+---+\n",
      " |      | name|age|\n",
      " |      +-----+---+\n",
      " |      |Alice|  1|\n",
      " |      +-----+---+\n",
      " |\n",
      " |      >>> pdf = pandas.DataFrame([[1, 2]])  # doctest: +SKIP\n",
      " |      >>> spark.createDataFrame(pdf).show()  # doctest: +SKIP\n",
      " |      +---+---+\n",
      " |      |  0|  1|\n",
      " |      +---+---+\n",
      " |      |  1|  2|\n",
      " |      +---+---+\n",
      " |\n",
      " |      Create a DataFrame from a PyArrow Table.\n",
      " |\n",
      " |      >>> spark.createDataFrame(df.toArrow()).show()  # doctest: +SKIP\n",
      " |      +-----+---+\n",
      " |      | name|age|\n",
      " |      +-----+---+\n",
      " |      |Alice|  1|\n",
      " |      +-----+---+\n",
      " |\n",
      " |      >>> table = pyarrow.table({'0': [1], '1': [2]})  # doctest: +SKIP\n",
      " |      >>> spark.createDataFrame(table).show()  # doctest: +SKIP\n",
      " |      +---+---+\n",
      " |      |  0|  1|\n",
      " |      +---+---+\n",
      " |      |  1|  2|\n",
      " |      +---+---+\n",
      " |\n",
      " |  getTags(self) -> Set[str]\n",
      " |      Get the tags that are currently set to be assigned to all the operations started by this\n",
      " |      thread.\n",
      " |\n",
      " |      .. versionadded:: 3.5.0\n",
      " |\n",
      " |      .. versionchanged:: 4.0.0\n",
      " |          Supports Spark Classic.\n",
      " |\n",
      " |      Returns\n",
      " |      -------\n",
      " |      set of str\n",
      " |          Set of tags of interrupted operations.\n",
      " |\n",
      " |  interruptAll(self) -> List[str]\n",
      " |      Interrupt all operations of this session currently running on the connected server.\n",
      " |\n",
      " |      .. versionadded:: 3.5.0\n",
      " |\n",
      " |      .. versionchanged:: 4.0.0\n",
      " |          Supports Spark Classic.\n",
      " |\n",
      " |      Returns\n",
      " |      -------\n",
      " |      list of str\n",
      " |          List of operationIds of interrupted operations.\n",
      " |\n",
      " |      Notes\n",
      " |      -----\n",
      " |      There is still a possibility of operation finishing just as it is interrupted.\n",
      " |\n",
      " |  interruptOperation(self, op_id: str) -> List[str]\n",
      " |      Interrupt an operation of this session with the given operationId.\n",
      " |\n",
      " |      .. versionadded:: 3.5.0\n",
      " |\n",
      " |      .. versionchanged:: 4.0.0\n",
      " |          Supports Spark Classic.\n",
      " |\n",
      " |      Returns\n",
      " |      -------\n",
      " |      list of str\n",
      " |          List of operationIds of interrupted operations.\n",
      " |\n",
      " |      Notes\n",
      " |      -----\n",
      " |      There is still a possibility of operation finishing just as it is interrupted.\n",
      " |\n",
      " |  interruptTag(self, tag: str) -> List[str]\n",
      " |      Interrupt all operations of this session with the given operation tag.\n",
      " |\n",
      " |      .. versionadded:: 3.5.0\n",
      " |\n",
      " |      .. versionchanged:: 4.0.0\n",
      " |          Supports Spark Classic.\n",
      " |\n",
      " |      Returns\n",
      " |      -------\n",
      " |      list of str\n",
      " |          List of operationIds of interrupted operations.\n",
      " |\n",
      " |      Notes\n",
      " |      -----\n",
      " |      There is still a possibility of operation finishing just as it is interrupted.\n",
      " |\n",
      " |  newSession(self) -> 'SparkSession'\n",
      " |      Returns a new :class:`SparkSession` as new session, that has separate SQLConf,\n",
      " |      registered temporary views and UDFs, but shared :class:`SparkContext` and\n",
      " |      table cache.\n",
      " |\n",
      " |      .. versionadded:: 2.0.0\n",
      " |\n",
      " |      Returns\n",
      " |      -------\n",
      " |      :class:`SparkSession`\n",
      " |          Spark session if an active session exists for the current thread\n",
      " |\n",
      " |      Examples\n",
      " |      --------\n",
      " |      >>> spark.newSession()\n",
      " |      <...SparkSession object ...>\n",
      " |\n",
      " |  range(\n",
      " |      self,\n",
      " |      start: int,\n",
      " |      end: Optional[int] = None,\n",
      " |      step: int = 1,\n",
      " |      numPartitions: Optional[int] = None\n",
      " |  ) -> pyspark.sql.dataframe.DataFrame\n",
      " |      Create a :class:`DataFrame` with single :class:`pyspark.sql.types.LongType` column named\n",
      " |      ``id``, containing elements in a range from ``start`` to ``end`` (exclusive) with\n",
      " |      step value ``step``.\n",
      " |\n",
      " |      .. versionadded:: 2.0.0\n",
      " |\n",
      " |      .. versionchanged:: 3.4.0\n",
      " |          Supports Spark Connect.\n",
      " |\n",
      " |      Parameters\n",
      " |      ----------\n",
      " |      start : int\n",
      " |          the start value\n",
      " |      end : int, optional\n",
      " |          the end value (exclusive)\n",
      " |      step : int, optional\n",
      " |          the incremental step (default: 1)\n",
      " |      numPartitions : int, optional\n",
      " |          the number of partitions of the DataFrame\n",
      " |\n",
      " |      Returns\n",
      " |      -------\n",
      " |      :class:`DataFrame`\n",
      " |\n",
      " |      Examples\n",
      " |      --------\n",
      " |      >>> spark.range(1, 7, 2).show()\n",
      " |      +---+\n",
      " |      | id|\n",
      " |      +---+\n",
      " |      |  1|\n",
      " |      |  3|\n",
      " |      |  5|\n",
      " |      +---+\n",
      " |\n",
      " |      If only one argument is specified, it will be used as the end value.\n",
      " |\n",
      " |      >>> spark.range(3).show()\n",
      " |      +---+\n",
      " |      | id|\n",
      " |      +---+\n",
      " |      |  0|\n",
      " |      |  1|\n",
      " |      |  2|\n",
      " |      +---+\n",
      " |\n",
      " |  registerProgressHandler(self, handler: 'ProgressHandler') -> None\n",
      " |      Register a progress handler to be called when a progress update is received from the server.\n",
      " |\n",
      " |      .. versionadded:: 4.0\n",
      " |\n",
      " |      Parameters\n",
      " |      ----------\n",
      " |      handler : ProgressHandler\n",
      " |        A callable that follows the ProgressHandler interface. This handler will be called\n",
      " |        on every progress update.\n",
      " |\n",
      " |      Examples\n",
      " |      --------\n",
      " |\n",
      " |      >>> def progress_handler(stages, inflight_tasks, done):\n",
      " |      ...     print(f\"{len(stages)} Stages known, Done: {done}\")\n",
      " |      >>> spark.registerProgressHandler(progress_handler)\n",
      " |      >>> res = spark.range(10).repartition(1).collect()  # doctest: +SKIP\n",
      " |      3 Stages known, Done: False\n",
      " |      3 Stages known, Done: True\n",
      " |      >>> spark.clearProgressHandlers()\n",
      " |\n",
      " |  removeProgressHandler(self, handler: 'ProgressHandler') -> None\n",
      " |      Remove a progress handler that was previously registered.\n",
      " |\n",
      " |      .. versionadded:: 4.0\n",
      " |\n",
      " |      Parameters\n",
      " |      ----------\n",
      " |      handler : ProgressHandler\n",
      " |        The handler to remove if present in the list of progress handlers.\n",
      " |\n",
      " |  removeTag(self, tag: str) -> None\n",
      " |      Remove a tag previously added to be assigned to all the operations started by this thread in\n",
      " |      this session. Noop if such a tag was not added earlier.\n",
      " |\n",
      " |      .. versionadded:: 3.5.0\n",
      " |\n",
      " |      .. versionchanged:: 4.0.0\n",
      " |          Supports Spark Classic.\n",
      " |\n",
      " |      Parameters\n",
      " |      ----------\n",
      " |      tag : list of str\n",
      " |          The tag to be removed. Cannot contain ',' (comma) character or be an empty string.\n",
      " |\n",
      " |  sql(\n",
      " |      self,\n",
      " |      sqlQuery: str,\n",
      " |      args: Union[Dict[str, Any], List, NoneType] = None,\n",
      " |      **kwargs: Any\n",
      " |  ) -> 'ParentDataFrame'\n",
      " |      Returns a :class:`DataFrame` representing the result of the given query.\n",
      " |      When ``kwargs`` is specified, this method formats the given string by using the Python\n",
      " |      standard formatter. The method binds named parameters to SQL literals or\n",
      " |      positional parameters from `args`. It doesn't support named and positional parameters\n",
      " |      in the same SQL query.\n",
      " |\n",
      " |      .. versionadded:: 2.0.0\n",
      " |\n",
      " |      .. versionchanged:: 3.4.0\n",
      " |          Supports Spark Connect and parameterized SQL.\n",
      " |\n",
      " |      .. versionchanged:: 3.5.0\n",
      " |          Added positional parameters.\n",
      " |\n",
      " |      Parameters\n",
      " |      ----------\n",
      " |      sqlQuery : str\n",
      " |          SQL query string.\n",
      " |      args : dict or list\n",
      " |          A dictionary of parameter names to Python objects or a list of Python objects\n",
      " |          that can be converted to SQL literal expressions. See\n",
      " |          `Supported Data Types`_ for supported value types in Python.\n",
      " |          For example, dictionary keys: \"rank\", \"name\", \"birthdate\";\n",
      " |          dictionary or list values: 1, \"Steven\", datetime.date(2023, 4, 2).\n",
      " |          A value can be also a `Column` of a literal or collection constructor functions such\n",
      " |          as `map()`, `array()`, `struct()`, in that case it is taken as is.\n",
      " |\n",
      " |          .. _Supported Data Types: https://spark.apache.org/docs/latest/sql-ref-datatypes.html\n",
      " |\n",
      " |          .. versionadded:: 3.4.0\n",
      " |\n",
      " |      kwargs : dict\n",
      " |          Other variables that the user wants to set that can be referenced in the query\n",
      " |\n",
      " |          .. versionchanged:: 3.3.0\n",
      " |             Added optional argument ``kwargs`` to specify the mapping of variables in the query.\n",
      " |             This feature is experimental and unstable.\n",
      " |\n",
      " |      Returns\n",
      " |      -------\n",
      " |      :class:`DataFrame`\n",
      " |\n",
      " |      Notes\n",
      " |      -----\n",
      " |      In Spark Classic, a temporary view referenced in `spark.sql` is resolved immediately,\n",
      " |      while in Spark Connect it is lazily analyzed.\n",
      " |      So in Spark Connect if a view is dropped, modified or replaced after `spark.sql`, the\n",
      " |      execution may fail or generate different results.\n",
      " |\n",
      " |      Examples\n",
      " |      --------\n",
      " |      Executing a SQL query.\n",
      " |\n",
      " |      >>> spark.sql(\"SELECT * FROM range(10) where id > 7\").show()\n",
      " |      +---+\n",
      " |      | id|\n",
      " |      +---+\n",
      " |      |  8|\n",
      " |      |  9|\n",
      " |      +---+\n",
      " |\n",
      " |      Executing a SQL query with variables as Python formatter standard.\n",
      " |\n",
      " |      >>> spark.sql(\n",
      " |      ...     \"SELECT * FROM range(10) WHERE id > {bound1} AND id < {bound2}\", bound1=7, bound2=9\n",
      " |      ... ).show()\n",
      " |      +---+\n",
      " |      | id|\n",
      " |      +---+\n",
      " |      |  8|\n",
      " |      +---+\n",
      " |\n",
      " |      >>> mydf = spark.range(10)\n",
      " |      >>> spark.sql(\n",
      " |      ...     \"SELECT {col} FROM {mydf} WHERE id IN {x}\",\n",
      " |      ...     col=mydf.id, mydf=mydf, x=tuple(range(4))).show()\n",
      " |      +---+\n",
      " |      | id|\n",
      " |      +---+\n",
      " |      |  0|\n",
      " |      |  1|\n",
      " |      |  2|\n",
      " |      |  3|\n",
      " |      +---+\n",
      " |\n",
      " |      >>> spark.sql('''\n",
      " |      ...   SELECT m1.a, m2.b\n",
      " |      ...   FROM {table1} m1 INNER JOIN {table2} m2\n",
      " |      ...   ON m1.key = m2.key\n",
      " |      ...   ORDER BY m1.a, m2.b''',\n",
      " |      ...   table1=spark.createDataFrame([(1, \"a\"), (2, \"b\")], [\"a\", \"key\"]),\n",
      " |      ...   table2=spark.createDataFrame([(3, \"a\"), (4, \"b\"), (5, \"b\")], [\"b\", \"key\"])).show()\n",
      " |      +---+---+\n",
      " |      |  a|  b|\n",
      " |      +---+---+\n",
      " |      |  1|  3|\n",
      " |      |  2|  4|\n",
      " |      |  2|  5|\n",
      " |      +---+---+\n",
      " |\n",
      " |      Also, it is possible to query using class:`Column` from :class:`DataFrame`.\n",
      " |\n",
      " |      >>> mydf = spark.createDataFrame([(1, 4), (2, 4), (3, 6)], [\"A\", \"B\"])\n",
      " |      >>> spark.sql(\"SELECT {df.A}, {df[B]} FROM {df}\", df=mydf).show()\n",
      " |      +---+---+\n",
      " |      |  A|  B|\n",
      " |      +---+---+\n",
      " |      |  1|  4|\n",
      " |      |  2|  4|\n",
      " |      |  3|  6|\n",
      " |      +---+---+\n",
      " |\n",
      " |      And substitute named parameters with the `:` prefix by SQL literals.\n",
      " |\n",
      " |      >>> from pyspark.sql.functions import create_map, lit\n",
      " |      >>> spark.sql(\n",
      " |      ...   \"SELECT *, element_at(:m, 'a') AS C FROM {df} WHERE {df[B]} > :minB\",\n",
      " |      ...   {\"minB\" : 5, \"m\" : create_map(lit('a'), lit(1))}, df=mydf).show()\n",
      " |      +---+---+---+\n",
      " |      |  A|  B|  C|\n",
      " |      +---+---+---+\n",
      " |      |  3|  6|  1|\n",
      " |      +---+---+---+\n",
      " |\n",
      " |      Or positional parameters marked by `?` in the SQL query by SQL literals.\n",
      " |\n",
      " |      >>> from pyspark.sql.functions import array, lit\n",
      " |      >>> spark.sql(\n",
      " |      ...   \"SELECT *, element_at(?, 1) AS C FROM {df} WHERE {df[B]} > ? and ? < {df[A]}\",\n",
      " |      ...   args=[array(lit(1), lit(2), lit(3)), 5, 2], df=mydf).show()\n",
      " |      +---+---+---+\n",
      " |      |  A|  B|  C|\n",
      " |      +---+---+---+\n",
      " |      |  3|  6|  1|\n",
      " |      +---+---+---+\n",
      " |\n",
      " |  stop(self) -> None\n",
      " |      Stop the underlying :class:`SparkContext`.\n",
      " |\n",
      " |      .. versionadded:: 2.0.0\n",
      " |\n",
      " |      .. versionchanged:: 3.4.0\n",
      " |          Supports Spark Connect.\n",
      " |\n",
      " |      Examples\n",
      " |      --------\n",
      " |      >>> spark.stop()  # doctest: +SKIP\n",
      " |\n",
      " |  streams = <functools.cached_property object>\n",
      " |      Returns a :class:`StreamingQueryManager` that allows managing all the\n",
      " |      :class:`StreamingQuery` instances active on `this` context.\n",
      " |\n",
      " |      .. versionadded:: 2.0.0\n",
      " |\n",
      " |      .. versionchanged:: 3.5.0\n",
      " |          Supports Spark Connect.\n",
      " |\n",
      " |      Notes\n",
      " |      -----\n",
      " |      This API is evolving.\n",
      " |\n",
      " |      Returns\n",
      " |      -------\n",
      " |      :class:`StreamingQueryManager`\n",
      " |\n",
      " |      Examples\n",
      " |      --------\n",
      " |      >>> spark.streams\n",
      " |      <pyspark...StreamingQueryManager object ...>\n",
      " |\n",
      " |      Get the list of active streaming queries\n",
      " |\n",
      " |      >>> sq = spark.readStream.format(\n",
      " |      ...     \"rate\").load().writeStream.format('memory').queryName('this_query').start()\n",
      " |      >>> sqm = spark.streams\n",
      " |      >>> [q.name for q in sqm.active]\n",
      " |      ['this_query']\n",
      " |      >>> sq.stop()\n",
      " |\n",
      " |  table(self, tableName: str) -> pyspark.sql.dataframe.DataFrame\n",
      " |      Returns the specified table as a :class:`DataFrame`.\n",
      " |\n",
      " |      .. versionadded:: 2.0.0\n",
      " |\n",
      " |      .. versionchanged:: 3.4.0\n",
      " |          Supports Spark Connect.\n",
      " |\n",
      " |      Parameters\n",
      " |      ----------\n",
      " |      tableName : str\n",
      " |          the table name to retrieve.\n",
      " |\n",
      " |      Returns\n",
      " |      -------\n",
      " |      :class:`DataFrame`\n",
      " |\n",
      " |      Notes\n",
      " |      -----\n",
      " |      In Spark Classic, a temporary view referenced in `spark.table` is resolved immediately,\n",
      " |      while in Spark Connect it is lazily analyzed.\n",
      " |      So in Spark Connect if a view is dropped, modified or replaced after `spark.table`, the\n",
      " |      execution may fail or generate different results.\n",
      " |\n",
      " |      Examples\n",
      " |      --------\n",
      " |      >>> spark.range(5).createOrReplaceTempView(\"table1\")\n",
      " |      >>> spark.table(\"table1\").sort(\"id\").show()\n",
      " |      +---+\n",
      " |      | id|\n",
      " |      +---+\n",
      " |      |  0|\n",
      " |      |  1|\n",
      " |      |  2|\n",
      " |      |  3|\n",
      " |      |  4|\n",
      " |      +---+\n",
      " |\n",
      " |  version = <functools.cached_property object>\n",
      " |      The version of Spark on which this application is running.\n",
      " |\n",
      " |      .. versionadded:: 2.0.0\n",
      " |\n",
      " |      .. versionchanged:: 3.4.0\n",
      " |          Supports Spark Connect.\n",
      " |\n",
      " |      Returns\n",
      " |      -------\n",
      " |      str\n",
      " |          the version of Spark in string.\n",
      " |\n",
      " |      Examples\n",
      " |      --------\n",
      " |      >>> _ = spark.version\n",
      " |\n",
      " |  ----------------------------------------------------------------------\n",
      " |  Class methods defined here:\n",
      " |\n",
      " |  active() -> 'SparkSession'\n",
      " |      Returns the active or default :class:`SparkSession` for the current thread, returned by\n",
      " |      the builder.\n",
      " |\n",
      " |      .. versionadded:: 3.5.0\n",
      " |\n",
      " |      Returns\n",
      " |      -------\n",
      " |      :class:`SparkSession`\n",
      " |          Spark session if an active or default session exists for the current thread.\n",
      " |\n",
      " |  getActiveSession() -> Optional[ForwardRef('SparkSession')]\n",
      " |      Returns the active :class:`SparkSession` for the current thread, returned by the builder\n",
      " |\n",
      " |      .. versionadded:: 3.0.0\n",
      " |\n",
      " |      .. versionchanged:: 3.5.0\n",
      " |          Supports Spark Connect.\n",
      " |\n",
      " |      Returns\n",
      " |      -------\n",
      " |      :class:`SparkSession`\n",
      " |          Spark session if an active session exists for the current thread\n",
      " |\n",
      " |      Examples\n",
      " |      --------\n",
      " |      >>> s = SparkSession.getActiveSession()\n",
      " |      >>> df = s.createDataFrame([('Alice', 1)], ['name', 'age'])\n",
      " |      >>> df.select(\"age\").show()\n",
      " |      +---+\n",
      " |      |age|\n",
      " |      +---+\n",
      " |      |  1|\n",
      " |      +---+\n",
      " |\n",
      " |  ----------------------------------------------------------------------\n",
      " |  Readonly properties defined here:\n",
      " |\n",
      " |  builder\n",
      " |\n",
      " |  client\n",
      " |      Gives access to the Spark Connect client. In normal cases this is not necessary to be used\n",
      " |      and only relevant for testing.\n",
      " |\n",
      " |      .. versionadded:: 3.4.0\n",
      " |\n",
      " |      Returns\n",
      " |      -------\n",
      " |      :class:`SparkConnectClient`\n",
      " |\n",
      " |      Notes\n",
      " |      -----\n",
      " |      This API is unstable, and a developer API. It returns non-API instance\n",
      " |      :class:`SparkConnectClient`.\n",
      " |      This is an API dedicated to Spark Connect client only. With regular Spark Session, it throws\n",
      " |      an exception.\n",
      " |\n",
      " |  dataSource\n",
      " |      Returns a :class:`DataSourceRegistration` for data source registration.\n",
      " |\n",
      " |      .. versionadded:: 4.0.0\n",
      " |\n",
      " |      Returns\n",
      " |      -------\n",
      " |      :class:`DataSourceRegistration`\n",
      " |\n",
      " |      Notes\n",
      " |      -----\n",
      " |      This feature is experimental and unstable.\n",
      " |\n",
      " |  profile\n",
      " |      Returns a :class:`Profile` for performance/memory profiling.\n",
      " |\n",
      " |      .. versionadded:: 4.0.0\n",
      " |\n",
      " |      Returns\n",
      " |      -------\n",
      " |      :class:`Profile`\n",
      " |\n",
      " |      Notes\n",
      " |      -----\n",
      " |      Supports Spark Connect.\n",
      " |\n",
      " |  read\n",
      " |      Returns a :class:`DataFrameReader` that can be used to read data\n",
      " |      in as a :class:`DataFrame`.\n",
      " |\n",
      " |      .. versionadded:: 2.0.0\n",
      " |\n",
      " |      .. versionchanged:: 3.4.0\n",
      " |          Supports Spark Connect.\n",
      " |\n",
      " |      Returns\n",
      " |      -------\n",
      " |      :class:`DataFrameReader`\n",
      " |\n",
      " |      Examples\n",
      " |      --------\n",
      " |      >>> spark.read\n",
      " |      <...DataFrameReader object ...>\n",
      " |\n",
      " |      Write a DataFrame into a JSON file and read it back.\n",
      " |\n",
      " |      >>> import tempfile\n",
      " |      >>> with tempfile.TemporaryDirectory(prefix=\"read\") as d:\n",
      " |      ...     # Write a DataFrame into a JSON file\n",
      " |      ...     spark.createDataFrame(\n",
      " |      ...         [{\"age\": 100, \"name\": \"Hyukjin Kwon\"}]\n",
      " |      ...     ).write.mode(\"overwrite\").format(\"json\").save(d)\n",
      " |      ...\n",
      " |      ...     # Read the JSON file as a DataFrame.\n",
      " |      ...     spark.read.format('json').load(d).show()\n",
      " |      +---+------------+\n",
      " |      |age|        name|\n",
      " |      +---+------------+\n",
      " |      |100|Hyukjin Kwon|\n",
      " |      +---+------------+\n",
      " |\n",
      " |  readStream\n",
      " |      Returns a :class:`DataStreamReader` that can be used to read data streams\n",
      " |      as a streaming :class:`DataFrame`.\n",
      " |\n",
      " |      .. versionadded:: 2.0.0\n",
      " |\n",
      " |      .. versionchanged:: 3.5.0\n",
      " |          Supports Spark Connect.\n",
      " |\n",
      " |      Notes\n",
      " |      -----\n",
      " |      This API is evolving.\n",
      " |\n",
      " |      Returns\n",
      " |      -------\n",
      " |      :class:`DataStreamReader`\n",
      " |\n",
      " |      Examples\n",
      " |      --------\n",
      " |      >>> spark.readStream\n",
      " |      <pyspark...DataStreamReader object ...>\n",
      " |\n",
      " |      The example below uses Rate source that generates rows continuously.\n",
      " |      After that, we operate a modulo by 3, and then write the stream out to the console.\n",
      " |      The streaming query stops in 3 seconds.\n",
      " |\n",
      " |      >>> import time\n",
      " |      >>> df = spark.readStream.format(\"rate\").load()\n",
      " |      >>> df = df.selectExpr(\"value % 3 as v\")\n",
      " |      >>> q = df.writeStream.format(\"console\").start()\n",
      " |      >>> time.sleep(3)\n",
      " |      >>> q.stop()\n",
      " |\n",
      " |  sparkContext\n",
      " |      Returns the underlying :class:`SparkContext`.\n",
      " |\n",
      " |      .. versionadded:: 2.0.0\n",
      " |\n",
      " |      Returns\n",
      " |      -------\n",
      " |      :class:`SparkContext`\n",
      " |\n",
      " |      Examples\n",
      " |      --------\n",
      " |      >>> spark.sparkContext\n",
      " |      <SparkContext master=... appName=...>\n",
      " |\n",
      " |      Create an RDD from the Spark context\n",
      " |\n",
      " |      >>> rdd = spark.sparkContext.parallelize([1, 2, 3])\n",
      " |      >>> rdd.collect()\n",
      " |      [1, 2, 3]\n",
      " |\n",
      " |  tvf\n",
      " |      Returns a :class:`tvf.TableValuedFunction` that can be used to call a table-valued function\n",
      " |      (TVF).\n",
      " |\n",
      " |      .. versionadded:: 4.0.0\n",
      " |\n",
      " |      Notes\n",
      " |      -----\n",
      " |      This API is evolving.\n",
      " |\n",
      " |      Returns\n",
      " |      -------\n",
      " |      :class:`tvf.TableValuedFunction`\n",
      " |\n",
      " |      Examples\n",
      " |      --------\n",
      " |      >>> spark.tvf\n",
      " |      <pyspark...TableValuedFunction object ...>\n",
      " |\n",
      " |      >>> import pyspark.sql.functions as sf\n",
      " |      >>> spark.tvf.explode(sf.array(sf.lit(1), sf.lit(2), sf.lit(3))).show()\n",
      " |      +---+\n",
      " |      |col|\n",
      " |      +---+\n",
      " |      |  1|\n",
      " |      |  2|\n",
      " |      |  3|\n",
      " |      +---+\n",
      " |\n",
      " |  udf\n",
      " |      Returns a :class:`UDFRegistration` for UDF registration.\n",
      " |\n",
      " |      .. versionadded:: 2.0.0\n",
      " |\n",
      " |      .. versionchanged:: 3.4.0\n",
      " |          Supports Spark Connect.\n",
      " |\n",
      " |      Returns\n",
      " |      -------\n",
      " |      :class:`UDFRegistration`\n",
      " |\n",
      " |      Examples\n",
      " |      --------\n",
      " |      Register a Python UDF, and use it in SQL.\n",
      " |\n",
      " |      >>> strlen = spark.udf.register(\"strlen\", lambda x: len(x))\n",
      " |      >>> spark.sql(\"SELECT strlen('test')\").show()\n",
      " |      +------------+\n",
      " |      |strlen(test)|\n",
      " |      +------------+\n",
      " |      |           4|\n",
      " |      +------------+\n",
      " |\n",
      " |  udtf\n",
      " |      Returns a :class:`UDTFRegistration` for UDTF registration.\n",
      " |\n",
      " |      .. versionadded:: 3.5.0\n",
      " |\n",
      " |      Returns\n",
      " |      -------\n",
      " |      :class:`UDTFRegistration`\n",
      " |\n",
      " |      Notes\n",
      " |      -----\n",
      " |      Supports Spark Connect.\n",
      " |\n",
      " |  ----------------------------------------------------------------------\n",
      " |  Data and other attributes defined here:\n",
      " |\n",
      " |  Builder = <class 'pyspark.sql.session.SparkSession.Builder'>\n",
      " |      Builder for :class:`SparkSession`.\n",
      " |\n",
      " |\n",
      " |  __annotations__ = {'_activeSession': typing.ClassVar[typing.Optional[F...\n",
      " |\n",
      " |  ----------------------------------------------------------------------\n",
      " |  Data descriptors inherited from pyspark.sql.pandas.conversion.SparkConversionMixin:\n",
      " |\n",
      " |  __dict__\n",
      " |      dictionary for instance variables\n",
      " |\n",
      " |  __weakref__\n",
      " |      list of weak references to the object\n",
      "\n"
     ]
    }
   ],
   "source": [
    "# Use help to obtain more detailed information\n",
    "help(spark)"
   ]
  },
  {
   "cell_type": "code",
   "execution_count": 13,
   "metadata": {
    "scrolled": true
   },
   "outputs": [
    {
     "name": "stdout",
     "output_type": "stream",
     "text": [
      "Help on class map in module builtins:\n",
      "\n",
      "class map(object)\n",
      " |  map(function, iterable, /, *iterables)\n",
      " |\n",
      " |  Make an iterator that computes the function using arguments from\n",
      " |  each of the iterables.  Stops when the shortest iterable is exhausted.\n",
      " |\n",
      " |  Methods defined here:\n",
      " |\n",
      " |  __getattribute__(self, name, /)\n",
      " |      Return getattr(self, name).\n",
      " |\n",
      " |  __iter__(self, /)\n",
      " |      Implement iter(self).\n",
      " |\n",
      " |  __next__(self, /)\n",
      " |      Implement next(self).\n",
      " |\n",
      " |  __reduce__(self, /)\n",
      " |      Return state information for pickling.\n",
      " |\n",
      " |  ----------------------------------------------------------------------\n",
      " |  Static methods defined here:\n",
      " |\n",
      " |  __new__(*args, **kwargs)\n",
      " |      Create and return a new object.  See help(type) for accurate signature.\n",
      "\n",
      "Help on class Test in module testmti850:\n",
      "\n",
      "class Test(builtins.object)\n",
      " |  Class methods defined here:\n",
      " |\n",
      " |  assertEquals(var, val, msg='')\n",
      " |\n",
      " |  assertEqualsHashed(var, hashed_val, msg='')\n",
      " |\n",
      " |  assertTrue(result, msg='')\n",
      " |\n",
      " |  printStats()\n",
      " |\n",
      " |  setFailFast()\n",
      " |\n",
      " |  setPrivateMode()\n",
      " |\n",
      " |  ----------------------------------------------------------------------\n",
      " |  Data descriptors defined here:\n",
      " |\n",
      " |  __dict__\n",
      " |      dictionary for instance variables\n",
      " |\n",
      " |  __weakref__\n",
      " |      list of weak references to the object\n",
      " |\n",
      " |  ----------------------------------------------------------------------\n",
      " |  Data and other attributes defined here:\n",
      " |\n",
      " |  failFast = False\n",
      " |\n",
      " |  numTests = 0\n",
      " |\n",
      " |  passed = 0\n",
      " |\n",
      " |  private = False\n",
      "\n"
     ]
    }
   ],
   "source": [
    "# Help can be used on any Python object\n",
    "help(map)\n",
    "help(testmti850.Test)"
   ]
  },
  {
   "cell_type": "markdown",
   "metadata": {},
   "source": [
    "## Part 2: Exploratory Data Analysis\n",
    "\n",
    "Let's begin looking at our data.\n",
    "\n",
    "For this assignment, we will use a data set from NASA Kennedy Space Center web server in Florida.\n",
    "\n",
    "The full data set is freely available at <ftp://ita.ee.lbl.gov/html/contrib/NASA-HTTP.html>, and it contains all HTTP requests for two months.\n",
    "\n",
    "We are using a subset that only contains several days' worth of requests. To download the log and put it into HDFS, run the following commands in a terminal:\n",
    "\n",
    "```\n",
    "wget ftp://ita.ee.lbl.gov/traces/NASA_access_log_Aug95.gz\n",
    "gunzip NASA_access_log_Aug95.gz\n",
    "hdfs dfs -put NASA_access_log_Aug95 /NASA_access_log_Aug95.txt\n",
    "```\n",
    "\n"
   ]
  },
  {
   "cell_type": "markdown",
   "metadata": {},
   "source": [
    "### (2a) Loading the log file\n",
    "\n",
    "Now that we have the path to the file, let's load it into a DataFrame. We'll do this in steps. First, we'll use `spark.read.text()` to read the text file. This will produce a DataFrame with a single string column called `value`."
   ]
  },
  {
   "cell_type": "code",
   "execution_count": 15,
   "metadata": {
    "scrolled": true
   },
   "outputs": [
    {
     "name": "stdout",
     "output_type": "stream",
     "text": [
      "root\n",
      " |-- value: string (nullable = true)\n",
      "\n"
     ]
    }
   ],
   "source": [
    "log_filename = \"hdfs://localhost:9000/NASA_access_log_Aug95.txt\"\n",
    "base_df = spark.read.text(log_filename)\n",
    "\n",
    "# Let's look at the schema\n",
    "base_df.printSchema()"
   ]
  },
  {
   "cell_type": "markdown",
   "metadata": {},
   "source": [
    "Let's take a look at some of the data."
   ]
  },
  {
   "cell_type": "code",
   "execution_count": 16,
   "metadata": {
    "scrolled": true
   },
   "outputs": [
    {
     "name": "stdout",
     "output_type": "stream",
     "text": [
      "+-------------------------------------------------------------------------------------------------------------------------------+\n",
      "|value                                                                                                                          |\n",
      "+-------------------------------------------------------------------------------------------------------------------------------+\n",
      "|in24.inetnebr.com - - [01/Aug/1995:00:00:01 -0400] \"GET /shuttle/missions/sts-68/news/sts-68-mcc-05.txt HTTP/1.0\" 200 1839     |\n",
      "|uplherc.upl.com - - [01/Aug/1995:00:00:07 -0400] \"GET / HTTP/1.0\" 304 0                                                        |\n",
      "|uplherc.upl.com - - [01/Aug/1995:00:00:08 -0400] \"GET /images/ksclogo-medium.gif HTTP/1.0\" 304 0                               |\n",
      "|uplherc.upl.com - - [01/Aug/1995:00:00:08 -0400] \"GET /images/MOSAIC-logosmall.gif HTTP/1.0\" 304 0                             |\n",
      "|uplherc.upl.com - - [01/Aug/1995:00:00:08 -0400] \"GET /images/USA-logosmall.gif HTTP/1.0\" 304 0                                |\n",
      "|ix-esc-ca2-07.ix.netcom.com - - [01/Aug/1995:00:00:09 -0400] \"GET /images/launch-logo.gif HTTP/1.0\" 200 1713                   |\n",
      "|uplherc.upl.com - - [01/Aug/1995:00:00:10 -0400] \"GET /images/WORLD-logosmall.gif HTTP/1.0\" 304 0                              |\n",
      "|slppp6.intermind.net - - [01/Aug/1995:00:00:10 -0400] \"GET /history/skylab/skylab.html HTTP/1.0\" 200 1687                      |\n",
      "|piweba4y.prodigy.com - - [01/Aug/1995:00:00:10 -0400] \"GET /images/launchmedium.gif HTTP/1.0\" 200 11853                        |\n",
      "|slppp6.intermind.net - - [01/Aug/1995:00:00:11 -0400] \"GET /history/skylab/skylab-small.gif HTTP/1.0\" 200 9202                 |\n",
      "|slppp6.intermind.net - - [01/Aug/1995:00:00:12 -0400] \"GET /images/ksclogosmall.gif HTTP/1.0\" 200 3635                         |\n",
      "|ix-esc-ca2-07.ix.netcom.com - - [01/Aug/1995:00:00:12 -0400] \"GET /history/apollo/images/apollo-logo1.gif HTTP/1.0\" 200 1173   |\n",
      "|slppp6.intermind.net - - [01/Aug/1995:00:00:13 -0400] \"GET /history/apollo/images/apollo-logo.gif HTTP/1.0\" 200 3047           |\n",
      "|uplherc.upl.com - - [01/Aug/1995:00:00:14 -0400] \"GET /images/NASA-logosmall.gif HTTP/1.0\" 304 0                               |\n",
      "|133.43.96.45 - - [01/Aug/1995:00:00:16 -0400] \"GET /shuttle/missions/sts-69/mission-sts-69.html HTTP/1.0\" 200 10566            |\n",
      "|kgtyk4.kj.yamagata-u.ac.jp - - [01/Aug/1995:00:00:17 -0400] \"GET / HTTP/1.0\" 200 7280                                          |\n",
      "|kgtyk4.kj.yamagata-u.ac.jp - - [01/Aug/1995:00:00:18 -0400] \"GET /images/ksclogo-medium.gif HTTP/1.0\" 200 5866                 |\n",
      "|d0ucr6.fnal.gov - - [01/Aug/1995:00:00:19 -0400] \"GET /history/apollo/apollo-16/apollo-16.html HTTP/1.0\" 200 2743              |\n",
      "|ix-esc-ca2-07.ix.netcom.com - - [01/Aug/1995:00:00:19 -0400] \"GET /shuttle/resources/orbiters/discovery.html HTTP/1.0\" 200 6849|\n",
      "|d0ucr6.fnal.gov - - [01/Aug/1995:00:00:20 -0400] \"GET /history/apollo/apollo-16/apollo-16-patch-small.gif HTTP/1.0\" 200 14897  |\n",
      "+-------------------------------------------------------------------------------------------------------------------------------+\n",
      "only showing top 20 rows\n"
     ]
    }
   ],
   "source": [
    "base_df.show(truncate=False) "
   ]
  },
  {
   "cell_type": "markdown",
   "metadata": {},
   "source": [
    "### (2b) Parsing the log file\n",
    "\n",
    "If you're familiar with web servers at all, you'll recognize that this is in [Common Log Format](https://www.w3.org/Daemon/User/Config/Logging.html#common-logfile-format). The fields are:\n",
    "\n",
    "_remotehost rfc931 authuser [date] \"request\" status bytes_\n",
    "\n",
    "| field         | meaning                                                                |\n",
    "| ------------- | ---------------------------------------------------------------------- |\n",
    "| _remotehost_  | Remote hostname (or IP number if DNS hostname is not available).       |\n",
    "| _rfc931_      | The remote logname of the user. We don't really care about this field. |\n",
    "| _authuser_    | The username of the remote user, as authenticated by the HTTP server.  |\n",
    "| _[date]_      | The date and time of the request.                                      |\n",
    "| _\"request\"_   | The request, exactly as it came from the browser or client.            |\n",
    "| _status_      | The HTTP status code the server sent back to the client.               |\n",
    "| _bytes_       | The number of bytes (`Content-Length`) transferred to the client.      |\n",
    "\n",
    "\n",
    "Next, we have to parse it into individual columns. We'll use the special built-in [regexp\\_extract()](https://spark.apache.org/docs/latest/api/python/reference/pyspark.sql/api/pyspark.sql.functions.regexp.html)\n",
    "function to do the parsing. This function matches a column against a regular expression with one or more [capture groups](http://regexone.com/lesson/capturing_groups) and allows you to extract one of the matched groups. We'll use one regular expression for each field we wish to extract.\n",
    "\n",
    "If you can't read these regular expressions, don't worry. Trust us: They work. If you find regular expressions confusing (and they certainly _can_ be), and you want to learn more about them, start with the\n",
    "[RegexOne web site](http://regexone.com/). You might also find [_Regular Expressions Cookbook_](http://shop.oreilly.com/product/0636920023630.do), by Jan Goyvaerts and Steven Levithan, to be helpful.\n",
    "\n",
    "_Some people, when confronted with a problem, think \"I know, I'll use regular expressions.\" Now they have two problems._ (attributed to Jamie Zawinski)"
   ]
  },
  {
   "cell_type": "code",
   "execution_count": 17,
   "metadata": {},
   "outputs": [
    {
     "name": "stdout",
     "output_type": "stream",
     "text": [
      "+----------------------------+--------------------------+---------------------------------------------------+------+------------+\n",
      "|host                        |timestamp                 |path                                               |status|content_size|\n",
      "+----------------------------+--------------------------+---------------------------------------------------+------+------------+\n",
      "|in24.inetnebr.com           |01/Aug/1995:00:00:01 -0400|/shuttle/missions/sts-68/news/sts-68-mcc-05.txt    |200   |1839        |\n",
      "|uplherc.upl.com             |01/Aug/1995:00:00:07 -0400|/                                                  |304   |0           |\n",
      "|uplherc.upl.com             |01/Aug/1995:00:00:08 -0400|/images/ksclogo-medium.gif                         |304   |0           |\n",
      "|uplherc.upl.com             |01/Aug/1995:00:00:08 -0400|/images/MOSAIC-logosmall.gif                       |304   |0           |\n",
      "|uplherc.upl.com             |01/Aug/1995:00:00:08 -0400|/images/USA-logosmall.gif                          |304   |0           |\n",
      "|ix-esc-ca2-07.ix.netcom.com |01/Aug/1995:00:00:09 -0400|/images/launch-logo.gif                            |200   |1713        |\n",
      "|uplherc.upl.com             |01/Aug/1995:00:00:10 -0400|/images/WORLD-logosmall.gif                        |304   |0           |\n",
      "|slppp6.intermind.net        |01/Aug/1995:00:00:10 -0400|/history/skylab/skylab.html                        |200   |1687        |\n",
      "|piweba4y.prodigy.com        |01/Aug/1995:00:00:10 -0400|/images/launchmedium.gif                           |200   |11853       |\n",
      "|slppp6.intermind.net        |01/Aug/1995:00:00:11 -0400|/history/skylab/skylab-small.gif                   |200   |9202        |\n",
      "|slppp6.intermind.net        |01/Aug/1995:00:00:12 -0400|/images/ksclogosmall.gif                           |200   |3635        |\n",
      "|ix-esc-ca2-07.ix.netcom.com |01/Aug/1995:00:00:12 -0400|/history/apollo/images/apollo-logo1.gif            |200   |1173        |\n",
      "|slppp6.intermind.net        |01/Aug/1995:00:00:13 -0400|/history/apollo/images/apollo-logo.gif             |200   |3047        |\n",
      "|uplherc.upl.com             |01/Aug/1995:00:00:14 -0400|/images/NASA-logosmall.gif                         |304   |0           |\n",
      "|133.43.96.45                |01/Aug/1995:00:00:16 -0400|/shuttle/missions/sts-69/mission-sts-69.html       |200   |10566       |\n",
      "|kgtyk4.kj.yamagata-u.ac.jp  |01/Aug/1995:00:00:17 -0400|/                                                  |200   |7280        |\n",
      "|kgtyk4.kj.yamagata-u.ac.jp  |01/Aug/1995:00:00:18 -0400|/images/ksclogo-medium.gif                         |200   |5866        |\n",
      "|d0ucr6.fnal.gov             |01/Aug/1995:00:00:19 -0400|/history/apollo/apollo-16/apollo-16.html           |200   |2743        |\n",
      "|ix-esc-ca2-07.ix.netcom.com |01/Aug/1995:00:00:19 -0400|/shuttle/resources/orbiters/discovery.html         |200   |6849        |\n",
      "|d0ucr6.fnal.gov             |01/Aug/1995:00:00:20 -0400|/history/apollo/apollo-16/apollo-16-patch-small.gif|200   |14897       |\n",
      "+----------------------------+--------------------------+---------------------------------------------------+------+------------+\n",
      "only showing top 20 rows\n"
     ]
    }
   ],
   "source": [
    "from pyspark.sql.functions import split, regexp_extract\n",
    "\n",
    "split_df = base_df.select(regexp_extract('value', r'^([^\\s]+\\s)', 1).alias('host'),\n",
    "                          regexp_extract('value', r'^.*\\[(\\d\\d/\\w{3}/\\d{4}:\\d{2}:\\d{2}:\\d{2} -\\d{4})]', 1).alias('timestamp'),\n",
    "                          regexp_extract('value', r'^.*\"\\w+\\s+([^\\s]+)\\s+HTTP.*\"', 1).alias('path'),\n",
    "                          regexp_extract('value', r'^.*\"\\s+([^\\s]+)', 1).alias('status'),\n",
    "                          regexp_extract('value', r'^.*\\s+(\\d+)$', 1).alias('content_size'))\n",
    "\n",
    "split_df.show(truncate=False)"
   ]
  },
  {
   "cell_type": "markdown",
   "metadata": {},
   "source": [
    "### (2c) Data Cleaning\n",
    "\n",
    "Let's see how well our parsing logic worked. First, let's verify that there are no null rows in the original data set."
   ]
  },
  {
   "cell_type": "code",
   "execution_count": 18,
   "metadata": {
    "scrolled": true
   },
   "outputs": [
    {
     "name": "stderr",
     "output_type": "stream",
     "text": [
      "                                                                                "
     ]
    },
    {
     "data": {
      "text/plain": [
       "0"
      ]
     },
     "execution_count": 18,
     "metadata": {},
     "output_type": "execute_result"
    }
   ],
   "source": [
    "base_df.filter(base_df['value'].isNull()).count()"
   ]
  },
  {
   "cell_type": "markdown",
   "metadata": {},
   "source": [
    "If our parsing worked properly, we'll have no rows with null column values. Let's check."
   ]
  },
  {
   "cell_type": "code",
   "execution_count": 20,
   "metadata": {},
   "outputs": [],
   "source": [
    "from pyspark.sql.functions import col, expr\n",
    "\n",
    "split_df = (split_df\n",
    "    .withColumn(\"status\", expr(\"try_cast(status AS INT)\"))\n",
    "    .withColumn(\"content_size\", expr(\"try_cast(content_size AS INT)\"))\n",
    ")"
   ]
  },
  {
   "cell_type": "code",
   "execution_count": 21,
   "metadata": {
    "scrolled": true
   },
   "outputs": [
    {
     "name": "stderr",
     "output_type": "stream",
     "text": [
      "                                                                                "
     ]
    },
    {
     "data": {
      "text/plain": [
       "14178"
      ]
     },
     "execution_count": 21,
     "metadata": {},
     "output_type": "execute_result"
    }
   ],
   "source": [
    "bad_rows_df = split_df.filter(split_df['host'].isNull() |\n",
    "                              split_df['timestamp'].isNull() |\n",
    "                              split_df['path'].isNull() |\n",
    "                              split_df['status'].isNull() |\n",
    "                             split_df['content_size'].isNull())\n",
    "\n",
    "bad_rows_df.count()"
   ]
  },
  {
   "cell_type": "markdown",
   "metadata": {},
   "source": [
    "Not good. We have some null values. Something went wrong. Which columns are affected?\n",
    "\n",
    "(Note: This approach is adapted from an [excellent answer](http://stackoverflow.com/a/33901312) on StackOverflow.)"
   ]
  },
  {
   "cell_type": "code",
   "execution_count": 22,
   "metadata": {
    "scrolled": true
   },
   "outputs": [
    {
     "name": "stderr",
     "output_type": "stream",
     "text": [
      "[Stage 10:=============================>                            (1 + 1) / 2]"
     ]
    },
    {
     "name": "stdout",
     "output_type": "stream",
     "text": [
      "+----+---------+----+------+------------+\n",
      "|host|timestamp|path|status|content_size|\n",
      "+----+---------+----+------+------------+\n",
      "|   0|        0|   0|     0|       14178|\n",
      "+----+---------+----+------+------------+\n",
      "\n"
     ]
    },
    {
     "name": "stderr",
     "output_type": "stream",
     "text": [
      "                                                                                "
     ]
    }
   ],
   "source": [
    "from pyspark.sql.functions import col, sum\n",
    "\n",
    "def count_null(col_name):\n",
    "    return sum(col(col_name).isNull().cast('integer')).alias(col_name)\n",
    "\n",
    "# Build up a list of column expressions, one per column.\n",
    "#\n",
    "# This could be done in one line with a Python list comprehension, but we're keeping\n",
    "# it simple for those who don't know Python very well.\n",
    "exprs = []\n",
    "for col_name in split_df.columns:\n",
    "    exprs.append(count_null(col_name))\n",
    "\n",
    "# Run the aggregation. The *exprs converts the list of expressions into\n",
    "# variable function arguments.\n",
    "split_df.agg(*exprs).show() # aggregate on the entire DataFrame (split_df) without groups using the column expressions"
   ]
  },
  {
   "cell_type": "markdown",
   "metadata": {},
   "source": [
    "Okay, they're all in the `content_size` column. Let's see if we can figure out what's wrong. Our original parsing regular expression for that column was:\n",
    "\n",
    "```\n",
    "regexp_extract('value', r'^.*\\s+(\\d+)$', 1).cast('integer').alias('content_size')\n",
    "```\n",
    "\n",
    "The `\\d+` selects one or more digits at the end of the input line. Is it possible there are lines without a valid content size? Or is there something wrong with our regular expression? Let's see if there are any lines that do not end with one or more digits.\n",
    "\n",
    "**Note**: In the expression below, `~` means \"not\"."
   ]
  },
  {
   "cell_type": "code",
   "execution_count": 23,
   "metadata": {
    "scrolled": true
   },
   "outputs": [
    {
     "name": "stderr",
     "output_type": "stream",
     "text": [
      "                                                                                "
     ]
    },
    {
     "data": {
      "text/plain": [
       "14178"
      ]
     },
     "execution_count": 23,
     "metadata": {},
     "output_type": "execute_result"
    }
   ],
   "source": [
    "bad_content_size_df = base_df.filter(~ base_df['value'].rlike(r'\\d+$')) # base_df is the dataframe with the raw log (before split)\n",
    "\n",
    "bad_content_size_df.count()"
   ]
  },
  {
   "cell_type": "markdown",
   "metadata": {},
   "source": [
    "That's it! The count matches the number of rows in `bad_rows_df` exactly.\n",
    "\n",
    "Let's take a look at some of the bad column values. Since it's possible that the rows end in extra white space, we'll tack a marker character onto the end of each line, to make it easier to see trailing white space."
   ]
  },
  {
   "cell_type": "code",
   "execution_count": 24,
   "metadata": {},
   "outputs": [
    {
     "name": "stdout",
     "output_type": "stream",
     "text": [
      "+----------------------------------------------------------------------------------------------------------------------------+\n",
      "|concat(value, *)                                                                                                            |\n",
      "+----------------------------------------------------------------------------------------------------------------------------+\n",
      "|gw1.att.com - - [01/Aug/1995:00:03:53 -0400] \"GET /shuttle/missions/sts-73/news HTTP/1.0\" 302 -*                            |\n",
      "|js002.cc.utsunomiya-u.ac.jp - - [01/Aug/1995:00:07:33 -0400] \"GET /shuttle/resources/orbiters/discovery.gif HTTP/1.0\" 404 -*|\n",
      "|tia1.eskimo.com - - [01/Aug/1995:00:28:41 -0400] \"GET /pub/winvn/release.txt HTTP/1.0\" 404 -*                               |\n",
      "|itws.info.eng.niigata-u.ac.jp - - [01/Aug/1995:00:38:01 -0400] \"GET /ksc.html/facts/about_ksc.html HTTP/1.0\" 403 -*         |\n",
      "|grimnet23.idirect.com - - [01/Aug/1995:00:50:12 -0400] \"GET /www/software/winvn/winvn.html HTTP/1.0\" 404 -*                 |\n",
      "|miriworld.its.unimelb.edu.au - - [01/Aug/1995:01:04:54 -0400] \"GET /history/history.htm HTTP/1.0\" 404 -*                    |\n",
      "|ras38.srv.net - - [01/Aug/1995:01:05:14 -0400] \"GET /elv/DELTA/uncons.htm HTTP/1.0\" 404 -*                                  |\n",
      "|cs1-06.leh.ptd.net - - [01/Aug/1995:01:17:38 -0400] \"GET /sts-71/launch/\" 404 -*                                            |\n",
      "|www-b2.proxy.aol.com - - [01/Aug/1995:01:22:07 -0400] \"GET /shuttle/countdown HTTP/1.0\" 302 -*                              |\n",
      "|maui56.maui.net - - [01/Aug/1995:01:31:56 -0400] \"GET /shuttle HTTP/1.0\" 302 -*                                             |\n",
      "|dialip-24.athenet.net - - [01/Aug/1995:01:33:02 -0400] \"GET /history/apollo/apollo-13.html HTTP/1.0\" 404 -*                 |\n",
      "|h96-158.ccnet.com - - [01/Aug/1995:01:35:50 -0400] \"GET /history/apollo/a-001/a-001-patch-small.gif HTTP/1.0\" 404 -*        |\n",
      "|h96-158.ccnet.com - - [01/Aug/1995:01:36:23 -0400] \"GET /history/apollo/a-001/movies/ HTTP/1.0\" 404 -*                      |\n",
      "|h96-158.ccnet.com - - [01/Aug/1995:01:36:30 -0400] \"GET /history/apollo/a-001/a-001-patch-small.gif HTTP/1.0\" 404 -*        |\n",
      "|h96-158.ccnet.com - - [01/Aug/1995:01:36:38 -0400] \"GET /history/apollo/a-001/movies/ HTTP/1.0\" 404 -*                      |\n",
      "|h96-158.ccnet.com - - [01/Aug/1995:01:36:42 -0400] \"GET /history/apollo/a-001/a-001-patch-small.gif HTTP/1.0\" 404 -*        |\n",
      "|h96-158.ccnet.com - - [01/Aug/1995:01:36:44 -0400] \"GET /history/apollo/a-001/images/ HTTP/1.0\" 404 -*                      |\n",
      "|h96-158.ccnet.com - - [01/Aug/1995:01:36:47 -0400] \"GET /history/apollo/a-001/a-001-patch-small.gif HTTP/1.0\" 404 -*        |\n",
      "|h96-158.ccnet.com - - [01/Aug/1995:01:37:04 -0400] \"GET /history/apollo/a-004/a-004-patch-small.gif HTTP/1.0\" 404 -*        |\n",
      "|h96-158.ccnet.com - - [01/Aug/1995:01:37:05 -0400] \"GET /history/apollo/a-004/movies/ HTTP/1.0\" 404 -*                      |\n",
      "+----------------------------------------------------------------------------------------------------------------------------+\n",
      "only showing top 20 rows\n"
     ]
    }
   ],
   "source": [
    "from pyspark.sql.functions import lit, concat\n",
    "\n",
    "bad_content_size_df.select(concat(bad_content_size_df['value'], lit('*'))).show(truncate=False)"
   ]
  },
  {
   "cell_type": "markdown",
   "metadata": {},
   "source": [
    "Ah. The bad rows correspond to error results, where no content was sent back and the server emitted a \"`-`\" for the `content_size` field. Since we don't want to discard those rows from our analysis, let's map them to 0."
   ]
  },
  {
   "cell_type": "markdown",
   "metadata": {},
   "source": [
    "### (2d) Fix the rows with null content\\_size\n",
    "\n",
    "The easiest solution is to replace the null values in `split_df` with 0. The DataFrame API provides a set of functions and fields specifically designed for working with null values, among them:\n",
    "\n",
    "* [fillna()](https://spark.apache.org/docs/latest/api/python/reference/pyspark.sql/api/pyspark.sql.DataFrame.fillna.html), which fills null values with specified non-null values.\n",
    "* [na](http://spark.apache.org/docs/latest/api/python/reference/pyspark.sql/api/pyspark.sql.DataFrame.na), which returns a [DataFrameNaFunctions](http://spark.apache.org/docs/latest/api/python/reference/pyspark.sql/api/pyspark.sql.DataFrameNaFunctions) object with many functions for operating on null columns.\n",
    "\n",
    "We'll use `fillna()`, because it's simple. There are several ways to invoke this function. The easiest is just to replace _all_ null columns with known values. But, for safety, it's better to pass a Python dictionary containing (column\\_name, value) mappings. That's what we'll do."
   ]
  },
  {
   "cell_type": "code",
   "execution_count": 25,
   "metadata": {},
   "outputs": [],
   "source": [
    "# Replace all null content_size values with 0.\n",
    "\n",
    "cleaned_df = split_df.fillna({'content_size': 0}) # in fact, fillna() is an alias for na.fill()"
   ]
  },
  {
   "cell_type": "markdown",
   "metadata": {},
   "source": [
    "Now, let us ensure that there are no nulls left."
   ]
  },
  {
   "cell_type": "code",
   "execution_count": 26,
   "metadata": {},
   "outputs": [
    {
     "name": "stderr",
     "output_type": "stream",
     "text": [
      "[Stage 17:=============================>                            (1 + 1) / 2]"
     ]
    },
    {
     "name": "stdout",
     "output_type": "stream",
     "text": [
      "+----+---------+----+------+------------+\n",
      "|host|timestamp|path|status|content_size|\n",
      "+----+---------+----+------+------------+\n",
      "|   0|        0|   0|     0|           0|\n",
      "+----+---------+----+------+------------+\n",
      "\n"
     ]
    },
    {
     "name": "stderr",
     "output_type": "stream",
     "text": [
      "                                                                                "
     ]
    }
   ],
   "source": [
    "exprs = []\n",
    "for col_name in cleaned_df.columns:\n",
    "  exprs.append(count_null(col_name))\n",
    "\n",
    "cleaned_df.agg(*exprs).show()"
   ]
  },
  {
   "cell_type": "markdown",
   "metadata": {},
   "source": [
    "### (2e) Parsing the timestamp.\n",
    "\n",
    "Okay, now that we have a clean, parsed DataFrame, we have to parse the timestamp field into an actual timestamp. The Common Log Format time is somewhat non-standard. A User-Defined Function ([UDF](http://spark.apache.org/docs/latest/api/python/reference/pyspark.sql/api/pyspark.sql.UDFRegistration.register)) is the most straightforward way to parse it."
   ]
  },
  {
   "cell_type": "code",
   "execution_count": 27,
   "metadata": {
    "scrolled": true
   },
   "outputs": [
    {
     "name": "stdout",
     "output_type": "stream",
     "text": [
      "+--------------------+--------------------+------+------------+-------------------+\n",
      "|                host|                path|status|content_size|               time|\n",
      "+--------------------+--------------------+------+------------+-------------------+\n",
      "|  in24.inetnebr.com |/shuttle/missions...|   200|        1839|1995-08-01 00:00:01|\n",
      "|    uplherc.upl.com |                   /|   304|           0|1995-08-01 00:00:07|\n",
      "|    uplherc.upl.com |/images/ksclogo-m...|   304|           0|1995-08-01 00:00:08|\n",
      "|    uplherc.upl.com |/images/MOSAIC-lo...|   304|           0|1995-08-01 00:00:08|\n",
      "|    uplherc.upl.com |/images/USA-logos...|   304|           0|1995-08-01 00:00:08|\n",
      "|ix-esc-ca2-07.ix....|/images/launch-lo...|   200|        1713|1995-08-01 00:00:09|\n",
      "|    uplherc.upl.com |/images/WORLD-log...|   304|           0|1995-08-01 00:00:10|\n",
      "|slppp6.intermind....|/history/skylab/s...|   200|        1687|1995-08-01 00:00:10|\n",
      "|piweba4y.prodigy....|/images/launchmed...|   200|       11853|1995-08-01 00:00:10|\n",
      "|slppp6.intermind....|/history/skylab/s...|   200|        9202|1995-08-01 00:00:11|\n",
      "|slppp6.intermind....|/images/ksclogosm...|   200|        3635|1995-08-01 00:00:12|\n",
      "|ix-esc-ca2-07.ix....|/history/apollo/i...|   200|        1173|1995-08-01 00:00:12|\n",
      "|slppp6.intermind....|/history/apollo/i...|   200|        3047|1995-08-01 00:00:13|\n",
      "|    uplherc.upl.com |/images/NASA-logo...|   304|           0|1995-08-01 00:00:14|\n",
      "|       133.43.96.45 |/shuttle/missions...|   200|       10566|1995-08-01 00:00:16|\n",
      "|kgtyk4.kj.yamagat...|                   /|   200|        7280|1995-08-01 00:00:17|\n",
      "|kgtyk4.kj.yamagat...|/images/ksclogo-m...|   200|        5866|1995-08-01 00:00:18|\n",
      "|    d0ucr6.fnal.gov |/history/apollo/a...|   200|        2743|1995-08-01 00:00:19|\n",
      "|ix-esc-ca2-07.ix....|/shuttle/resource...|   200|        6849|1995-08-01 00:00:19|\n",
      "|    d0ucr6.fnal.gov |/history/apollo/a...|   200|       14897|1995-08-01 00:00:20|\n",
      "+--------------------+--------------------+------+------------+-------------------+\n",
      "only showing top 20 rows\n"
     ]
    },
    {
     "name": "stderr",
     "output_type": "stream",
     "text": [
      "                                                                                "
     ]
    }
   ],
   "source": [
    "month_map = {\n",
    "  'Jan': 1, 'Feb': 2, 'Mar':3, 'Apr':4, 'May':5, 'Jun':6, 'Jul':7,\n",
    "  'Aug':8,  'Sep': 9, 'Oct':10, 'Nov': 11, 'Dec': 12\n",
    "}\n",
    "\n",
    "def parse_clf_time(s):\n",
    "    \"\"\" Convert Common Log time format into a Python datetime object\n",
    "    Args:\n",
    "        s (str): date and time in Apache time format [dd/mmm/yyyy:hh:mm:ss (+/-)zzzz]\n",
    "    Returns:\n",
    "        a string suitable for passing to CAST('timestamp')\n",
    "    \"\"\"\n",
    "    # NOTE: We're ignoring time zone here. In a production application, you'd want to handle that.\n",
    "    return \"{0:04d}-{1:02d}-{2:02d} {3:02d}:{4:02d}:{5:02d}\".format(\n",
    "      int(s[7:11]),\n",
    "      month_map[s[3:6]],\n",
    "      int(s[0:2]),\n",
    "      int(s[12:14]),\n",
    "      int(s[15:17]),\n",
    "      int(s[18:20])\n",
    "    )\n",
    "\n",
    "u_parse_time = spark.udf.register('parse_clf_time', parse_clf_time) # register the UDF\n",
    "\n",
    "# sequence of operations: select all columns, add a new one (time), and remove the timestamp column\n",
    "logs_df = cleaned_df.select('*', u_parse_time(cleaned_df['timestamp']).cast('timestamp').alias('time')).drop('timestamp')\n",
    "\n",
    "total_log_entries = logs_df.count() # keep the total of log entries for future operations\n",
    "\n",
    "logs_df.show()"
   ]
  },
  {
   "cell_type": "code",
   "execution_count": 28,
   "metadata": {},
   "outputs": [
    {
     "name": "stdout",
     "output_type": "stream",
     "text": [
      "root\n",
      " |-- host: string (nullable = true)\n",
      " |-- path: string (nullable = true)\n",
      " |-- status: integer (nullable = true)\n",
      " |-- content_size: integer (nullable = false)\n",
      " |-- time: timestamp (nullable = true)\n",
      "\n"
     ]
    }
   ],
   "source": [
    "logs_df.printSchema()"
   ]
  },
  {
   "cell_type": "code",
   "execution_count": 29,
   "metadata": {},
   "outputs": [
    {
     "data": {
      "text/plain": [
       "DataFrame[host: string, path: string, status: int, content_size: int, time: timestamp]"
      ]
     },
     "metadata": {},
     "output_type": "display_data"
    }
   ],
   "source": [
    "display(logs_df)"
   ]
  },
  {
   "cell_type": "markdown",
   "metadata": {},
   "source": [
    "Let's cache `logs_df`. We're going to be using it quite a bit from here forward."
   ]
  },
  {
   "cell_type": "code",
   "execution_count": 30,
   "metadata": {},
   "outputs": [
    {
     "data": {
      "text/plain": [
       "DataFrame[host: string, path: string, status: int, content_size: int, time: timestamp]"
      ]
     },
     "execution_count": 30,
     "metadata": {},
     "output_type": "execute_result"
    }
   ],
   "source": [
    "logs_df.cache()"
   ]
  },
  {
   "cell_type": "markdown",
   "metadata": {
    "scrolled": true
   },
   "source": [
    "## Part 3: Analysis Walk-Through on the Web Server Log File\n",
    "\n",
    "Now that we have a DataFrame containing the parsed log file as a set of Row objects, we can perform various analyses.\n",
    "\n",
    "### (3a) Example: Content Size Statistics\n",
    "\n",
    "Let's compute some statistics about the sizes of content being returned by the web server. In particular, we'd like to know what are the average, minimum, and maximum content sizes.\n",
    "\n",
    "We can compute the statistics by calling `.describe()` on the `content_size` column of `logs_df`.  The `.describe()` function returns the count, mean, stddev, min, and max of a given column."
   ]
  },
  {
   "cell_type": "code",
   "execution_count": 31,
   "metadata": {
    "scrolled": true
   },
   "outputs": [
    {
     "name": "stderr",
     "output_type": "stream",
     "text": [
      "[Stage 24:=============================>                            (1 + 1) / 2]"
     ]
    },
    {
     "name": "stdout",
     "output_type": "stream",
     "text": [
      "+-------+------------------+\n",
      "|summary|      content_size|\n",
      "+-------+------------------+\n",
      "|  count|           1569898|\n",
      "|   mean|17089.225812122826|\n",
      "| stddev|  67954.7639215694|\n",
      "|    min|                 0|\n",
      "|    max|           3421948|\n",
      "+-------+------------------+\n",
      "\n"
     ]
    },
    {
     "name": "stderr",
     "output_type": "stream",
     "text": [
      "                                                                                "
     ]
    }
   ],
   "source": [
    "# Calculate statistics based on the content size.\n",
    "\n",
    "content_size_summary_df = logs_df.describe(['content_size'])\n",
    "\n",
    "content_size_summary_df.show()"
   ]
  },
  {
   "cell_type": "markdown",
   "metadata": {},
   "source": [
    "Alternatively, we can use SQL to directly calculate these statistics.  You can explore the many useful functions within the `pyspark.sql.functions` module in the [documentation](https://spark.apache.org/docs/3.0.0/api/python/pyspark.sql.html#module-pyspark.sql.functions).\n",
    "\n",
    "After we apply the `.agg()` function, we call `.first()` to extract the first value, which is equivalent to `.take(1)[0]`."
   ]
  },
  {
   "cell_type": "code",
   "execution_count": 32,
   "metadata": {
    "scrolled": true
   },
   "outputs": [
    {
     "name": "stdout",
     "output_type": "stream",
     "text": [
      "Using SQL functions:\n",
      "Content Size Avg: 17,089.23; Min: 0.00; Max: 3,421,948\n"
     ]
    }
   ],
   "source": [
    "import pyspark.sql.functions as sqlFunctions\n",
    "\n",
    "content_size_stats =  (logs_df\n",
    "                       .agg(sqlFunctions.min(logs_df['content_size']),\n",
    "                            sqlFunctions.avg(logs_df['content_size']),\n",
    "                            sqlFunctions.max(logs_df['content_size']))\n",
    "                       .first())\n",
    "\n",
    "print('Using SQL functions:')\n",
    "print('Content Size Avg: {1:,.2f}; Min: {0:.2f}; Max: {2:,.0f}'.format(*content_size_stats))"
   ]
  },
  {
   "cell_type": "markdown",
   "metadata": {},
   "source": [
    "### (3b) Example: HTTP Status Analysis\n",
    "\n",
    "Next, let's look at the status values that appear in the log. We want to know which status values appear in the data and how many times.  We again start with `logs_df`, then group by the `status` column, apply the `.count()` aggregation function, and sort by the `status` column."
   ]
  },
  {
   "cell_type": "code",
   "execution_count": 33,
   "metadata": {
    "scrolled": true
   },
   "outputs": [
    {
     "name": "stdout",
     "output_type": "stream",
     "text": [
      "Found 8 response codes\n",
      "+------+-------+\n",
      "|status|  count|\n",
      "+------+-------+\n",
      "|   200|1398988|\n",
      "|   302|  26497|\n",
      "|   304| 134146|\n",
      "|   400|     10|\n",
      "|   403|    171|\n",
      "|   404|  10056|\n",
      "|   500|      3|\n",
      "|   501|     27|\n",
      "+------+-------+\n",
      "\n"
     ]
    }
   ],
   "source": [
    "status_to_count_df =(logs_df\n",
    "                     .groupBy('status')\n",
    "                     .count()\n",
    "                     .sort('status')\n",
    "                     .cache())\n",
    "\n",
    "status_to_count_length = status_to_count_df.count()\n",
    "\n",
    "print ('Found %d response codes' % status_to_count_length)\n",
    "\n",
    "status_to_count_df.show()\n",
    "\n",
    "assert status_to_count_length == 8\n",
    "assert status_to_count_df.take(100) == [(200, 1398988), (302, 26497), (304, 134146), (400, 10), (403, 171), (404, 10056), (500, 3), (501, 27)]"
   ]
  },
  {
   "cell_type": "markdown",
   "metadata": {},
   "source": [
    "### (3c) Example: Status Graphing\n",
    "\n",
    "Now, let's visualize the results from the last example. We can convert the original pyspark dataframe into a [Pandas](https://pandas.pydata.org/) dataframe and then use the plot functionality. See the next cell for an example."
   ]
  },
  {
   "cell_type": "code",
   "execution_count": 34,
   "metadata": {},
   "outputs": [
    {
     "data": {
      "text/plain": [
       "<Axes: xlabel='status'>"
      ]
     },
     "execution_count": 34,
     "metadata": {},
     "output_type": "execute_result"
    },
    {
     "data": {
      "image/png": "[encoded data removed]",
      "text/plain": [
       "<Figure size 640x480 with 1 Axes>"
      ]
     },
     "metadata": {},
     "output_type": "display_data"
    }
   ],
   "source": [
    "status_to_count_df_pd = status_to_count_df.toPandas()\n",
    "\n",
    "status_to_count_df_pd.plot.bar(x='status', y='count')"
   ]
  },
  {
   "cell_type": "markdown",
   "metadata": {},
   "source": [
    "You can see that this is not a very effective plot.  Due to the large number of '200' codes, it is very hard to see the relative number of the others.  We can alleviate this by taking the logarithm of the count, adding that as a column to our DataFrame and displaying the result."
   ]
  },
  {
   "cell_type": "code",
   "execution_count": 35,
   "metadata": {},
   "outputs": [
    {
     "data": {
      "text/plain": [
       "<Axes: xlabel='status'>"
      ]
     },
     "execution_count": 35,
     "metadata": {},
     "output_type": "execute_result"
    },
    {
     "data": {
      "image/png": "[encoded data removed]",
      "text/plain": [
       "<Figure size 640x480 with 1 Axes>"
      ]
     },
     "metadata": {},
     "output_type": "display_data"
    }
   ],
   "source": [
    "log_status_to_count_df = status_to_count_df.withColumn('log(count)', sqlFunctions.log(status_to_count_df['count']))\n",
    "\n",
    "log_status_to_count_df_pd = log_status_to_count_df.toPandas()\n",
    "\n",
    "log_status_to_count_df_pd.plot.bar(x='status', y='log(count)')"
   ]
  },
  {
   "cell_type": "markdown",
   "metadata": {},
   "source": [
    "While this graph is an improvement, we might want to make more adjustments. The [`matplotlib`](http://matplotlib.org/) library can give us more control in our plot. In this case, we're essentially just reproducing the Pandas graph using `matplotlib`. However, `matplotlib` exposes far more controls than the Pandas graph, allowing you to change colors, label the axes, and more.\n",
    "\n",
    "We're using the \"Set1\" color map. See the list of Qualitative Color Maps at <http://matplotlib.org/examples/color/colormaps_reference.html> for more details. Feel free to change the color map to a different one, like \"Accent\"."
   ]
  },
  {
   "cell_type": "code",
   "execution_count": 37,
   "metadata": {
    "scrolled": true
   },
   "outputs": [
    {
     "name": "stderr",
     "output_type": "stream",
     "text": [
      "/tmp/ipykernel_4389/135583237.py:9: MatplotlibDeprecationWarning: The get_cmap function was deprecated in Matplotlib 3.7 and will be removed in 3.11. Use ``matplotlib.colormaps[name]`` or ``matplotlib.colormaps.get_cmap()`` or ``pyplot.get_cmap()`` instead.\n",
      "  cmap = plt.cm.get_cmap(colorMap)\n"
     ]
    },
    {
     "data": {
      "image/png": "[encoded data removed]",
      "text/plain": [
       "<Figure size 640x480 with 1 Axes>"
      ]
     },
     "metadata": {},
     "output_type": "display_data"
    }
   ],
   "source": [
    "import numpy as np\n",
    "import matplotlib.pyplot as plt\n",
    "\n",
    "data = log_status_to_count_df.drop('count').collect()\n",
    "x, y = zip(*data) # split status (x) and count (y)\n",
    "index = np.arange(len(x))\n",
    "bar_width = 0.7\n",
    "colorMap = 'Accent'\n",
    "cmap = plt.cm.get_cmap(colorMap)\n",
    "\n",
    "fig, ax = plt.subplots(nrows=1, ncols=1)\n",
    "plt.bar(index, y, width=bar_width, color=cmap(0))\n",
    "plt.xticks(ticks=index, labels=x) # set markers (ticks) and the respective labels in the x-axis\n",
    "plt.yticks(ticks=np.arange(0, 15, 2))\n",
    "plt.xlabel('status')\n",
    "plt.ylabel('log(count)')\n",
    "plt.title('Status graph')\n",
    "plt.show()"
   ]
  },
  {
   "cell_type": "markdown",
   "metadata": {},
   "source": [
    "### (3d) Example: Frequent Hosts\n",
    "\n",
    "Let's look at hosts that have accessed the server frequently (e.g., more than ten times). As with the response code analysis in (3b), we create a new DataFrame by grouping `logs_df` by the 'host' column and aggregating by count.\n",
    "\n",
    "We then filter the result based on the count of accesses by each host being greater than ten.  Then, we select the 'host' column and show 20 elements from the result."
   ]
  },
  {
   "cell_type": "code",
   "execution_count": 38,
   "metadata": {
    "scrolled": true
   },
   "outputs": [
    {
     "name": "stdout",
     "output_type": "stream",
     "text": [
      "Any 20 hosts that have accessed more then 10 times:\n",
      "\n"
     ]
    },
    {
     "name": "stderr",
     "output_type": "stream",
     "text": [
      "[Stage 64:>                                                         (0 + 1) / 2]"
     ]
    },
    {
     "name": "stdout",
     "output_type": "stream",
     "text": [
      "+-------------------------------+\n",
      "|host                           |\n",
      "+-------------------------------+\n",
      "|prakinf2.prakinf.tu-ilmenau.de |\n",
      "|alpha2.csd.uwm.edu             |\n",
      "|cjc07992.slip.digex.net        |\n",
      "|n1377004.ksc.nasa.gov          |\n",
      "|163.205.2.134                  |\n",
      "|huge.oso.chalmers.se           |\n",
      "|163.205.44.27                  |\n",
      "|shark.ksc.nasa.gov             |\n",
      "|etc5.etechcorp.com             |\n",
      "|dd07-029.compuserve.com        |\n",
      "|131.182.101.161                |\n",
      "|134.95.100.201                 |\n",
      "|vab08.larc.nasa.gov            |\n",
      "|ip11.iac.net                   |\n",
      "|ad11-012.compuserve.com        |\n",
      "|ad053.du.pipex.com             |\n",
      "|204.184.6.19                   |\n",
      "|p8.denver1.dialup.csn.net      |\n",
      "|gate2.gdc.com                  |\n",
      "|alcott.acsu.buffalo.edu        |\n",
      "+-------------------------------+\n",
      "only showing top 20 rows\n"
     ]
    },
    {
     "name": "stderr",
     "output_type": "stream",
     "text": [
      "                                                                                "
     ]
    }
   ],
   "source": [
    "# Any hosts that has accessed the server more than 10 times.\n",
    "host_sum_df =(logs_df\n",
    "              .groupBy('host')\n",
    "              .count())\n",
    "\n",
    "host_more_than_10_df = (host_sum_df\n",
    "                        .filter(host_sum_df['count'] > 10)\n",
    "                        .select(host_sum_df['host'])) # select only the host column\n",
    "\n",
    "print ('Any 20 hosts that have accessed more then 10 times:\\n')\n",
    "\n",
    "host_more_than_10_df.show(truncate=False)"
   ]
  },
  {
   "cell_type": "markdown",
   "metadata": {},
   "source": [
    "### (3e) Example: Visualizing Paths\n",
    "\n",
    "Now, let's visualize the number of hits to paths (URIs) in the log. To perform this task, we start with our `logs_df` and group by the `path` column, aggregate by count, and sort in descending order.\n",
    "\n",
    "Next we visualize the results using `matplotlib`. We extract the paths and the counts, and unpack the resulting list of `Rows` using a `map` function and `lambda` expression."
   ]
  },
  {
   "cell_type": "code",
   "execution_count": 39,
   "metadata": {
    "scrolled": true
   },
   "outputs": [
    {
     "name": "stderr",
     "output_type": "stream",
     "text": [
      "/tmp/ipykernel_4389/72622161.py:14: MatplotlibDeprecationWarning: The get_cmap function was deprecated in Matplotlib 3.7 and will be removed in 3.11. Use ``matplotlib.colormaps[name]`` or ``matplotlib.colormaps.get_cmap()`` or ``pyplot.get_cmap()`` instead.\n",
      "  cmap = plt.cm.get_cmap(colorMap)\n"
     ]
    },
    {
     "data": {
      "image/png": "[encoded data removed]",
      "text/plain": [
       "<Figure size 640x480 with 1 Axes>"
      ]
     },
     "metadata": {},
     "output_type": "display_data"
    }
   ],
   "source": [
    "paths_df = (logs_df\n",
    "            .groupBy('path')\n",
    "            .count()\n",
    "            .sort('count', ascending=False)) # two-column dataframe\n",
    "\n",
    "paths_counts = (paths_df\n",
    "                .select('path', 'count') # in this case, it is similar to '*'\n",
    "                .rdd.map(lambda r: (r[0], r[1]))\n",
    "                .collect())\n",
    "\n",
    "paths, counts = zip(*paths_counts)\n",
    "\n",
    "colorMap = 'Accent'\n",
    "cmap = plt.cm.get_cmap(colorMap)\n",
    "\n",
    "num_points= 1000\n",
    "index = np.arange(num_points)\n",
    "y = counts[:num_points]\n",
    "\n",
    "fig, ax = plt.subplots(nrows=1, ncols=1)#prepareSubplot(np.arange(0, 6, 1), np.arange(0, 14, 2))\n",
    "plt.plot(index, counts[:1000], color=cmap(0), linewidth=3)\n",
    "\n",
    "plt.xticks(ticks=np.arange(0, 1001, 100)) # set markers (ticks) and the respective labels in the x-axis\n",
    "plt.yticks(ticks=np.arange(0, 100001, 10000))\n",
    "plt.xlabel('Paths')\n",
    "plt.ylabel('Number of Hits')\n",
    "plt.title('Visualizing paths')\n",
    "\n",
    "plt.axhline(linewidth=2, color='#999999') # horizontal gray line (y=0)\n",
    "plt.show()"
   ]
  },
  {
   "cell_type": "markdown",
   "metadata": {},
   "source": [
    "### (3f) Example: Top Paths\n",
    "\n",
    "For the final example, we'll find the top paths (URIs) in the log.  Because we sorted `paths_df` for plotting, all we need to do is call `.show()` and pass in `n=10` and `truncate=False` as the parameters to show the top ten paths without truncating."
   ]
  },
  {
   "cell_type": "code",
   "execution_count": 40,
   "metadata": {},
   "outputs": [
    {
     "name": "stdout",
     "output_type": "stream",
     "text": [
      "Top Ten Paths:\n",
      "+---------------------------------------+-----+\n",
      "|path                                   |count|\n",
      "+---------------------------------------+-----+\n",
      "|/images/NASA-logosmall.gif             |97275|\n",
      "|/images/KSC-logosmall.gif              |75283|\n",
      "|/images/MOSAIC-logosmall.gif           |67356|\n",
      "|/images/USA-logosmall.gif              |66975|\n",
      "|/images/WORLD-logosmall.gif            |66351|\n",
      "|/images/ksclogo-medium.gif             |62670|\n",
      "|/ksc.html                              |43618|\n",
      "|/history/apollo/images/apollo-logo1.gif|37806|\n",
      "|/images/launch-logo.gif                |35119|\n",
      "|/                                      |30105|\n",
      "+---------------------------------------+-----+\n",
      "only showing top 10 rows\n",
      "1 test passed.\n"
     ]
    }
   ],
   "source": [
    "# Top Paths\n",
    "print ('Top Ten Paths:')\n",
    "paths_df.show(n=10, truncate=False)\n",
    "\n",
    "expected = [\n",
    "  (u'/images/NASA-logosmall.gif', 97275),\n",
    "  (u'/images/KSC-logosmall.gif', 75283),\n",
    "  (u'/images/MOSAIC-logosmall.gif', 67356),\n",
    "  (u'/images/USA-logosmall.gif', 66975),\n",
    "  (u'/images/WORLD-logosmall.gif', 66351),\n",
    "  (u'/images/ksclogo-medium.gif', 62670),\n",
    "  (u'/ksc.html', 43618),\n",
    "  (u'/history/apollo/images/apollo-logo1.gif', 37806),\n",
    "  (u'/images/launch-logo.gif', 35119),\n",
    "  (u'/', 30105)\n",
    "]\n",
    "\n",
    "testmti850.Test.assertEquals(paths_df.take(10), expected, 'incorrect Top Ten Paths')"
   ]
  },
  {
   "cell_type": "markdown",
   "metadata": {},
   "source": [
    "## Part 4: Analyzing Web Server Log File\n",
    "\n",
    "### Now it is your turn to perform analyses on the web server log files."
   ]
  },
  {
   "cell_type": "markdown",
   "metadata": {
    "scrolled": true
   },
   "source": [
    "**(4a) Exercise: Top Ten Error Paths**\n",
    "\n",
    "What are the top ten paths which did not have return code 200? Create a sorted list containing the paths and the number of times that they were accessed with a non-200 return code and show the top ten.\n",
    "\n",
    "Think about the steps that you need to perform to determine which paths did not have a 200 return code, how you will uniquely count those paths and sort the list."
   ]
  },
  {
   "cell_type": "code",
   "execution_count": 46,
   "metadata": {},
   "outputs": [
    {
     "name": "stdout",
     "output_type": "stream",
     "text": [
      "Top Ten failed URLs:\n",
      "+----------------------------------------+-----+\n",
      "|path                                    |count|\n",
      "+----------------------------------------+-----+\n",
      "|/images/NASA-logosmall.gif              |19072|\n",
      "|/images/KSC-logosmall.gif               |11328|\n",
      "|/images/MOSAIC-logosmall.gif            |8617 |\n",
      "|/images/USA-logosmall.gif               |8565 |\n",
      "|/images/WORLD-logosmall.gif             |8360 |\n",
      "|/images/ksclogo-medium.gif              |7722 |\n",
      "|/history/apollo/images/apollo-logo1.gif |4355 |\n",
      "|/shuttle/countdown/images/countclock.gif|4227 |\n",
      "|/images/launch-logo.gif                 |4178 |\n",
      "|/                                       |3605 |\n",
      "+----------------------------------------+-----+\n",
      "only showing top 10 rows\n",
      "9991\n"
     ]
    }
   ],
   "source": [
    "# TODO: Replace <FILL IN> with appropriate code\n",
    "\n",
    "# You are welcome to structure your solution in a different way, so long as\n",
    "# you ensure the variables used in the next Test section are defined\n",
    "\n",
    "from pyspark.sql.functions import desc\n",
    "\n",
    "# DataFrame containing all accesses that did not return a code 200\n",
    "not200DF = logs_df.filter(logs_df[\"status\"] != 200)\n",
    "\n",
    "# # Sorted DataFrame containing all paths and the number of times they were accessed with non-200 return code\n",
    "logs_sum_df = not200DF.groupBy(not200DF[\"path\"]).count().orderBy(desc(\"count\"))\n",
    "\n",
    "print ('Top Ten failed URLs:')\n",
    "logs_sum_df.show(n=10, truncate=False)\n",
    "\n",
    "print(logs_sum_df.count())"
   ]
  },
  {
   "cell_type": "code",
   "execution_count": 47,
   "metadata": {},
   "outputs": [
    {
     "name": "stdout",
     "output_type": "stream",
     "text": [
      "1 test passed.\n",
      "1 test passed.\n"
     ]
    }
   ],
   "source": [
    "# TEST Top ten error paths (4a)\n",
    "top_10_err_urls = [(row[0], row[1]) for row in logs_sum_df.take(10)]\n",
    "top_10_err_expected = [\n",
    "  (u'/images/NASA-logosmall.gif', 19072),\n",
    "  (u'/images/KSC-logosmall.gif', 11328),\n",
    "  (u'/images/MOSAIC-logosmall.gif', 8617),\n",
    "  (u'/images/USA-logosmall.gif', 8565),\n",
    "  (u'/images/WORLD-logosmall.gif', 8360),\n",
    "  (u'/images/ksclogo-medium.gif', 7722),\n",
    "  (u'/history/apollo/images/apollo-logo1.gif', 4355),\n",
    "  (u'/shuttle/countdown/images/countclock.gif', 4227), \n",
    "  (u'/images/launch-logo.gif', 4178),\n",
    "  (u'/', 3605)\n",
    "]\n",
    "testmti850.Test.assertEquals(logs_sum_df.count(), 9991, 'incorrect count for logs_sum_df')\n",
    "testmti850.Test.assertEquals(top_10_err_urls, top_10_err_expected, 'incorrect Top Ten failed URLs')"
   ]
  },
  {
   "cell_type": "markdown",
   "metadata": {
    "scrolled": true
   },
   "source": [
    "### (4b) Exercise: Number of Unique Hosts\n",
    "\n",
    "How many unique hosts are there in the entire log?\n",
    "\n",
    "There are multiple ways to find this. Try to find a more optimal way than grouping by 'host'."
   ]
  },
  {
   "cell_type": "code",
   "execution_count": 51,
   "metadata": {},
   "outputs": [
    {
     "name": "stdout",
     "output_type": "stream",
     "text": [
      "Unique hosts: 75060\n"
     ]
    }
   ],
   "source": [
    "# TODO: Replace <FILL IN> with appropriate code\n",
    "\n",
    "unique_host_count = logs_df.select(\"host\").distinct().count()\n",
    "\n",
    "print ('Unique hosts: {0}'.format(unique_host_count))"
   ]
  },
  {
   "cell_type": "code",
   "execution_count": 52,
   "metadata": {},
   "outputs": [
    {
     "name": "stdout",
     "output_type": "stream",
     "text": [
      "1 test passed.\n"
     ]
    }
   ],
   "source": [
    "# TEST Number of unique hosts (4b)\n",
    "testmti850.Test.assertEquals(unique_host_count, 75060, 'incorrect unique_host_count')"
   ]
  },
  {
   "cell_type": "markdown",
   "metadata": {},
   "source": [
    "### (4c) Exercise: Number of Unique Daily Hosts\n",
    "\n",
    "For an advanced exercise, let's determine the number of unique hosts in the entire log on a day-by-day basis. This computation will give us counts of the number of unique daily hosts. We'd like a DataFrame sorted by increasing day of the month which includes the day of the month and the associated number of unique hosts for that day. Make sure you cache the resulting DataFrame `daily_hosts_df` so that we can reuse it in the next exercise.\n",
    "\n",
    "Think about the steps that you need to perform to count the number of different hosts that make requests *each* day.\n",
    "*Since the log only covers a single month, you can ignore the month.*  You may want to use the [`dayofmonth`](https://spark.apache.org/docs/3.0.0/api/python/pyspark.sql.html#pyspark.sql.functions.dayofmonth) function in the `pyspark.sql.functions` module.\n",
    "\n",
    "**Description of each variable**\n",
    "\n",
    "**`day_to_host_pair_df`**\n",
    "\n",
    "A DataFrame with two columns\n",
    "\n",
    "| column | explanation          |\n",
    "| ------ | -------------------- |\n",
    "| `host` | the host name        |\n",
    "| `day`  | the day of the month |\n",
    "\n",
    "There will be one row in this DataFrame for each row in `logs_df`. Essentially, you're just trimming and transforming each row of `logs_df`. For example, for this row in `logs_df`:\n",
    "\n",
    "```\n",
    "gw1.att.com - - [23/Aug/1995:00:03:53 -0400] \"GET /shuttle/missions/sts-73/news HTTP/1.0\" 302 -\n",
    "```\n",
    "\n",
    "your `day_to_host_pair_df` should have:\n",
    "\n",
    "```\n",
    "gw1.att.com 23\n",
    "```\n",
    "\n",
    "**`day_group_hosts_df`**\n",
    "\n",
    "This DataFrame has the same columns as `day_to_host_pair_df`, but with duplicate (`day`, `host`) rows removed.\n",
    "\n",
    "**`daily_hosts_df`**\n",
    "\n",
    "A DataFrame with two columns:\n",
    "\n",
    "| column  | explanation                                        |\n",
    "| ------- | -------------------------------------------------- |\n",
    "| `day`   | the day of the month                               |\n",
    "| `count` | the number of unique requesting hosts for that day |"
   ]
  },
  {
   "cell_type": "code",
   "execution_count": 125,
   "metadata": {},
   "outputs": [
    {
     "name": "stdout",
     "output_type": "stream",
     "text": [
      "Unique hosts per day:\n"
     ]
    },
    {
     "name": "stderr",
     "output_type": "stream",
     "text": [
      "25/10/01 14:07:31 WARN CacheManager: Asked to cache already cached data.\n"
     ]
    },
    {
     "name": "stdout",
     "output_type": "stream",
     "text": [
      "+---+-----+\n",
      "|day|count|\n",
      "+---+-----+\n",
      "|1  |2582 |\n",
      "|3  |3222 |\n",
      "|4  |4191 |\n",
      "|5  |2502 |\n",
      "|6  |2538 |\n",
      "|7  |4108 |\n",
      "|8  |4406 |\n",
      "|9  |4317 |\n",
      "|10 |4523 |\n",
      "|11 |4346 |\n",
      "|12 |2865 |\n",
      "|13 |2650 |\n",
      "|14 |4454 |\n",
      "|15 |4214 |\n",
      "|16 |4340 |\n",
      "|17 |4385 |\n",
      "|18 |4168 |\n",
      "|19 |2550 |\n",
      "|20 |2560 |\n",
      "|21 |4135 |\n",
      "|22 |4456 |\n",
      "|23 |4368 |\n",
      "|24 |4077 |\n",
      "|25 |4407 |\n",
      "|26 |2644 |\n",
      "|27 |2690 |\n",
      "|28 |4215 |\n",
      "|29 |4826 |\n",
      "|30 |5266 |\n",
      "|31 |5916 |\n",
      "+---+-----+\n",
      "\n"
     ]
    }
   ],
   "source": [
    "# TODO: Replace <FILL IN> with appropriate code\n",
    "\n",
    "from pyspark.sql.functions import dayofmonth\n",
    "\n",
    "# logs_df.printSchema()\n",
    "\n",
    "day_to_host_pair_df = logs_df.select(dayofmonth(\"time\").alias(\"day\"),\"host\")\n",
    "# day_to_host_pair_df.show()\n",
    "\n",
    "day_group_hosts_df = day_to_host_pair_df.dropDuplicates([\"day\", \"host\"])\n",
    "\n",
    "daily_hosts_df = day_group_hosts_df.groupBy(\"day\").count().orderBy(\"day\")\n",
    "daily_hosts_df.cache()\n",
    "\n",
    "print ('Unique hosts per day:')\n",
    "\n",
    "daily_hosts_df.show(n=30, truncate=False)"
   ]
  },
  {
   "cell_type": "code",
   "execution_count": 126,
   "metadata": {},
   "outputs": [
    {
     "name": "stderr",
     "output_type": "stream",
     "text": [
      "                                                                                "
     ]
    },
    {
     "name": "stdout",
     "output_type": "stream",
     "text": [
      "1 test passed.\n",
      "1 test passed.\n",
      "1 test passed.\n",
      "1 test passed.\n"
     ]
    }
   ],
   "source": [
    "# TEST Number of unique daily hosts (4c)\n",
    "daily_hosts_list = (daily_hosts_df\n",
    "                    .rdd.map(lambda r: (r[0], r[1]))\n",
    "                    .take(30))\n",
    "daily_hosts_list_expected = [(1, 2582), (3, 3222), (4, 4191), (5, 2502), (6, 2538), (7, 4108),\n",
    "                            (8, 4406), (9, 4317), (10, 4523), (11, 4346), (12, 2865), (13, 2650),\n",
    "                            (14, 4454), (15, 4214), (16, 4340), (17, 4385), (18, 4168), (19, 2550),\n",
    "                            (20, 2560), (21, 4135), (22, 4456), (23, 4368), (24, 4077), (25, 4407),\n",
    "                            (26, 2644), (27, 2690), (28, 4215), (29, 4826), (30, 5266), (31, 5916)]\n",
    "testmti850.Test.assertEquals(day_to_host_pair_df.count(), total_log_entries, 'incorrect row count for day_to_host_pair_df')\n",
    "testmti850.Test.assertEquals(daily_hosts_df.count(), 30, 'incorrect daily_hosts_df.count()')\n",
    "testmti850.Test.assertEquals(daily_hosts_list, daily_hosts_list_expected, 'incorrect daily_hosts_df')\n",
    "testmti850.Test.assertTrue(daily_hosts_df.is_cached, 'incorrect daily_hosts_df.is_cached')"
   ]
  },
  {
   "cell_type": "markdown",
   "metadata": {},
   "source": [
    "### (4d) Exercise: Visualizing the Number of Unique Daily Hosts\n",
    "\n",
    "Using the results from the previous exercise, we will use `matplotlib` to plot a line graph of the unique hosts requests by day.  We need a list of days called `days_with_hosts` and a list of the number of unique hosts for each corresponding day called `hosts`.\n",
    "\n",
    "**WARNING**: Simply calling `collect()` on your transformed DataFrame won't work, because `collect()` returns a list of Spark SQL `Row` objects. You must _extract_ the appropriate column values from the `Row` objects. Hint: A loop will help."
   ]
  },
  {
   "cell_type": "code",
   "execution_count": 127,
   "metadata": {
    "scrolled": true
   },
   "outputs": [
    {
     "name": "stdout",
     "output_type": "stream",
     "text": [
      "[1, 3, 4, 5, 6, 7, 8, 9, 10, 11, 12, 13, 14, 15, 16, 17, 18, 19, 20, 21, 22, 23, 24, 25, 26, 27, 28, 29, 30, 31]\n",
      "[2582, 3222, 4191, 2502, 2538, 4108, 4406, 4317, 4523, 4346, 2865, 2650, 4454, 4214, 4340, 4385, 4168, 2550, 2560, 4135, 4456, 4368, 4077, 4407, 2644, 2690, 4215, 4826, 5266, 5916]\n"
     ]
    }
   ],
   "source": [
    "# TODO: Replace <FILL IN> with appropriate code\n",
    "\n",
    "rows = daily_hosts_df.collect()\n",
    "days_with_hosts = []\n",
    "hosts = []\n",
    "\n",
    "for row in rows:\n",
    "    days_with_hosts.append(row[0])\n",
    "    hosts.append(row[1])\n",
    "\n",
    "print(days_with_hosts)\n",
    "print(hosts)"
   ]
  },
  {
   "cell_type": "code",
   "execution_count": 128,
   "metadata": {},
   "outputs": [
    {
     "name": "stdout",
     "output_type": "stream",
     "text": [
      "1 test passed.\n",
      "1 test passed.\n"
     ]
    }
   ],
   "source": [
    "# TEST Visualizing unique daily hosts (4d)\n",
    "# Possible problem here with Spark 4.0 [24/09/2025]\n",
    "# To be updated\n",
    "days_with_hosts_expected = list(range(1, 32))\n",
    "days_with_hosts_expected.remove(2)\n",
    " \n",
    "hosts_expected= [2582, 3222, 4191, 2502, 2538, 4108, 4406, 4317, 4523, 4346, 2865, 2650, 4454, 4214, 4340, 4385, 4168, 2550, 2560, 4135, 4456, 4368, 4077, 4407, 2644, 2690, 4215, 4826, 5266, 5916]\n",
    "\n",
    "testmti850.Test.assertEquals(days_with_hosts, days_with_hosts_expected, 'incorrect days')\n",
    "testmti850.Test.assertEquals(hosts, hosts_expected, 'incorrect hosts')"
   ]
  },
  {
   "cell_type": "code",
   "execution_count": 65,
   "metadata": {},
   "outputs": [
    {
     "name": "stderr",
     "output_type": "stream",
     "text": [
      "/tmp/ipykernel_4389/3856202549.py:8: MatplotlibDeprecationWarning: The get_cmap function was deprecated in Matplotlib 3.7 and will be removed in 3.11. Use ``matplotlib.colormaps[name]`` or ``matplotlib.colormaps.get_cmap()`` or ``pyplot.get_cmap()`` instead.\n",
      "  cmap = plt.cm.get_cmap(colorMap)\n"
     ]
    },
    {
     "data": {
      "image/png": "[encoded data removed]",
      "text/plain": [
       "<Figure size 640x480 with 1 Axes>"
      ]
     },
     "metadata": {},
     "output_type": "display_data"
    }
   ],
   "source": [
    "# Possible problem here with Spark 4.0 [24/09/2025]\n",
    "# To be updated\n",
    "fig, ax = plt.subplots(nrows=1, ncols=1)\n",
    "\n",
    "plt.xticks(ticks=np.arange(1, max(days_with_hosts) + 5, 5))\n",
    "plt.yticks(ticks=np.arange(0, max(hosts) + 1000, 1000))\n",
    "colorMap = 'Dark2'\n",
    "cmap = plt.cm.get_cmap(colorMap)\n",
    "plt.plot(days_with_hosts, hosts, color=cmap(0), linewidth=3)\n",
    "plt.axis([0, max(days_with_hosts) + 1, 0, max(hosts) + 500])\n",
    "plt.xlabel('Day')\n",
    "plt.ylabel('Hosts')\n",
    "plt.show()"
   ]
  },
  {
   "cell_type": "markdown",
   "metadata": {},
   "source": [
    "### (4e) Exercise: Average Number of Daily Requests per Host\n",
    "\n",
    "Next, let's determine the average number of requests on a day-by-day basis.  We'd like a list by increasing day of the month and the associated average number of requests per host for that day. Make sure you cache the resulting DataFrame `avg_daily_req_per_host_df` so that we can reuse it in the next exercise.\n",
    "\n",
    "To compute the average number of requests per host, find the total number of requests per day (across all hosts) and divide that by the number of unique hosts per day (which we found in part 4c and cached as `daily_hosts_df`).\n",
    "\n",
    "*Since the log only covers a single month, you can skip checking for the month.*"
   ]
  },
  {
   "cell_type": "code",
   "execution_count": 105,
   "metadata": {},
   "outputs": [
    {
     "name": "stdout",
     "output_type": "stream",
     "text": [
      "Average number of daily requests per Hosts is:\n",
      "\n",
      "+---+-------------------------+\n",
      "|day|avg_reqs_per_host_per_day|\n",
      "+---+-------------------------+\n",
      "|  1|       13.166537567776917|\n",
      "|  3|       12.845437616387336|\n",
      "|  4|       14.210689572894298|\n",
      "|  5|       12.747002398081534|\n",
      "|  6|        12.77383766745469|\n",
      "|  7|         13.9634858812074|\n",
      "|  8|       13.653427144802542|\n",
      "|  9|        14.00463284688441|\n",
      "| 10|       13.541454786646032|\n",
      "| 11|       14.092498849516797|\n",
      "| 12|       13.288307155322862|\n",
      "| 13|       13.766037735849057|\n",
      "| 14|       13.443646160754378|\n",
      "| 15|       13.964641670621736|\n",
      "| 16|         13.0536866359447|\n",
      "| 17|       13.452223489167617|\n",
      "| 18|       13.494721689059501|\n",
      "| 19|       12.585882352941177|\n",
      "| 20|             12.876171875|\n",
      "| 21|         13.4316807738815|\n",
      "+---+-------------------------+\n",
      "only showing top 20 rows\n"
     ]
    }
   ],
   "source": [
    "# TODO: Replace <FILL IN> with appropriate code\n",
    "\n",
    "total_req_per_day_df = logs_df.groupBy(dayofmonth(\"time\").alias(\"day\")).count()\n",
    "\n",
    "# total_req_per_day_df.show()\n",
    "# daily_hosts_df.show()\n",
    "\n",
    "\n",
    "avg_daily_req_per_host_df = ( total_req_per_day_df\n",
    "    .join(daily_hosts_df, \"day\")\n",
    "    .withColumn(\"avg_reqs_per_host_per_day\", total_req_per_day_df[\"count\"] / daily_hosts_df[\"unique_hosts\"])\n",
    "    .orderBy(\"day\")\n",
    ")\n",
    "\n",
    "avg_daily_req_per_host_df = avg_daily_req_per_host_df.drop(\"count\", \"unique_hosts\")\n",
    "avg_daily_req_per_host_df.cache()\n",
    "  \n",
    "print ('Average number of daily requests per Hosts is:\\n')\n",
    "\n",
    "avg_daily_req_per_host_df.show()"
   ]
  },
  {
   "cell_type": "code",
   "execution_count": 106,
   "metadata": {},
   "outputs": [
    {
     "name": "stdout",
     "output_type": "stream",
     "text": [
      "[(1, 13), (3, 12), (4, 14), (5, 12), (6, 12), (7, 13), (8, 13), (9, 14), (10, 13), (11, 14), (12, 13), (13, 13), (14, 13), (15, 13), (16, 13), (17, 13), (18, 13), (19, 12), (20, 12), (21, 13), (22, 12), (23, 13), (24, 12), (25, 13), (26, 11), (27, 12), (28, 13), (29, 14), (30, 15), (31, 15)]\n",
      "1 test passed.\n",
      "1 test passed.\n"
     ]
    }
   ],
   "source": [
    "# TEST Average number of daily requests per hosts (4e)\n",
    "from operator import itemgetter\n",
    "\n",
    "avg_daily_req_per_host_list = (\n",
    "  avg_daily_req_per_host_df.select('day', avg_daily_req_per_host_df['avg_reqs_per_host_per_day'].cast('integer').alias('avg_requests'))\n",
    "                           .collect()\n",
    ")\n",
    "\n",
    "values = [(row[0], row[1]) for row in avg_daily_req_per_host_list]\n",
    "print(values)\n",
    "\n",
    "values_expected = [(1, 13), (3, 12), (4, 14), (5, 12), (6, 12), (7, 13), (8, 13), (9, 14), (10, 13), (11, 14), (12, 13), (13, 13), (14, 13), (15, 13), (16, 13), (17, 13), (18, 13), (19, 12), (20, 12), (21, 13), (22, 12), (23, 13), (24, 12), (25, 13), (26, 11), (27, 12), (28, 13), (29, 14), (30, 15), (31, 15)]\n",
    "testmti850.Test.assertEquals(values, values_expected, 'incorrect avgDailyReqPerHostDF')\n",
    "testmti850.Test.assertTrue(avg_daily_req_per_host_df.is_cached, 'incorrect avg_daily_req_per_host_df.is_cached')"
   ]
  },
  {
   "cell_type": "markdown",
   "metadata": {},
   "source": [
    "### (4f) Exercise: Visualizing the Average Daily Requests per Unique Host\n",
    "\n",
    "Using the result `avg_daily_req_per_host_df` from the previous exercise, use `matplotlib` to plot a line graph of the average daily requests per unique host by day.\n",
    "\n",
    "`days_with_avg` should be a list of days and `avgs` should be a list of average daily requests (as integers) per unique hosts for each corresponding day.  Hint: You will need to extract these from the Dataframe in a similar way to part 4d."
   ]
  },
  {
   "cell_type": "code",
   "execution_count": 129,
   "metadata": {},
   "outputs": [
    {
     "name": "stdout",
     "output_type": "stream",
     "text": [
      "[1, 3, 4, 5, 6, 7, 8, 9, 10, 11, 12, 13, 14, 15, 16, 17, 18, 19, 20, 21, 22, 23, 24, 25, 26, 27, 28, 29, 30, 31]\n",
      "[13, 12, 14, 12, 12, 13, 13, 14, 13, 14, 13, 13, 13, 13, 13, 13, 13, 12, 12, 13, 12, 13, 12, 13, 11, 12, 13, 14, 15, 15]\n"
     ]
    }
   ],
   "source": [
    "# TODO: Replace <FILL IN> with appropriate code\n",
    "\n",
    "rows = avg_daily_req_per_host_df.collect()\n",
    "\n",
    "days_with_avg = []\n",
    "avgs = []\n",
    "\n",
    "for row in rows:\n",
    "    days_with_avg.append(row[0])\n",
    "    avgs.append(int(row[1]))\n",
    "\n",
    "print(days_with_avg)\n",
    "\n",
    "print(avgs)"
   ]
  },
  {
   "cell_type": "code",
   "execution_count": 130,
   "metadata": {},
   "outputs": [
    {
     "name": "stdout",
     "output_type": "stream",
     "text": [
      "1 test passed.\n",
      "1 test passed.\n"
     ]
    }
   ],
   "source": [
    "# TEST Average Daily Requests per Unique Host (4f)\n",
    "days_with_avg_expected = [1, 3, 4, 5, 6, 7, 8, 9, 10, 11, 12, 13, 14, 15, 16, 17, 18, 19, 20, 21, 22, 23, 24, 25, 26, 27, 28, 29, 30, 31]\n",
    "avgs_expected = [13, 12, 14, 12, 12, 13, 13, 14, 13, 14, 13, 13, 13, 13, 13, 13, 13, 12, 12, 13, 12, 13, 12, 13, 11, 12, 13, 14, 15, 15]\n",
    "\n",
    "testmti850.Test.assertEquals(days_with_avg, days_with_avg_expected, 'incorrect days')\n",
    "testmti850.Test.assertEquals([int(a) for a in avgs], avgs_expected, 'incorrect avgs')"
   ]
  },
  {
   "cell_type": "code",
   "execution_count": 131,
   "metadata": {},
   "outputs": [
    {
     "name": "stderr",
     "output_type": "stream",
     "text": [
      "/tmp/ipykernel_4389/3595012971.py:6: MatplotlibDeprecationWarning: The get_cmap function was deprecated in Matplotlib 3.7 and will be removed in 3.11. Use ``matplotlib.colormaps[name]`` or ``matplotlib.colormaps.get_cmap()`` or ``pyplot.get_cmap()`` instead.\n",
      "  cmap = plt.cm.get_cmap(colorMap)\n"
     ]
    },
    {
     "data": {
      "image/png": "[encoded data removed]",
      "text/plain": [
       "<Figure size 640x480 with 1 Axes>"
      ]
     },
     "metadata": {},
     "output_type": "display_data"
    }
   ],
   "source": [
    "fig, ax = plt.subplots(nrows=1, ncols=1)\n",
    "\n",
    "plt.xticks(ticks=np.arange(1, max(days_with_avg) + 5, 5))\n",
    "plt.yticks(ticks=np.arange(int(min(avgs)), max(avgs) + 2, 2))\n",
    "colorMap = 'Set3'\n",
    "cmap = plt.cm.get_cmap(colorMap)\n",
    "plt.plot(days_with_avg, avgs, color=cmap(0), linewidth=3)\n",
    "plt.axis([0, max(days_with_avg), 10, max(avgs) + 2])\n",
    "plt.xlabel('Day')\n",
    "plt.ylabel('Average')\n",
    "plt.show()"
   ]
  },
  {
   "cell_type": "markdown",
   "metadata": {},
   "source": [
    "## Part 5: Exploring 404 Status Codes\n",
    "\n",
    "Let's drill down and explore the error 404 status records. We've all seen those \"404 Not Found\" web pages. 404 errors are returned when the server cannot find the resource (page or object) the browser or client requested."
   ]
  },
  {
   "cell_type": "markdown",
   "metadata": {},
   "source": [
    "### (5a) Exercise: Counting 404 Response Codes\n",
    "\n",
    "Create a DataFrame containing only log records with a 404 status code. Make sure you `cache()` `not_found_df` as we will use it in the rest of this exercise.\n",
    "\n",
    "How many 404 records are in the log?"
   ]
  },
  {
   "cell_type": "code",
   "execution_count": 137,
   "metadata": {},
   "outputs": [
    {
     "name": "stdout",
     "output_type": "stream",
     "text": [
      "Found 10056 404 URLs\n"
     ]
    },
    {
     "name": "stderr",
     "output_type": "stream",
     "text": [
      "25/10/01 14:12:13 WARN CacheManager: Asked to cache already cached data.\n"
     ]
    }
   ],
   "source": [
    "# TODO: Replace <FILL IN> with appropriate code\n",
    "# logs_df.show()\n",
    "not_found_df = logs_df.filter(logs_df[\"status\"] == 404)\n",
    "not_found_df.cache()\n",
    "\n",
    "print( ('Found {0} 404 URLs').format(not_found_df.count()) )"
   ]
  },
  {
   "cell_type": "code",
   "execution_count": 138,
   "metadata": {},
   "outputs": [
    {
     "name": "stdout",
     "output_type": "stream",
     "text": [
      "1 test passed.\n",
      "1 test passed.\n"
     ]
    }
   ],
   "source": [
    "# TEST Counting 404 (5a)\n",
    "testmti850.Test.assertEquals(not_found_df.count(), 10056, 'incorrect not_found_df.count()')\n",
    "testmti850.Test.assertTrue(not_found_df.is_cached, 'incorrect not_found_df.is_cached')"
   ]
  },
  {
   "cell_type": "markdown",
   "metadata": {},
   "source": [
    "### (5b) Exercise: Listing 404 Status Code Records\n",
    "\n",
    "Using the DataFrame containing only log records with a 404 status code that you cached in (5a), print out a list up to 40 _distinct_ paths that generate 404 errors.\n",
    "\n",
    "**No path should appear more than once in your list.**"
   ]
  },
  {
   "cell_type": "code",
   "execution_count": 140,
   "metadata": {},
   "outputs": [
    {
     "name": "stdout",
     "output_type": "stream",
     "text": [
      "404 URLS:\n",
      "\n",
      "+--------------------------------------------------------------+\n",
      "|path                                                          |\n",
      "+--------------------------------------------------------------+\n",
      "|/shuttle/missions/sts-68/images/images.html                   |\n",
      "|/history/apollo/a-001/news/                                   |\n",
      "|/history/apollo/a-003/movies/                                 |\n",
      "|/CSMT_PageNS                                                  |\n",
      "|/missions/shuttle                                             |\n",
      "|/shuttle/technology/sts-newsref/stsret-newsref/stsref-toc.html|\n",
      "|/pub/wiinvn/win3/ww16_99_.zip                                 |\n",
      "|/public.win3/winvn                                            |\n",
      "|/shuttle/sts-1/sts-1-pa.jpg                                   |\n",
      "|/history/apollo/apollo/13                                     |\n",
      "|/shuttle/missions/sts-61-a/images/                            |\n",
      "|/nssdc.gsfc.nasa.gov                                          |\n",
      "|/shuttle/technology/images/sts-comm-small.gif                 |\n",
      "|/shuttle/missions/sts-71/images/KSC-95EC-0916.txt             |\n",
      "|/shuttle/countdown/ac.html                                    |\n",
      "|/pub/winvn/docs                                               |\n",
      "|/IMAGES/RSS.GIF                                               |\n",
      "|/history/apollo/-apollo-13/apollo-3.html                      |\n",
      "|/shuttle/missions/sts-71/./video/livevideo.jpeg               |\n",
      "|/thunder                                                      |\n",
      "|/pub/winvn/readme.txt                                         |\n",
      "|/ksc.shtml                                                    |\n",
      "|/img/sportstalk3.gif                                          |\n",
      "|/home.html                                                    |\n",
      "|/shuttle/missions/sts-61a/mission-sts-61a.html                |\n",
      "|/shuttle/technology/sts-newsref/srb.html%23srb                |\n",
      "|/astronaut.*                                                  |\n",
      "|/history/apollo-12/apollo-12.html                             |\n",
      "|/elv/vidpicp.htlm                                             |\n",
      "|/history/apollo/sa-9/images/                                  |\n",
      "|/elv/FACILITIES/elvhead2.gif                                  |\n",
      "|/shuttle/missions/sts-86/mission-sts-86.html                  |\n",
      "|/history/gemini/gemini-12.html                                |\n",
      "|/histoty/apollo/aplool-13/apollo-13.html                      |\n",
      "|/hqpao/hqpao-home.html                                        |\n",
      "|/winvn/winvn.html.                                            |\n",
      "|/www.quadralay.com                                            |\n",
      "|/shuttle/missions/missionshtml                                |\n",
      "|/history/apollo/-apollo-13/apollo13.html                      |\n",
      "|/shuttle/miccions/sts-73/mission-sts-73.html                  |\n",
      "+--------------------------------------------------------------+\n",
      "only showing top 40 rows\n"
     ]
    }
   ],
   "source": [
    "# TODO: Replace <FILL IN> with appropriate code\n",
    "not_found_paths_df = not_found_df.select(\"path\")\n",
    "# not_found_paths_df.show()\n",
    "\n",
    "unique_not_found_paths_df = not_found_paths_df.dropDuplicates()\n",
    "\n",
    "print ('404 URLS:\\n')\n",
    "\n",
    "unique_not_found_paths_df.show(n=40, truncate=False)"
   ]
  },
  {
   "cell_type": "code",
   "execution_count": 141,
   "metadata": {},
   "outputs": [
    {
     "name": "stdout",
     "output_type": "stream",
     "text": [
      "1 test passed.\n"
     ]
    }
   ],
   "source": [
    "# TEST Listing 404 records (5b)\n",
    "\n",
    "bad_unique_paths_40 = set([row[0] for row in unique_not_found_paths_df.take(40)])\n",
    "testmti850.Test.assertEquals(len(bad_unique_paths_40), 40, 'bad_unique_paths_40 not distinct')"
   ]
  },
  {
   "cell_type": "markdown",
   "metadata": {},
   "source": [
    "### (5c) Exercise: Listing the Top Twenty 404 Response Code paths\n",
    "\n",
    "Using the DataFrame containing only log records with a 404 response code that you cached in part (5a), print out a list of the top twenty paths that generate the most 404 errors.\n",
    "\n",
    "*Remember, top paths should be in sorted order*"
   ]
  },
  {
   "cell_type": "code",
   "execution_count": 208,
   "metadata": {},
   "outputs": [
    {
     "name": "stdout",
     "output_type": "stream",
     "text": [
      "Top Twenty 404 URLs:\n",
      "\n",
      "+-----------------------------------------------------------------+-----+\n",
      "|path                                                             |count|\n",
      "+-----------------------------------------------------------------+-----+\n",
      "|/pub/winvn/readme.txt                                            |1337 |\n",
      "|/pub/winvn/release.txt                                           |1185 |\n",
      "|/shuttle/missions/STS-69/mission-STS-69.html                     |682  |\n",
      "|/images/nasa-logo.gif                                            |319  |\n",
      "|/shuttle/missions/sts-68/ksc-upclose.gif                         |251  |\n",
      "|/elv/DELTA/uncons.htm                                            |209  |\n",
      "|/history/apollo/sa-1/sa-1-patch-small.gif                        |200  |\n",
      "|/://spacelink.msfc.nasa.gov                                      |166  |\n",
      "|/images/crawlerway-logo.gif                                      |160  |\n",
      "|/history/apollo/a-001/a-001-patch-small.gif                      |154  |\n",
      "|/history/apollo/pad-abort-test-1/pad-abort-test-1-patch-small.gif|144  |\n",
      "|                                                                 |142  |\n",
      "|/images/Nasa-logo.gif                                            |85   |\n",
      "|/history/apollo/images/little-joe.jpg                            |84   |\n",
      "|/shuttle/resources/orbiters/discovery.gif                        |82   |\n",
      "|/shuttle/resources/orbiters/atlantis.gif                         |80   |\n",
      "|/images/lf-logo.gif                                              |77   |\n",
      "|/robots.txt                                                      |77   |\n",
      "|/shuttle/resources/orbiters/challenger.gif                       |77   |\n",
      "|/software/winvn/winvn.html.                                      |57   |\n",
      "+-----------------------------------------------------------------+-----+\n",
      "\n"
     ]
    }
   ],
   "source": [
    "# TODO: Replace <FILL IN> with appropriate code\n",
    "\n",
    "# Pour cette cellule je pense qu'il y a un problème avec la fonction test --> l'ordre attendu pour count = 77 ne suis pas l'ordre alphabétique\n",
    "\n",
    "from pyspark.sql.functions import asc\n",
    "\n",
    "top_20_not_found_df = not_found_paths_df.groupBy(\"path\").count().orderBy(desc(\"count\")).limit(20)\n",
    "\n",
    "print ('Top Twenty 404 URLs:\\n')\n",
    "\n",
    "top_20_not_found_df.show(n=20, truncate=False)"
   ]
  },
  {
   "cell_type": "code",
   "execution_count": null,
   "metadata": {},
   "outputs": [],
   "source": []
  },
  {
   "cell_type": "code",
   "execution_count": 156,
   "metadata": {},
   "outputs": [
    {
     "name": "stdout",
     "output_type": "stream",
     "text": [
      "1 test failed. incorrect top_20_not_found\n"
     ]
    }
   ],
   "source": [
    "# TEST Top twenty 404 URLs (5c)\n",
    "top_20_not_found = [(row[0], row[1]) for row in top_20_not_found_df.take(20)]\n",
    "top_20_expected = [\n",
    " (u'/pub/winvn/readme.txt', 1337),\n",
    " (u'/pub/winvn/release.txt', 1185),\n",
    " (u'/shuttle/missions/STS-69/mission-STS-69.html', 682),\n",
    " (u'/images/nasa-logo.gif', 319),\n",
    " (u'/shuttle/missions/sts-68/ksc-upclose.gif', 251),\n",
    " (u'/elv/DELTA/uncons.htm', 209),\n",
    " (u'/history/apollo/sa-1/sa-1-patch-small.gif', 200),\n",
    " (u'/://spacelink.msfc.nasa.gov', 166),\n",
    " (u'/images/crawlerway-logo.gif', 160),\n",
    " (u'/history/apollo/a-001/a-001-patch-small.gif', 154),\n",
    " (u'/history/apollo/pad-abort-test-1/pad-abort-test-1-patch-small.gif', 144),\n",
    " (u'', 142),\n",
    " (u'/images/Nasa-logo.gif', 85),\n",
    " (u'/history/apollo/images/little-joe.jpg', 84),\n",
    " (u'/shuttle/resources/orbiters/discovery.gif', 82),\n",
    " (u'/shuttle/resources/orbiters/atlantis.gif', 80),\n",
    " (u'/robots.txt', 77),\n",
    " (u'/images/lf-logo.gif', 77),\n",
    " (u'/shuttle/resources/orbiters/challenger.gif', 77),\n",
    " (u'/pub', 57)\n",
    "]\n",
    "testmti850.Test.assertEquals(top_20_not_found, top_20_expected, 'incorrect top_20_not_found')"
   ]
  },
  {
   "cell_type": "markdown",
   "metadata": {},
   "source": [
    "### (5d) Exercise: Listing the Top Twenty-five 404 Response Code Hosts\n",
    "\n",
    "Instead of looking at the paths that generated 404 errors, let's look at the hosts that encountered 404 errors. Using the DataFrame containing only log records with a 404 status codes that you cached in part (5a), print out a list of the top twenty-five hosts that generate the most 404 errors."
   ]
  },
  {
   "cell_type": "code",
   "execution_count": 164,
   "metadata": {},
   "outputs": [
    {
     "name": "stdout",
     "output_type": "stream",
     "text": [
      "Top 25 hosts that generated errors:\n",
      "\n",
      "+---------------------------+-----+\n",
      "|host                       |count|\n",
      "+---------------------------+-----+\n",
      "|dialip-217.den.mmc.com     |62   |\n",
      "|piweba3y.prodigy.com       |47   |\n",
      "|155.148.25.4               |44   |\n",
      "|maz3.maz.net               |39   |\n",
      "|gate.barr.com              |38   |\n",
      "|m38-370-9.mit.edu          |37   |\n",
      "|ts8-1.westwood.ts.ucla.edu |37   |\n",
      "|nexus.mlckew.edu.au        |37   |\n",
      "|204.62.245.32              |37   |\n",
      "|scooter.pa-x.dec.com       |35   |\n",
      "|reddragon.ksc.nasa.gov     |33   |\n",
      "|www-c4.proxy.aol.com       |32   |\n",
      "|piweba5y.prodigy.com       |31   |\n",
      "|piweba4y.prodigy.com       |30   |\n",
      "|www-d4.proxy.aol.com       |30   |\n",
      "|internet-gw.watson.ibm.com |29   |\n",
      "|unidata.com                |28   |\n",
      "|163.206.104.34             |28   |\n",
      "|spica.sci.isas.ac.jp       |27   |\n",
      "|www-d2.proxy.aol.com       |26   |\n",
      "|203.13.168.17              |25   |\n",
      "|203.13.168.24              |25   |\n",
      "|www-d1.proxy.aol.com       |23   |\n",
      "|www-c2.proxy.aol.com       |23   |\n",
      "|crl5.crl.com               |23   |\n",
      "+---------------------------+-----+\n",
      "only showing top 25 rows\n"
     ]
    }
   ],
   "source": [
    "# TODO: Replace <FILL IN> with appropriate code\n",
    "# not_found_df.show()\n",
    "hosts_404_count_df = not_found_df.select(\"host\").groupBy(\"host\").count().orderBy(desc(\"count\"))\n",
    "\n",
    "print ('Top 25 hosts that generated errors:\\n')\n",
    "\n",
    "hosts_404_count_df.show(n=25, truncate=False)"
   ]
  },
  {
   "cell_type": "code",
   "execution_count": 163,
   "metadata": {},
   "outputs": [
    {
     "name": "stdout",
     "output_type": "stream",
     "text": [
      "1 test passed.\n",
      "1 test passed.\n"
     ]
    }
   ],
   "source": [
    "# TEST Top twenty-five 404 response code hosts (4d)\n",
    "\n",
    "top_25_404 = [(row[0], row[1]) for row in hosts_404_count_df.take(25)]\n",
    "top_25_404_expected = set([\n",
    "    (u'dialip-217.den.mmc.com ', 62),\n",
    "    (u'piweba3y.prodigy.com ', 47),\n",
    "    (u'155.148.25.4 ', 44),\n",
    "    (u'maz3.maz.net ', 39),\n",
    "    (u'gate.barr.com ', 38),\n",
    "    (u'204.62.245.32 ', 37),\n",
    "    (u'nexus.mlckew.edu.au ', 37),\n",
    "    (u'ts8-1.westwood.ts.ucla.edu ', 37),\n",
    "    (u'm38-370-9.mit.edu ', 37),\n",
    "    (u'scooter.pa-x.dec.com ', 35),\n",
    "    (u'reddragon.ksc.nasa.gov ', 33),\n",
    "    (u'www-c4.proxy.aol.com ', 32),\n",
    "    (u'piweba5y.prodigy.com ', 31),\n",
    "    (u'www-d4.proxy.aol.com ', 30),\n",
    "    (u'piweba4y.prodigy.com ', 30),\n",
    "    (u'internet-gw.watson.ibm.com ', 29),\n",
    "    (u'unidata.com ', 28),\n",
    "    (u'163.206.104.34 ', 28),\n",
    "    (u'spica.sci.isas.ac.jp ', 27),\n",
    "    (u'www-d2.proxy.aol.com ', 26),\n",
    "    (u'203.13.168.17 ', 25),\n",
    "    (u'203.13.168.24 ', 25),\n",
    "    (u'www-c2.proxy.aol.com ', 23),\n",
    "    (u'www-d1.proxy.aol.com ', 23),\n",
    "    (u'crl5.crl.com ', 23)\n",
    "])\n",
    "testmti850.Test.assertEquals(len(top_25_404), 25, 'length of errHostsTop25 is not 25')\n",
    "testmti850.Test.assertEquals(len(set(top_25_404) - top_25_404_expected), 0, 'incorrect hosts_404_count_df')"
   ]
  },
  {
   "cell_type": "markdown",
   "metadata": {},
   "source": [
    "### (5e) Exercise: Listing 404 Errors per Day\n",
    "\n",
    "Let's explore the 404 records temporally. Break down the 404 requests by day (cache the `errors_by_date_sorted_df` DataFrame) and get the daily counts sorted by day in `errors_by_date_sorted_df`.\n",
    "\n",
    "*Since the log only covers a single month, you can ignore the month in your checks.*"
   ]
  },
  {
   "cell_type": "code",
   "execution_count": 173,
   "metadata": {},
   "outputs": [
    {
     "name": "stdout",
     "output_type": "stream",
     "text": [
      "404 Errors by day:\n",
      "\n",
      "+---+-----+\n",
      "|day|count|\n",
      "+---+-----+\n",
      "|  1|  243|\n",
      "|  3|  304|\n",
      "|  4|  346|\n",
      "|  5|  236|\n",
      "|  6|  373|\n",
      "|  7|  537|\n",
      "|  8|  391|\n",
      "|  9|  279|\n",
      "| 10|  315|\n",
      "| 11|  263|\n",
      "| 12|  196|\n",
      "| 13|  216|\n",
      "| 14|  287|\n",
      "| 15|  327|\n",
      "| 16|  259|\n",
      "| 17|  271|\n",
      "| 18|  256|\n",
      "| 19|  209|\n",
      "| 20|  312|\n",
      "| 21|  305|\n",
      "+---+-----+\n",
      "only showing top 20 rows\n"
     ]
    }
   ],
   "source": [
    "# TODO: Replace <FILL IN> with appropriate code\n",
    "errors_by_date_sorted_df = not_found_df.groupBy(dayofmonth(\"time\").alias(\"day\")).count().orderBy(\"day\").cache()\n",
    "\n",
    "print ('404 Errors by day:\\n')\n",
    "\n",
    "errors_by_date_sorted_df.show()"
   ]
  },
  {
   "cell_type": "code",
   "execution_count": 174,
   "metadata": {},
   "outputs": [
    {
     "name": "stdout",
     "output_type": "stream",
     "text": [
      "1 test passed.\n",
      "1 test passed.\n"
     ]
    }
   ],
   "source": [
    "# TEST 404 response codes per day (5e)\n",
    "\n",
    "errors_by_date = [(row[0], row[1]) for row in errors_by_date_sorted_df.collect()]\n",
    "errors_by_date_expected = [\n",
    "    (1, 243),\n",
    "    (3, 304),\n",
    "    (4, 346),\n",
    "    (5, 236),\n",
    "    (6, 373),\n",
    "    (7, 537),\n",
    "    (8, 391),\n",
    "    (9, 279),\n",
    "    (10, 315),\n",
    "    (11, 263),\n",
    "    (12, 196),\n",
    "    (13, 216),\n",
    "    (14, 287),\n",
    "    (15, 327),\n",
    "    (16, 259),\n",
    "    (17, 271),\n",
    "    (18, 256),\n",
    "    (19, 209),\n",
    "    (20, 312),\n",
    "    (21, 305),\n",
    "    (22, 288),\n",
    "    (23, 345),\n",
    "    (24, 420),\n",
    "    (25, 415),\n",
    "    (26, 366),\n",
    "    (27, 370),\n",
    "    (28, 410),\n",
    "    (29, 420),\n",
    "    (30, 571),\n",
    "    (31, 526)\n",
    "]\n",
    "testmti850.Test.assertEquals(errors_by_date, errors_by_date_expected, 'incorrect errors_by_date_sorted_df')\n",
    "testmti850.Test.assertTrue(errors_by_date_sorted_df.is_cached, 'incorrect errors_by_date_sorted_df.is_cached')"
   ]
  },
  {
   "cell_type": "markdown",
   "metadata": {},
   "source": [
    "### (5f) Exercise: Visualizing the 404 Errors by Day\n",
    "\n",
    "Using the results from the previous exercise, use `matplotlib` to plot a line or bar graph of the 404 response codes by day.\n",
    "\n",
    "**Hint**: You'll need to use the same technique you used in (4f)."
   ]
  },
  {
   "cell_type": "code",
   "execution_count": 175,
   "metadata": {},
   "outputs": [
    {
     "name": "stdout",
     "output_type": "stream",
     "text": [
      "[1, 3, 4, 5, 6, 7, 8, 9, 10, 11, 12, 13, 14, 15, 16, 17, 18, 19, 20, 21, 22, 23, 24, 25, 26, 27, 28, 29, 30, 31]\n",
      "[243, 304, 346, 236, 373, 537, 391, 279, 315, 263, 196, 216, 287, 327, 259, 271, 256, 209, 312, 305, 288, 345, 420, 415, 366, 370, 410, 420, 571, 526]\n"
     ]
    }
   ],
   "source": [
    "# TODO: Replace <FILL IN> with appropriate code\n",
    "\n",
    "\n",
    "rows = errors_by_date_sorted_df.collect()\n",
    "days_with_errors_404 = []\n",
    "errors_404_by_day = []\n",
    "\n",
    "for row in rows:\n",
    "    days_with_errors_404.append(row[0])\n",
    "    errors_404_by_day.append(row[1])\n",
    "    \n",
    "print (days_with_errors_404)\n",
    "\n",
    "print (errors_404_by_day)"
   ]
  },
  {
   "cell_type": "code",
   "execution_count": 176,
   "metadata": {},
   "outputs": [
    {
     "name": "stdout",
     "output_type": "stream",
     "text": [
      "1 test passed.\n",
      "1 test passed.\n"
     ]
    }
   ],
   "source": [
    "# TEST Visualizing the 404 Response Codes by Day (4f)\n",
    "days_with_errors_404_expected = [1, 3, 4, 5, 6, 7, 8, 9, 10, 11, 12, 13, 14, 15, 16, 17, 18, 19, 20, 21, 22, 23, 24, 25, 26, 27, 28, 29, 30, 31]\n",
    "errors_404_by_day_expected = [243, 304, 346, 236, 373, 537, 391, 279, 315, 263, 196, 216, 287, 327, 259, 271, 256, 209, 312, 305, 288, 345, 420, 415, 366, 370, 410, 420, 571, 526]\n",
    "testmti850.Test.assertEquals(days_with_errors_404, days_with_errors_404_expected, 'incorrect days_with_errors_404')\n",
    "testmti850.Test.assertEquals(errors_404_by_day, errors_404_by_day_expected, 'incorrect errors_404_by_day')"
   ]
  },
  {
   "cell_type": "code",
   "execution_count": 177,
   "metadata": {},
   "outputs": [
    {
     "name": "stderr",
     "output_type": "stream",
     "text": [
      "/tmp/ipykernel_4389/3859014693.py:5: MatplotlibDeprecationWarning: The get_cmap function was deprecated in Matplotlib 3.7 and will be removed in 3.11. Use ``matplotlib.colormaps[name]`` or ``matplotlib.colormaps.get_cmap()`` or ``pyplot.get_cmap()`` instead.\n",
      "  cmap = plt.cm.get_cmap(colorMap)\n"
     ]
    },
    {
     "data": {
      "image/png": "[encoded data removed]",
      "text/plain": [
       "<Figure size 640x480 with 1 Axes>"
      ]
     },
     "metadata": {},
     "output_type": "display_data"
    }
   ],
   "source": [
    "fig, ax = plt.subplots(nrows=1, ncols=1)\n",
    "plt.xticks(ticks=np.arange(1, max(days_with_errors_404) + 5, 5))\n",
    "plt.yticks(ticks=np.arange(0, max(errors_404_by_day) + 100, 100))\n",
    "colorMap = 'rainbow'\n",
    "cmap = plt.cm.get_cmap(colorMap)\n",
    "plt.plot(days_with_errors_404, errors_404_by_day, color=cmap(0), linewidth=3)\n",
    "plt.axis([0, max(days_with_errors_404), 0, max(errors_404_by_day) + 100])\n",
    "plt.xlabel('Day')\n",
    "plt.ylabel('404 Errors')\n",
    "plt.show()"
   ]
  },
  {
   "cell_type": "markdown",
   "metadata": {},
   "source": [
    "### (5g) Exercise: Top Five Days for 404 Errors\n",
    "\n",
    "Using the DataFrame `errors_by_date_sorted_df` you cached in the part (5e), what are the top five days for 404 errors and the corresponding counts of 404 errors?"
   ]
  },
  {
   "cell_type": "code",
   "execution_count": 191,
   "metadata": {},
   "outputs": [
    {
     "name": "stdout",
     "output_type": "stream",
     "text": [
      "Top Five Dates for 404 Requests:\n",
      "\n",
      "+---+-----+\n",
      "|day|count|\n",
      "+---+-----+\n",
      "| 30|  571|\n",
      "|  7|  537|\n",
      "| 31|  526|\n",
      "| 29|  420|\n",
      "| 24|  420|\n",
      "+---+-----+\n",
      "\n"
     ]
    }
   ],
   "source": [
    "# TODO: Replace <FILL IN> with appropriate code\n",
    "#errors_by_date_sorted_df.show(31)\n",
    "top_err_date_df = errors_by_date_sorted_df.orderBy(desc(\"count\")).limit(5)\n",
    "\n",
    "print ('Top Five Dates for 404 Requests:\\n')\n",
    "\n",
    "top_err_date_df.show(5)"
   ]
  },
  {
   "cell_type": "code",
   "execution_count": 192,
   "metadata": {},
   "outputs": [
    {
     "name": "stdout",
     "output_type": "stream",
     "text": [
      "1 test passed.\n"
     ]
    }
   ],
   "source": [
    "# TEST Five dates for 404 requests (4g)\n",
    "top_err_date_list = [(col1, col2) for col1, col2 in top_err_date_df.take(5)]\n",
    "top_err_date_list_expected = [(30, 571), (7, 537), (31, 526), (29, 420), (24, 420)]\n",
    "testmti850.Test.assertEquals(top_err_date_list, top_err_date_list_expected, 'incorrect top_err_date_df')"
   ]
  },
  {
   "cell_type": "markdown",
   "metadata": {},
   "source": [
    "### (5h) Exercise: Hourly 404 Errors\n",
    "\n",
    "Using the DataFrame `not_found_df` you cached in the part (5a) and sorting by hour of the day in increasing order, create a DataFrame containing the number of requests that had a 404 return code for each hour of the day (midnight starts at 0). Cache the resulting DataFrame `hour_records_sorted_df` and print that as a list."
   ]
  },
  {
   "cell_type": "code",
   "execution_count": 201,
   "metadata": {},
   "outputs": [
    {
     "name": "stdout",
     "output_type": "stream",
     "text": [
      "Top hours for 404 requests:\n",
      "\n",
      "+----+-----+\n",
      "|hour|count|\n",
      "+----+-----+\n",
      "|   0|  344|\n",
      "|   1|  327|\n",
      "|   2|  600|\n",
      "|   3|  363|\n",
      "|   4|  183|\n",
      "|   5|  160|\n",
      "|   6|  135|\n",
      "|   7|  218|\n",
      "|   8|  340|\n",
      "|   9|  359|\n",
      "|  10|  492|\n",
      "|  11|  428|\n",
      "|  12|  651|\n",
      "|  13|  614|\n",
      "|  14|  522|\n",
      "|  15|  549|\n",
      "|  16|  550|\n",
      "|  17|  586|\n",
      "|  18|  425|\n",
      "|  19|  440|\n",
      "|  20|  432|\n",
      "|  21|  434|\n",
      "|  22|  430|\n",
      "|  23|  474|\n",
      "+----+-----+\n",
      "\n"
     ]
    }
   ],
   "source": [
    "# TODO: Replace <FILL IN> with appropriate code\n",
    "\n",
    "from pyspark.sql.functions import hour\n",
    "\n",
    "hour_records_sorted_df = not_found_df.groupBy(hour(\"time\").alias(\"hour\")).count().orderBy(\"hour\").cache()\n",
    "\n",
    "print ('Top hours for 404 requests:\\n')\n",
    "\n",
    "hour_records_sorted_df.show(24)"
   ]
  },
  {
   "cell_type": "code",
   "execution_count": 202,
   "metadata": {},
   "outputs": [
    {
     "name": "stdout",
     "output_type": "stream",
     "text": [
      "(0, 344)\n",
      "(1, 327)\n",
      "(2, 600)\n",
      "(3, 363)\n",
      "(4, 183)\n",
      "(5, 160)\n",
      "(6, 135)\n",
      "(7, 218)\n",
      "(8, 340)\n",
      "(9, 359)\n",
      "(10, 492)\n",
      "(11, 428)\n",
      "(12, 651)\n",
      "(13, 614)\n",
      "(14, 522)\n",
      "(15, 549)\n",
      "(16, 550)\n",
      "(17, 586)\n",
      "(18, 425)\n",
      "(19, 440)\n",
      "(20, 432)\n",
      "(21, 434)\n",
      "(22, 430)\n",
      "(23, 474)\n",
      "1 test passed.\n",
      "1 test passed.\n"
     ]
    }
   ],
   "source": [
    "# TEST Hourly 404 response codes (5h)\n",
    "\n",
    "errs_by_hour = [(col1, col2) for col1, col2 in hour_records_sorted_df.collect()]\n",
    "for x in errs_by_hour:\n",
    "    print(x)\n",
    "    \n",
    "errs_by_hour_expected = [\n",
    "    (0, 344),\n",
    "    (1, 327),\n",
    "    (2, 600),\n",
    "    (3, 363),\n",
    "    (4, 183),\n",
    "    (5, 160),\n",
    "    (6, 135),\n",
    "    (7, 218),\n",
    "    (8, 340),\n",
    "    (9, 359),\n",
    "    (10, 492),\n",
    "    (11, 428),\n",
    "    (12, 651),\n",
    "    (13, 614),\n",
    "    (14, 522),\n",
    "    (15, 549),\n",
    "    (16, 550),\n",
    "    (17, 586),\n",
    "    (18, 425),\n",
    "    (19, 440),\n",
    "    (20, 432),\n",
    "    (21, 434),\n",
    "    (22, 430),\n",
    "    (23, 474),\n",
    "]\n",
    "testmti850.Test.assertEquals(errs_by_hour, errs_by_hour_expected, 'incorrect errs_by_hour')\n",
    "testmti850.Test.assertTrue(hour_records_sorted_df.is_cached, 'incorrect hour_records_sorted_df.is_cached')"
   ]
  },
  {
   "cell_type": "markdown",
   "metadata": {},
   "source": [
    "### (5i) Exercise: Visualizing the 404 Response Codes by Hour\n",
    "\n",
    "Using the results from the previous exercise, use `matplotlib` to plot a line or bar graph of the 404 response codes by hour."
   ]
  },
  {
   "cell_type": "code",
   "execution_count": 203,
   "metadata": {},
   "outputs": [
    {
     "name": "stdout",
     "output_type": "stream",
     "text": [
      "[0, 1, 2, 3, 4, 5, 6, 7, 8, 9, 10, 11, 12, 13, 14, 15, 16, 17, 18, 19, 20, 21, 22, 23]\n",
      "[344, 327, 600, 363, 183, 160, 135, 218, 340, 359, 492, 428, 651, 614, 522, 549, 550, 586, 425, 440, 432, 434, 430, 474]\n"
     ]
    }
   ],
   "source": [
    "# TODO: Replace <FILL IN> with appropriate code\n",
    "\n",
    "rows = hour_records_sorted_df.collect()\n",
    "hours_with_not_found = []\n",
    "not_found_counts_per_hour = []\n",
    "\n",
    "for row in rows : \n",
    "    hours_with_not_found.append(row[0])\n",
    "    not_found_counts_per_hour.append(row[1])\n",
    "\n",
    "print(hours_with_not_found)\n",
    "\n",
    "print(not_found_counts_per_hour)"
   ]
  },
  {
   "cell_type": "code",
   "execution_count": 204,
   "metadata": {},
   "outputs": [
    {
     "name": "stdout",
     "output_type": "stream",
     "text": [
      "1 test passed.\n",
      "1 test passed.\n"
     ]
    }
   ],
   "source": [
    "# TEST Visualizing the 404 Response Codes by Hour (5i)\n",
    "hours_with_not_found_expected = [0, 1, 2, 3, 4, 5, 6, 7, 8, 9, 10, 11, 12, 13, 14, 15, 16, 17, 18, 19, 20, 21, 22, 23]\n",
    "not_found_counts_per_hour_expected = [344, 327, 600, 363, 183, 160, 135, 218, 340, 359, 492, 428, 651, 614, 522, 549, 550, 586, 425, 440, 432, 434, 430, 474]\n",
    "testmti850.Test.assertEquals(hours_with_not_found, hours_with_not_found_expected, 'incorrect hours_with_not_found')\n",
    "testmti850.Test.assertEquals(not_found_counts_per_hour, not_found_counts_per_hour_expected, 'incorrect not_found_counts_per_hour')"
   ]
  },
  {
   "cell_type": "code",
   "execution_count": 205,
   "metadata": {},
   "outputs": [
    {
     "data": {
      "image/png": "[encoded data removed]",
      "text/plain": [
       "<Figure size 640x480 with 1 Axes>"
      ]
     },
     "metadata": {},
     "output_type": "display_data"
    }
   ],
   "source": [
    "fig, ax = plt.subplots(nrows=1, ncols=1)\n",
    "plt.xticks(ticks=np.arange(0, 24, 2))\n",
    "plt.yticks(ticks=np.arange(0, max(not_found_counts_per_hour) + 100, 100))\n",
    "colorMap = 'seismic'\n",
    "plt.plot(hours_with_not_found, not_found_counts_per_hour, color=cmap(0), linewidth=3)\n",
    "plt.axis([0, max(hours_with_not_found), 0, max(not_found_counts_per_hour)])\n",
    "plt.xlabel('Hour')\n",
    "plt.ylabel('404 Errors')\n",
    "plt.show()"
   ]
  },
  {
   "cell_type": "markdown",
   "metadata": {},
   "source": [
    "## Notebook Finished"
   ]
  }
 ],
 "metadata": {
  "kernelspec": {
   "display_name": "Python 3 (ipykernel)",
   "language": "python",
   "name": "python3"
  },
  "language_info": {
   "codemirror_mode": {
    "name": "ipython",
    "version": 3
   },
   "file_extension": ".py",
   "mimetype": "text/x-python",
   "name": "python",
   "nbconvert_exporter": "python",
   "pygments_lexer": "ipython3",
   "version": "3.13.5"
  }
 },
 "nbformat": 4,
 "nbformat_minor": 4
}
